{
  "nbformat": 4,
  "nbformat_minor": 5,
  "metadata": {
    "kernelspec": {
      "display_name": "Python 3",
      "language": "python",
      "name": "python3"
    },
    "language_info": {
      "codemirror_mode": {
        "name": "ipython",
        "version": 3
      },
      "file_extension": ".py",
      "mimetype": "text/x-python",
      "name": "python",
      "nbconvert_exporter": "python",
      "pygments_lexer": "ipython3",
      "version": "3.8.6"
    },
    "colab": {
      "name": "CitizensWikipediaPart1.ipynb",
      "provenance": [],
      "collapsed_sections": [],
      "include_colab_link": true
    }
  },
  "cells": [
    {
      "cell_type": "markdown",
      "metadata": {
        "id": "view-in-github",
        "colab_type": "text"
      },
      "source": [
        "<a href=\"https://colab.research.google.com/github/JonatasLemos/DataAnalysisProjects/blob/main/wikipediaAnalysis/CitizensWikipediaPart1.ipynb\" target=\"_parent\"><img src=\"https://colab.research.google.com/assets/colab-badge.svg\" alt=\"Open In Colab\"/></a>"
      ]
    },
    {
      "cell_type": "markdown",
      "metadata": {
        "id": "careful-comparative"
      },
      "source": [
        "# Data Cleaning - Scraped data from wikipedia using Scrapy crawler\n"
      ],
      "id": "careful-comparative"
    },
    {
      "cell_type": "code",
      "metadata": {
        "id": "diverse-return"
      },
      "source": [
        "import pandas as pd\n",
        "import json"
      ],
      "id": "diverse-return",
      "execution_count": null,
      "outputs": []
    },
    {
      "cell_type": "code",
      "metadata": {
        "colab": {
          "base_uri": "https://localhost:8080/"
        },
        "id": "TReE2Up05rph",
        "outputId": "fcdfe616-d032-42f3-e6b1-b592dae04ca4"
      },
      "source": [
        "from google.colab import drive\n",
        "drive.mount('/content/drive')"
      ],
      "id": "TReE2Up05rph",
      "execution_count": null,
      "outputs": [
        {
          "output_type": "stream",
          "text": [
            "Drive already mounted at /content/drive; to attempt to forcibly remount, call drive.mount(\"/content/drive\", force_remount=True).\n"
          ],
          "name": "stdout"
        }
      ]
    },
    {
      "cell_type": "markdown",
      "metadata": {
        "id": "j94cvpPkEdsW"
      },
      "source": [
        "##Crawler details\n",
        "\n",
        "```\n",
        "import scrapy\n",
        "\n",
        "class WikipediaSpider(scrapy.Spider):\n",
        "    name = 'wikipedia'\n",
        "    start_urls = ['https://pt.wikipedia.org/w/index.php?title=Categoria:Naturais_de_Minas_Gerais']\n",
        "    def parse(self, response):\n",
        "\n",
        "        yield {'nome': response.css('div.CategoryTreeItem > a::text').getall(),\n",
        "              'numero':response.css('div.CategoryTreeItem > span[dir~=ltr]::text').getall() }\n",
        "\n",
        "        extra_urls = [\"Itamonte%0ANaturais+de+Itamonte\", \"Sao+Roque+Minas%0ANaturais+de+São+Roque+de+Minas\"]\n",
        "        for url in extra_urls:\n",
        "            yield scrapy.Request(\n",
        "                url=f\"{self.start_urls[0]}&subcatfrom={url}#mw-subcategories\",\n",
        "                callback=self.parse)\n",
        "```\n",
        "\n"
      ],
      "id": "j94cvpPkEdsW"
    },
    {
      "cell_type": "markdown",
      "metadata": {
        "id": "regional-wichita"
      },
      "source": [
        "## Creating DF from JSON file with scrapped data\n"
      ],
      "id": "regional-wichita"
    },
    {
      "cell_type": "code",
      "metadata": {
        "id": "amended-halifax"
      },
      "source": [
        "path_start = \"/content/drive/MyDrive/Colab Data/\"\n",
        "f = open(f'{path_start}wiki.json')\n",
        "cities = json.load(f)"
      ],
      "id": "amended-halifax",
      "execution_count": null,
      "outputs": []
    },
    {
      "cell_type": "code",
      "metadata": {
        "colab": {
          "base_uri": "https://localhost:8080/"
        },
        "id": "Hphf0r5NBg4n",
        "outputId": "8bcb1ef0-ef3c-433b-cbde-4c011e89eb8f"
      },
      "source": [
        "len(cities[0][\"nome\"])"
      ],
      "id": "Hphf0r5NBg4n",
      "execution_count": null,
      "outputs": [
        {
          "output_type": "execute_result",
          "data": {
            "text/plain": [
              "200"
            ]
          },
          "metadata": {
            "tags": []
          },
          "execution_count": 4
        }
      ]
    },
    {
      "cell_type": "code",
      "metadata": {
        "id": "EEo1qchOIeXV"
      },
      "source": [
        "city_names,n_of_citizens = [],[]\n",
        "for i in range(len(cities)):\n",
        "  city_names.extend(cities[i][\"nome\"])\n",
        "  n_of_citizens.extend(cities[i][\"numero\"])"
      ],
      "id": "EEo1qchOIeXV",
      "execution_count": null,
      "outputs": []
    },
    {
      "cell_type": "code",
      "metadata": {
        "colab": {
          "base_uri": "https://localhost:8080/",
          "height": 203
        },
        "id": "-pdimEToJOH5",
        "outputId": "0136afc7-c47b-4df5-e6a6-27a23beff42c"
      },
      "source": [
        "df_cities = pd.DataFrame({\"CIDADE\":city_names,\"CIDADAOS ILUSTRES\":n_of_citizens})\n",
        "df_cities.head()"
      ],
      "id": "-pdimEToJOH5",
      "execution_count": null,
      "outputs": [
        {
          "output_type": "execute_result",
          "data": {
            "text/html": [
              "<div>\n",
              "<style scoped>\n",
              "    .dataframe tbody tr th:only-of-type {\n",
              "        vertical-align: middle;\n",
              "    }\n",
              "\n",
              "    .dataframe tbody tr th {\n",
              "        vertical-align: top;\n",
              "    }\n",
              "\n",
              "    .dataframe thead th {\n",
              "        text-align: right;\n",
              "    }\n",
              "</style>\n",
              "<table border=\"1\" class=\"dataframe\">\n",
              "  <thead>\n",
              "    <tr style=\"text-align: right;\">\n",
              "      <th></th>\n",
              "      <th>CIDADE</th>\n",
              "      <th>CIDADAOS ILUSTRES</th>\n",
              "    </tr>\n",
              "  </thead>\n",
              "  <tbody>\n",
              "    <tr>\n",
              "      <th>0</th>\n",
              "      <td>Naturais de Minas Gerais por ocupação</td>\n",
              "      <td>(43 C)</td>\n",
              "    </tr>\n",
              "    <tr>\n",
              "      <th>1</th>\n",
              "      <td>Naturais de Abadia dos Dourados</td>\n",
              "      <td>(4 P)</td>\n",
              "    </tr>\n",
              "    <tr>\n",
              "      <th>2</th>\n",
              "      <td>Naturais de Abaeté</td>\n",
              "      <td>(11 P)</td>\n",
              "    </tr>\n",
              "    <tr>\n",
              "      <th>3</th>\n",
              "      <td>Naturais de Abre-Campo</td>\n",
              "      <td>(2 P)</td>\n",
              "    </tr>\n",
              "    <tr>\n",
              "      <th>4</th>\n",
              "      <td>Naturais de Acaiaca</td>\n",
              "      <td>(2 P)</td>\n",
              "    </tr>\n",
              "  </tbody>\n",
              "</table>\n",
              "</div>"
            ],
            "text/plain": [
              "                                  CIDADE CIDADAOS ILUSTRES\n",
              "0  Naturais de Minas Gerais por ocupação            (43 C)\n",
              "1        Naturais de Abadia dos Dourados             (4 P)\n",
              "2                     Naturais de Abaeté            (11 P)\n",
              "3                 Naturais de Abre-Campo             (2 P)\n",
              "4                    Naturais de Acaiaca             (2 P)"
            ]
          },
          "metadata": {
            "tags": []
          },
          "execution_count": 6
        }
      ]
    },
    {
      "cell_type": "code",
      "metadata": {
        "colab": {
          "base_uri": "https://localhost:8080/"
        },
        "id": "HLrbKGyA8-YH",
        "outputId": "42c40e5f-bae8-4279-87c5-cb7c5b0d65da"
      },
      "source": [
        "df_cities.info()"
      ],
      "id": "HLrbKGyA8-YH",
      "execution_count": null,
      "outputs": [
        {
          "output_type": "stream",
          "text": [
            "<class 'pandas.core.frame.DataFrame'>\n",
            "RangeIndex: 451 entries, 0 to 450\n",
            "Data columns (total 2 columns):\n",
            " #   Column             Non-Null Count  Dtype \n",
            "---  ------             --------------  ----- \n",
            " 0   CIDADE             451 non-null    object\n",
            " 1   CIDADAOS ILUSTRES  451 non-null    object\n",
            "dtypes: object(2)\n",
            "memory usage: 7.2+ KB\n"
          ],
          "name": "stdout"
        }
      ]
    },
    {
      "cell_type": "markdown",
      "metadata": {
        "id": "entertaining-arrow"
      },
      "source": [
        "## Eliminating unwanted chars and unwanted records"
      ],
      "id": "entertaining-arrow"
    },
    {
      "cell_type": "code",
      "metadata": {
        "id": "extreme-lender",
        "colab": {
          "base_uri": "https://localhost:8080/",
          "height": 142
        },
        "outputId": "c0b80f84-eb0b-4286-e69a-acc019a3589c"
      },
      "source": [
        "df_cities[\"CIDADE\"].replace(to_replace='\\(.*|Naturais de', value='',regex=True, inplace=True)\n",
        "df_cities[\"CIDADE\"] = df_cities[\"CIDADE\"].str.strip()\n",
        "df_cities.head(3)"
      ],
      "id": "extreme-lender",
      "execution_count": null,
      "outputs": [
        {
          "output_type": "execute_result",
          "data": {
            "text/html": [
              "<div>\n",
              "<style scoped>\n",
              "    .dataframe tbody tr th:only-of-type {\n",
              "        vertical-align: middle;\n",
              "    }\n",
              "\n",
              "    .dataframe tbody tr th {\n",
              "        vertical-align: top;\n",
              "    }\n",
              "\n",
              "    .dataframe thead th {\n",
              "        text-align: right;\n",
              "    }\n",
              "</style>\n",
              "<table border=\"1\" class=\"dataframe\">\n",
              "  <thead>\n",
              "    <tr style=\"text-align: right;\">\n",
              "      <th></th>\n",
              "      <th>CIDADE</th>\n",
              "      <th>CIDADAOS ILUSTRES</th>\n",
              "    </tr>\n",
              "  </thead>\n",
              "  <tbody>\n",
              "    <tr>\n",
              "      <th>0</th>\n",
              "      <td>Minas Gerais por ocupação</td>\n",
              "      <td>(43 C)</td>\n",
              "    </tr>\n",
              "    <tr>\n",
              "      <th>1</th>\n",
              "      <td>Abadia dos Dourados</td>\n",
              "      <td>(4 P)</td>\n",
              "    </tr>\n",
              "    <tr>\n",
              "      <th>2</th>\n",
              "      <td>Abaeté</td>\n",
              "      <td>(11 P)</td>\n",
              "    </tr>\n",
              "  </tbody>\n",
              "</table>\n",
              "</div>"
            ],
            "text/plain": [
              "                      CIDADE CIDADAOS ILUSTRES\n",
              "0  Minas Gerais por ocupação            (43 C)\n",
              "1        Abadia dos Dourados             (4 P)\n",
              "2                     Abaeté            (11 P)"
            ]
          },
          "metadata": {
            "tags": []
          },
          "execution_count": 8
        }
      ]
    },
    {
      "cell_type": "code",
      "metadata": {
        "id": "3WU5aXvjtHov"
      },
      "source": [
        "df_cities.drop([0,242],inplace=True)\n",
        "df_cities[\"CIDADAOS ILUSTRES\"].unique()\n",
        "unwantedIndexes = df_cities[df_cities['CIDADAOS ILUSTRES'] == \"(vazia)\"].index\n",
        "df_cities.drop(unwantedIndexes , inplace=True) \n",
        "df_cities.reset_index(inplace=True,drop=True)"
      ],
      "id": "3WU5aXvjtHov",
      "execution_count": null,
      "outputs": []
    },
    {
      "cell_type": "markdown",
      "metadata": {
        "id": "combined-vintage"
      },
      "source": [
        "## Reading population CSV and converting it to datraframe\n",
        "### Filtering and applying some changes"
      ],
      "id": "combined-vintage"
    },
    {
      "cell_type": "code",
      "metadata": {
        "id": "alpine-relief",
        "colab": {
          "base_uri": "https://localhost:8080/",
          "height": 203
        },
        "outputId": "8c5b5d4d-7c3d-49b3-8e98-29c2edd3f889"
      },
      "source": [
        "cities_pop = pd.read_csv(f\"{path_start}sorted_cities_pop.csv\")\n",
        "cities_pop = cities_pop[cities_pop[\"STATE\"] == \"MG\"]\n",
        "cities_pop = cities_pop.drop([\"Unnamed: 0\",\"DISTANCE POP\",\"STATE\"],axis=1)\n",
        "cities_pop.head()"
      ],
      "id": "alpine-relief",
      "execution_count": null,
      "outputs": [
        {
          "output_type": "execute_result",
          "data": {
            "text/html": [
              "<div>\n",
              "<style scoped>\n",
              "    .dataframe tbody tr th:only-of-type {\n",
              "        vertical-align: middle;\n",
              "    }\n",
              "\n",
              "    .dataframe tbody tr th {\n",
              "        vertical-align: top;\n",
              "    }\n",
              "\n",
              "    .dataframe thead th {\n",
              "        text-align: right;\n",
              "    }\n",
              "</style>\n",
              "<table border=\"1\" class=\"dataframe\">\n",
              "  <thead>\n",
              "    <tr style=\"text-align: right;\">\n",
              "      <th></th>\n",
              "      <th>NAME</th>\n",
              "      <th>POPULAÇÃO ESTIMADA</th>\n",
              "    </tr>\n",
              "  </thead>\n",
              "  <tbody>\n",
              "    <tr>\n",
              "      <th>2114</th>\n",
              "      <td>Belo Horizonte/MG</td>\n",
              "      <td>2502557</td>\n",
              "    </tr>\n",
              "    <tr>\n",
              "      <th>2115</th>\n",
              "      <td>Contagem/MG</td>\n",
              "      <td>648766</td>\n",
              "    </tr>\n",
              "    <tr>\n",
              "      <th>2116</th>\n",
              "      <td>Betim/MG</td>\n",
              "      <td>417307</td>\n",
              "    </tr>\n",
              "    <tr>\n",
              "      <th>2117</th>\n",
              "      <td>Ribeirão das Neves/MG</td>\n",
              "      <td>322659</td>\n",
              "    </tr>\n",
              "    <tr>\n",
              "      <th>2118</th>\n",
              "      <td>Santa Luzia/MG</td>\n",
              "      <td>216254</td>\n",
              "    </tr>\n",
              "  </tbody>\n",
              "</table>\n",
              "</div>"
            ],
            "text/plain": [
              "                       NAME  POPULAÇÃO ESTIMADA\n",
              "2114      Belo Horizonte/MG             2502557\n",
              "2115            Contagem/MG              648766\n",
              "2116               Betim/MG              417307\n",
              "2117  Ribeirão das Neves/MG              322659\n",
              "2118         Santa Luzia/MG              216254"
            ]
          },
          "metadata": {
            "tags": []
          },
          "execution_count": 10
        }
      ]
    },
    {
      "cell_type": "code",
      "metadata": {
        "colab": {
          "base_uri": "https://localhost:8080/",
          "height": 142
        },
        "id": "pizhlR7evqbB",
        "outputId": "d7b2e3fd-d058-4185-ea45-922d5972fd4f"
      },
      "source": [
        "cities_pop[\"NAME\"] = cities_pop[\"NAME\"].str.split(\"/\").apply(lambda x:x[0])\n",
        "cities_pop.reset_index(inplace=True,drop=True)\n",
        "cities_pop.head(3)"
      ],
      "id": "pizhlR7evqbB",
      "execution_count": null,
      "outputs": [
        {
          "output_type": "execute_result",
          "data": {
            "text/html": [
              "<div>\n",
              "<style scoped>\n",
              "    .dataframe tbody tr th:only-of-type {\n",
              "        vertical-align: middle;\n",
              "    }\n",
              "\n",
              "    .dataframe tbody tr th {\n",
              "        vertical-align: top;\n",
              "    }\n",
              "\n",
              "    .dataframe thead th {\n",
              "        text-align: right;\n",
              "    }\n",
              "</style>\n",
              "<table border=\"1\" class=\"dataframe\">\n",
              "  <thead>\n",
              "    <tr style=\"text-align: right;\">\n",
              "      <th></th>\n",
              "      <th>NAME</th>\n",
              "      <th>POPULAÇÃO ESTIMADA</th>\n",
              "    </tr>\n",
              "  </thead>\n",
              "  <tbody>\n",
              "    <tr>\n",
              "      <th>0</th>\n",
              "      <td>Belo Horizonte</td>\n",
              "      <td>2502557</td>\n",
              "    </tr>\n",
              "    <tr>\n",
              "      <th>1</th>\n",
              "      <td>Contagem</td>\n",
              "      <td>648766</td>\n",
              "    </tr>\n",
              "    <tr>\n",
              "      <th>2</th>\n",
              "      <td>Betim</td>\n",
              "      <td>417307</td>\n",
              "    </tr>\n",
              "  </tbody>\n",
              "</table>\n",
              "</div>"
            ],
            "text/plain": [
              "             NAME  POPULAÇÃO ESTIMADA\n",
              "0  Belo Horizonte             2502557\n",
              "1        Contagem              648766\n",
              "2           Betim              417307"
            ]
          },
          "metadata": {
            "tags": []
          },
          "execution_count": 11
        }
      ]
    },
    {
      "cell_type": "markdown",
      "metadata": {
        "id": "normal-little"
      },
      "source": [
        "## Correcting wrong names"
      ],
      "id": "normal-little"
    },
    {
      "cell_type": "code",
      "metadata": {
        "id": "duplicate-april",
        "colab": {
          "base_uri": "https://localhost:8080/"
        },
        "outputId": "305ab815-acbd-40bc-8046-b3904aea6844"
      },
      "source": [
        "wrong_names = df_cities[~df_cities['CIDADE'].isin(cities_pop['NAME'])][\"CIDADE\"].to_list()\n",
        "wrong_names"
      ],
      "id": "duplicate-april",
      "execution_count": null,
      "outputs": [
        {
          "output_type": "execute_result",
          "data": {
            "text/plain": [
              "['Abre-Campo',\n",
              " 'Amparo da Serra',\n",
              " 'Bocaiuva',\n",
              " 'Brazópolis',\n",
              " 'Galileia',\n",
              " 'São Tomé das Letras',\n",
              " 'Passa-Quatro',\n",
              " 'São João del-Rei']"
            ]
          },
          "metadata": {
            "tags": []
          },
          "execution_count": 12
        }
      ]
    },
    {
      "cell_type": "code",
      "metadata": {
        "colab": {
          "base_uri": "https://localhost:8080/",
          "height": 203
        },
        "id": "HF14DfAK0gUJ",
        "outputId": "458078d5-493b-435f-c176-d7d3d60c43c7"
      },
      "source": [
        "correct_names = [\"Abre Campo\", \"Amparo do Serra\", \"Bocaiúva\",\"Brasópolis\",\"Galiléia\",\n",
        "                \"São Thomé das Letras\",\"Passa Quatro\", \"São João del Rei\"]       \n",
        "df_cities['CIDADE'].replace(wrong_names,correct_names,inplace=True)\n",
        "df_cities[\"CIDADAOS ILUSTRES\"].replace(to_replace='\\(|P\\)', value='', regex=True,inplace=True)\n",
        "df_cities.head()"
      ],
      "id": "HF14DfAK0gUJ",
      "execution_count": null,
      "outputs": [
        {
          "output_type": "execute_result",
          "data": {
            "text/html": [
              "<div>\n",
              "<style scoped>\n",
              "    .dataframe tbody tr th:only-of-type {\n",
              "        vertical-align: middle;\n",
              "    }\n",
              "\n",
              "    .dataframe tbody tr th {\n",
              "        vertical-align: top;\n",
              "    }\n",
              "\n",
              "    .dataframe thead th {\n",
              "        text-align: right;\n",
              "    }\n",
              "</style>\n",
              "<table border=\"1\" class=\"dataframe\">\n",
              "  <thead>\n",
              "    <tr style=\"text-align: right;\">\n",
              "      <th></th>\n",
              "      <th>CIDADE</th>\n",
              "      <th>CIDADAOS ILUSTRES</th>\n",
              "    </tr>\n",
              "  </thead>\n",
              "  <tbody>\n",
              "    <tr>\n",
              "      <th>0</th>\n",
              "      <td>Abadia dos Dourados</td>\n",
              "      <td>4</td>\n",
              "    </tr>\n",
              "    <tr>\n",
              "      <th>1</th>\n",
              "      <td>Abaeté</td>\n",
              "      <td>11</td>\n",
              "    </tr>\n",
              "    <tr>\n",
              "      <th>2</th>\n",
              "      <td>Abre Campo</td>\n",
              "      <td>2</td>\n",
              "    </tr>\n",
              "    <tr>\n",
              "      <th>3</th>\n",
              "      <td>Acaiaca</td>\n",
              "      <td>2</td>\n",
              "    </tr>\n",
              "    <tr>\n",
              "      <th>4</th>\n",
              "      <td>Açucena</td>\n",
              "      <td>1</td>\n",
              "    </tr>\n",
              "  </tbody>\n",
              "</table>\n",
              "</div>"
            ],
            "text/plain": [
              "                CIDADE CIDADAOS ILUSTRES\n",
              "0  Abadia dos Dourados                4 \n",
              "1               Abaeté               11 \n",
              "2           Abre Campo                2 \n",
              "3              Acaiaca                2 \n",
              "4              Açucena                1 "
            ]
          },
          "metadata": {
            "tags": []
          },
          "execution_count": 13
        }
      ]
    },
    {
      "cell_type": "code",
      "metadata": {
        "id": "haiOA-z8_7yi"
      },
      "source": [
        "cities_pop.rename(columns={\"NAME\": \"CIDADE\"},inplace=True)"
      ],
      "id": "haiOA-z8_7yi",
      "execution_count": null,
      "outputs": []
    },
    {
      "cell_type": "code",
      "metadata": {
        "colab": {
          "base_uri": "https://localhost:8080/"
        },
        "id": "-Q6kVed69cbG",
        "outputId": "f3a94753-6bd7-4dc9-ff6a-add8ed10280a"
      },
      "source": [
        "df_cities[\"CIDADAOS ILUSTRES\"].unique()"
      ],
      "id": "-Q6kVed69cbG",
      "execution_count": null,
      "outputs": [
        {
          "output_type": "execute_result",
          "data": {
            "text/plain": [
              "array(['4 ', '11 ', '2 ', '1 ', '12 ', '6 ', '10 ', '18 ', '3 ', '8 ',\n",
              "       '31 ', '24 ', '48 ', '624 ', '7 ', '5 ', '23 ', '19 ', '26 ',\n",
              "       '15 ', '21 ', '38 ', '20 ', '17 ', '35 ', '33 ', '9 ', '13 ',\n",
              "       '28 ', '72 ', '56 ', '154 ', '37 ', '22 ', '34 ', '29 ', '16 ',\n",
              "       '58 ', '67 '], dtype=object)"
            ]
          },
          "metadata": {
            "tags": []
          },
          "execution_count": 15
        }
      ]
    },
    {
      "cell_type": "code",
      "metadata": {
        "colab": {
          "base_uri": "https://localhost:8080/"
        },
        "id": "NzfgkKGT9pYY",
        "outputId": "715dde8d-19b9-4eb1-f13f-cfb1bafcec4a"
      },
      "source": [
        "df_cities.info()"
      ],
      "id": "NzfgkKGT9pYY",
      "execution_count": null,
      "outputs": [
        {
          "output_type": "stream",
          "text": [
            "<class 'pandas.core.frame.DataFrame'>\n",
            "RangeIndex: 447 entries, 0 to 446\n",
            "Data columns (total 2 columns):\n",
            " #   Column             Non-Null Count  Dtype \n",
            "---  ------             --------------  ----- \n",
            " 0   CIDADE             447 non-null    object\n",
            " 1   CIDADAOS ILUSTRES  447 non-null    object\n",
            "dtypes: object(2)\n",
            "memory usage: 7.1+ KB\n"
          ],
          "name": "stdout"
        }
      ]
    },
    {
      "cell_type": "markdown",
      "metadata": {
        "id": "suspected-reform"
      },
      "source": [
        "## Merging DFs using outer join "
      ],
      "id": "suspected-reform"
    },
    {
      "cell_type": "code",
      "metadata": {
        "id": "enormous-workstation",
        "colab": {
          "base_uri": "https://localhost:8080/"
        },
        "outputId": "62877d5f-bb9e-41c8-e895-104b2c41002d"
      },
      "source": [
        "df_cities = df_cities.merge(cities_pop,how='outer')\n",
        "df_cities.info()"
      ],
      "id": "enormous-workstation",
      "execution_count": null,
      "outputs": [
        {
          "output_type": "stream",
          "text": [
            "<class 'pandas.core.frame.DataFrame'>\n",
            "Int64Index: 853 entries, 0 to 852\n",
            "Data columns (total 3 columns):\n",
            " #   Column              Non-Null Count  Dtype \n",
            "---  ------              --------------  ----- \n",
            " 0   CIDADE              853 non-null    object\n",
            " 1   CIDADAOS ILUSTRES   447 non-null    object\n",
            " 2   POPULAÇÃO ESTIMADA  853 non-null    int64 \n",
            "dtypes: int64(1), object(2)\n",
            "memory usage: 26.7+ KB\n"
          ],
          "name": "stdout"
        }
      ]
    },
    {
      "cell_type": "code",
      "metadata": {
        "id": "JumDJGIT__GQ"
      },
      "source": [
        "df_cities['CIDADAOS ILUSTRES'].fillna(0,inplace=True)"
      ],
      "id": "JumDJGIT__GQ",
      "execution_count": null,
      "outputs": []
    },
    {
      "cell_type": "markdown",
      "metadata": {
        "id": "beneficial-sight"
      },
      "source": [
        "## Exporting final DF to CSV"
      ],
      "id": "beneficial-sight"
    },
    {
      "cell_type": "code",
      "metadata": {
        "id": "superb-gallery"
      },
      "source": [
        "df_cities[\"CIDADAOS ILUSTRES\"] = df_cities[\"CIDADAOS ILUSTRES\"].astype(int)\n",
        "df_cities.sort_values(by=\"CIDADAOS ILUSTRES\",ascending=False,inplace=True)\n",
        "df_cities.to_csv(f'{path_start}merged_cities_famous.csv')"
      ],
      "id": "superb-gallery",
      "execution_count": null,
      "outputs": []
    }
  ]
}