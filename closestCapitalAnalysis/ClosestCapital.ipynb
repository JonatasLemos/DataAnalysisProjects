{
  "nbformat": 4,
  "nbformat_minor": 5,
  "metadata": {
    "colab": {
      "name": "ClosestCapital.ipynb",
      "provenance": [],
      "collapsed_sections": [
        "serious-earth",
        "ZLsxuMaE3qU-",
        "integral-circle",
        "derived-forth",
        "speaking-trust",
        "upset-seafood",
        "failing-energy"
      ],
      "include_colab_link": true
    },
    "kernelspec": {
      "display_name": "Python 3",
      "language": "python",
      "name": "python3"
    },
    "language_info": {
      "codemirror_mode": {
        "name": "ipython",
        "version": 3
      },
      "file_extension": ".py",
      "mimetype": "text/x-python",
      "name": "python",
      "nbconvert_exporter": "python",
      "pygments_lexer": "ipython3",
      "version": "3.8.6"
    }
  },
  "cells": [
    {
      "cell_type": "markdown",
      "metadata": {
        "id": "view-in-github",
        "colab_type": "text"
      },
      "source": [
        "<a href=\"https://colab.research.google.com/github/JonatasLemos/DataAnalysisProjects/blob/main/closestCapitalAnalysis/ClosestCapital.ipynb\" target=\"_parent\"><img src=\"https://colab.research.google.com/assets/colab-badge.svg\" alt=\"Open In Colab\"/></a>"
      ]
    },
    {
      "cell_type": "markdown",
      "metadata": {
        "id": "grand-finding"
      },
      "source": [
        "# Closest Capital Analysis "
      ],
      "id": "grand-finding"
    },
    {
      "cell_type": "code",
      "metadata": {
        "colab": {
          "base_uri": "https://localhost:8080/"
        },
        "id": "DmT1Lz6eHvFD",
        "outputId": "df9c311d-d1a1-41ad-e0e4-ff82821e4bee"
      },
      "source": [
        "from google.colab import drive\n",
        "drive.mount('/content/drive')"
      ],
      "id": "DmT1Lz6eHvFD",
      "execution_count": null,
      "outputs": [
        {
          "output_type": "stream",
          "text": [
            "Drive already mounted at /content/drive; to attempt to forcibly remount, call drive.mount(\"/content/drive\", force_remount=True).\n"
          ],
          "name": "stdout"
        }
      ]
    },
    {
      "cell_type": "code",
      "metadata": {
        "id": "disturbed-prototype"
      },
      "source": [
        "import pandas as pd\n",
        "import numpy as np\n",
        "import matplotlib.pyplot as plt"
      ],
      "id": "disturbed-prototype",
      "execution_count": null,
      "outputs": []
    },
    {
      "cell_type": "markdown",
      "metadata": {
        "id": "serious-earth"
      },
      "source": [
        "## Reading csv,adding STATE column and creating DF with state capitals"
      ],
      "id": "serious-earth"
    },
    {
      "cell_type": "code",
      "metadata": {
        "id": "elementary-carbon"
      },
      "source": [
        "distance_cities = pd.read_csv(\"/content/drive/MyDrive/Colab Data/closest_capital.csv\")"
      ],
      "id": "elementary-carbon",
      "execution_count": null,
      "outputs": []
    },
    {
      "cell_type": "code",
      "metadata": {
        "colab": {
          "base_uri": "https://localhost:8080/",
          "height": 203
        },
        "id": "apparent-vocabulary",
        "outputId": "e7c3d72b-d1f1-46ab-d203-daee4a11100f"
      },
      "source": [
        "distance_cities[\"STATE\"]  = distance_cities[\"NAME\"].str.split(\"/\").apply(lambda x:x[-1])\n",
        "distance_cities.head()"
      ],
      "id": "apparent-vocabulary",
      "execution_count": null,
      "outputs": [
        {
          "output_type": "execute_result",
          "data": {
            "text/html": [
              "<div>\n",
              "<style scoped>\n",
              "    .dataframe tbody tr th:only-of-type {\n",
              "        vertical-align: middle;\n",
              "    }\n",
              "\n",
              "    .dataframe tbody tr th {\n",
              "        vertical-align: top;\n",
              "    }\n",
              "\n",
              "    .dataframe thead th {\n",
              "        text-align: right;\n",
              "    }\n",
              "</style>\n",
              "<table border=\"1\" class=\"dataframe\">\n",
              "  <thead>\n",
              "    <tr style=\"text-align: right;\">\n",
              "      <th></th>\n",
              "      <th>NAME</th>\n",
              "      <th>NEAR_FID</th>\n",
              "      <th>NEAR_DIST</th>\n",
              "      <th>STATE</th>\n",
              "    </tr>\n",
              "  </thead>\n",
              "  <tbody>\n",
              "    <tr>\n",
              "      <th>0</th>\n",
              "      <td>Aracaju/SE</td>\n",
              "      <td>1</td>\n",
              "      <td>1.279808e-10</td>\n",
              "      <td>SE</td>\n",
              "    </tr>\n",
              "    <tr>\n",
              "      <th>1</th>\n",
              "      <td>Belém/PA</td>\n",
              "      <td>2</td>\n",
              "      <td>1.580439e-10</td>\n",
              "      <td>PA</td>\n",
              "    </tr>\n",
              "    <tr>\n",
              "      <th>2</th>\n",
              "      <td>Belo Horizonte/MG</td>\n",
              "      <td>3</td>\n",
              "      <td>5.696375e-10</td>\n",
              "      <td>MG</td>\n",
              "    </tr>\n",
              "    <tr>\n",
              "      <th>3</th>\n",
              "      <td>Boa Vista/RR</td>\n",
              "      <td>4</td>\n",
              "      <td>3.281908e-10</td>\n",
              "      <td>RR</td>\n",
              "    </tr>\n",
              "    <tr>\n",
              "      <th>4</th>\n",
              "      <td>Brasília/DF</td>\n",
              "      <td>5</td>\n",
              "      <td>4.157356e-10</td>\n",
              "      <td>DF</td>\n",
              "    </tr>\n",
              "  </tbody>\n",
              "</table>\n",
              "</div>"
            ],
            "text/plain": [
              "                NAME  NEAR_FID     NEAR_DIST STATE\n",
              "0         Aracaju/SE         1  1.279808e-10    SE\n",
              "1           Belém/PA         2  1.580439e-10    PA\n",
              "2  Belo Horizonte/MG         3  5.696375e-10    MG\n",
              "3       Boa Vista/RR         4  3.281908e-10    RR\n",
              "4        Brasília/DF         5  4.157356e-10    DF"
            ]
          },
          "metadata": {
            "tags": []
          },
          "execution_count": 4
        }
      ]
    },
    {
      "cell_type": "code",
      "metadata": {
        "id": "executed-rendering",
        "colab": {
          "base_uri": "https://localhost:8080/",
          "height": 234
        },
        "outputId": "80e62f50-d8d4-4eb9-eec5-3360140997f9"
      },
      "source": [
        "capitals = distance_cities[distance_cities.index < 27]\n",
        "capitals.set_index(\"NEAR_FID\",inplace=True)\n",
        "capitals.head()"
      ],
      "id": "executed-rendering",
      "execution_count": null,
      "outputs": [
        {
          "output_type": "execute_result",
          "data": {
            "text/html": [
              "<div>\n",
              "<style scoped>\n",
              "    .dataframe tbody tr th:only-of-type {\n",
              "        vertical-align: middle;\n",
              "    }\n",
              "\n",
              "    .dataframe tbody tr th {\n",
              "        vertical-align: top;\n",
              "    }\n",
              "\n",
              "    .dataframe thead th {\n",
              "        text-align: right;\n",
              "    }\n",
              "</style>\n",
              "<table border=\"1\" class=\"dataframe\">\n",
              "  <thead>\n",
              "    <tr style=\"text-align: right;\">\n",
              "      <th></th>\n",
              "      <th>NAME</th>\n",
              "      <th>NEAR_DIST</th>\n",
              "      <th>STATE</th>\n",
              "    </tr>\n",
              "    <tr>\n",
              "      <th>NEAR_FID</th>\n",
              "      <th></th>\n",
              "      <th></th>\n",
              "      <th></th>\n",
              "    </tr>\n",
              "  </thead>\n",
              "  <tbody>\n",
              "    <tr>\n",
              "      <th>1</th>\n",
              "      <td>Aracaju/SE</td>\n",
              "      <td>1.279808e-10</td>\n",
              "      <td>SE</td>\n",
              "    </tr>\n",
              "    <tr>\n",
              "      <th>2</th>\n",
              "      <td>Belém/PA</td>\n",
              "      <td>1.580439e-10</td>\n",
              "      <td>PA</td>\n",
              "    </tr>\n",
              "    <tr>\n",
              "      <th>3</th>\n",
              "      <td>Belo Horizonte/MG</td>\n",
              "      <td>5.696375e-10</td>\n",
              "      <td>MG</td>\n",
              "    </tr>\n",
              "    <tr>\n",
              "      <th>4</th>\n",
              "      <td>Boa Vista/RR</td>\n",
              "      <td>3.281908e-10</td>\n",
              "      <td>RR</td>\n",
              "    </tr>\n",
              "    <tr>\n",
              "      <th>5</th>\n",
              "      <td>Brasília/DF</td>\n",
              "      <td>4.157356e-10</td>\n",
              "      <td>DF</td>\n",
              "    </tr>\n",
              "  </tbody>\n",
              "</table>\n",
              "</div>"
            ],
            "text/plain": [
              "                       NAME     NEAR_DIST STATE\n",
              "NEAR_FID                                       \n",
              "1                Aracaju/SE  1.279808e-10    SE\n",
              "2                  Belém/PA  1.580439e-10    PA\n",
              "3         Belo Horizonte/MG  5.696375e-10    MG\n",
              "4              Boa Vista/RR  3.281908e-10    RR\n",
              "5               Brasília/DF  4.157356e-10    DF"
            ]
          },
          "metadata": {
            "tags": []
          },
          "execution_count": 5
        }
      ]
    },
    {
      "cell_type": "markdown",
      "metadata": {
        "id": "ZLsxuMaE3qU-"
      },
      "source": [
        "## Getting the most isolated cities in Brazil"
      ],
      "id": "ZLsxuMaE3qU-"
    },
    {
      "cell_type": "code",
      "metadata": {
        "id": "reverse-world"
      },
      "source": [
        "def get_index(near_fid):\n",
        "  select = capitals.index == near_fid\n",
        "  return capitals[select][\"NAME\"].to_numpy()[0]\n",
        "distance_cities[\"CLOSEST_CAPITAL\"] = distance_cities[\"NEAR_FID\"].apply(get_index)"
      ],
      "id": "reverse-world",
      "execution_count": null,
      "outputs": []
    },
    {
      "cell_type": "code",
      "metadata": {
        "colab": {
          "base_uri": "https://localhost:8080/",
          "height": 203
        },
        "id": "CujvvxsEATyi",
        "outputId": "86c4bdf9-586e-48e6-ba48-0a06fd67eab8"
      },
      "source": [
        "distance_cities[\"CLOSEST_CAPITAL_STATE\"] = distance_cities[\"CLOSEST_CAPITAL\"].str.split(\"/\").apply(lambda x:x[1])\n",
        "distance_cities.to_csv(\"/content/drive/MyDrive/Colab Data/distance_cities.csv\",index=False)\n",
        "distance_cities.rename(columns={\"NEAR_DIST\": \"DISTANCE\"},inplace=True)\n",
        "distance_cities.head()"
      ],
      "id": "CujvvxsEATyi",
      "execution_count": null,
      "outputs": [
        {
          "output_type": "execute_result",
          "data": {
            "text/html": [
              "<div>\n",
              "<style scoped>\n",
              "    .dataframe tbody tr th:only-of-type {\n",
              "        vertical-align: middle;\n",
              "    }\n",
              "\n",
              "    .dataframe tbody tr th {\n",
              "        vertical-align: top;\n",
              "    }\n",
              "\n",
              "    .dataframe thead th {\n",
              "        text-align: right;\n",
              "    }\n",
              "</style>\n",
              "<table border=\"1\" class=\"dataframe\">\n",
              "  <thead>\n",
              "    <tr style=\"text-align: right;\">\n",
              "      <th></th>\n",
              "      <th>NAME</th>\n",
              "      <th>NEAR_FID</th>\n",
              "      <th>DISTANCE</th>\n",
              "      <th>STATE</th>\n",
              "      <th>CLOSEST_CAPITAL</th>\n",
              "      <th>CLOSEST_CAPITAL_STATE</th>\n",
              "    </tr>\n",
              "  </thead>\n",
              "  <tbody>\n",
              "    <tr>\n",
              "      <th>0</th>\n",
              "      <td>Aracaju/SE</td>\n",
              "      <td>1</td>\n",
              "      <td>1.279808e-10</td>\n",
              "      <td>SE</td>\n",
              "      <td>Aracaju/SE</td>\n",
              "      <td>SE</td>\n",
              "    </tr>\n",
              "    <tr>\n",
              "      <th>1</th>\n",
              "      <td>Belém/PA</td>\n",
              "      <td>2</td>\n",
              "      <td>1.580439e-10</td>\n",
              "      <td>PA</td>\n",
              "      <td>Belém/PA</td>\n",
              "      <td>PA</td>\n",
              "    </tr>\n",
              "    <tr>\n",
              "      <th>2</th>\n",
              "      <td>Belo Horizonte/MG</td>\n",
              "      <td>3</td>\n",
              "      <td>5.696375e-10</td>\n",
              "      <td>MG</td>\n",
              "      <td>Belo Horizonte/MG</td>\n",
              "      <td>MG</td>\n",
              "    </tr>\n",
              "    <tr>\n",
              "      <th>3</th>\n",
              "      <td>Boa Vista/RR</td>\n",
              "      <td>4</td>\n",
              "      <td>3.281908e-10</td>\n",
              "      <td>RR</td>\n",
              "      <td>Boa Vista/RR</td>\n",
              "      <td>RR</td>\n",
              "    </tr>\n",
              "    <tr>\n",
              "      <th>4</th>\n",
              "      <td>Brasília/DF</td>\n",
              "      <td>5</td>\n",
              "      <td>4.157356e-10</td>\n",
              "      <td>DF</td>\n",
              "      <td>Brasília/DF</td>\n",
              "      <td>DF</td>\n",
              "    </tr>\n",
              "  </tbody>\n",
              "</table>\n",
              "</div>"
            ],
            "text/plain": [
              "                NAME  NEAR_FID  ...    CLOSEST_CAPITAL CLOSEST_CAPITAL_STATE\n",
              "0         Aracaju/SE         1  ...         Aracaju/SE                    SE\n",
              "1           Belém/PA         2  ...           Belém/PA                    PA\n",
              "2  Belo Horizonte/MG         3  ...  Belo Horizonte/MG                    MG\n",
              "3       Boa Vista/RR         4  ...       Boa Vista/RR                    RR\n",
              "4        Brasília/DF         5  ...        Brasília/DF                    DF\n",
              "\n",
              "[5 rows x 6 columns]"
            ]
          },
          "metadata": {
            "tags": []
          },
          "execution_count": 7
        }
      ]
    },
    {
      "cell_type": "code",
      "metadata": {
        "colab": {
          "base_uri": "https://localhost:8080/",
          "height": 220
        },
        "id": "E5vHRtJt3gYo",
        "outputId": "5e5bad33-3541-4430-e1c2-407dc8ce0c9e"
      },
      "source": [
        "distance_cities.sort_values(by=\"DISTANCE\",ascending=False,inplace=True)\n",
        "print(\"MOST ISOLATED CITIES IN BRAZIL\")\n",
        "distance_cities[[\"NAME\",\"DISTANCE\",\"CLOSEST_CAPITAL\"]].head(5)"
      ],
      "id": "E5vHRtJt3gYo",
      "execution_count": null,
      "outputs": [
        {
          "output_type": "stream",
          "text": [
            "MOST ISOLATED CITIES IN BRAZIL\n"
          ],
          "name": "stdout"
        },
        {
          "output_type": "execute_result",
          "data": {
            "text/html": [
              "<div>\n",
              "<style scoped>\n",
              "    .dataframe tbody tr th:only-of-type {\n",
              "        vertical-align: middle;\n",
              "    }\n",
              "\n",
              "    .dataframe tbody tr th {\n",
              "        vertical-align: top;\n",
              "    }\n",
              "\n",
              "    .dataframe thead th {\n",
              "        text-align: right;\n",
              "    }\n",
              "</style>\n",
              "<table border=\"1\" class=\"dataframe\">\n",
              "  <thead>\n",
              "    <tr style=\"text-align: right;\">\n",
              "      <th></th>\n",
              "      <th>NAME</th>\n",
              "      <th>DISTANCE</th>\n",
              "      <th>CLOSEST_CAPITAL</th>\n",
              "    </tr>\n",
              "  </thead>\n",
              "  <tbody>\n",
              "    <tr>\n",
              "      <th>5249</th>\n",
              "      <td>Tonantins/AM</td>\n",
              "      <td>7.062</td>\n",
              "      <td>Porto Velho/RO</td>\n",
              "    </tr>\n",
              "    <tr>\n",
              "      <th>4655</th>\n",
              "      <td>São Gabriel da Cachoeira/AM</td>\n",
              "      <td>7.062</td>\n",
              "      <td>Boa Vista/RR</td>\n",
              "    </tr>\n",
              "    <tr>\n",
              "      <th>4549</th>\n",
              "      <td>Santo Antônio do Içá/AM</td>\n",
              "      <td>6.874</td>\n",
              "      <td>Rio Branco/AC</td>\n",
              "    </tr>\n",
              "    <tr>\n",
              "      <th>2538</th>\n",
              "      <td>Japurá/AM</td>\n",
              "      <td>6.697</td>\n",
              "      <td>Manaus/AM</td>\n",
              "    </tr>\n",
              "    <tr>\n",
              "      <th>4848</th>\n",
              "      <td>São Paulo de Olivença/AM</td>\n",
              "      <td>6.682</td>\n",
              "      <td>Rio Branco/AC</td>\n",
              "    </tr>\n",
              "  </tbody>\n",
              "</table>\n",
              "</div>"
            ],
            "text/plain": [
              "                             NAME  DISTANCE CLOSEST_CAPITAL\n",
              "5249                 Tonantins/AM     7.062  Porto Velho/RO\n",
              "4655  São Gabriel da Cachoeira/AM     7.062    Boa Vista/RR\n",
              "4549      Santo Antônio do Içá/AM     6.874   Rio Branco/AC\n",
              "2538                    Japurá/AM     6.697       Manaus/AM\n",
              "4848     São Paulo de Olivença/AM     6.682   Rio Branco/AC"
            ]
          },
          "metadata": {
            "tags": []
          },
          "execution_count": 26
        }
      ]
    },
    {
      "cell_type": "code",
      "metadata": {
        "colab": {
          "base_uri": "https://localhost:8080/",
          "height": 374
        },
        "id": "K17KZL_85Cnr",
        "outputId": "c125cd22-f85f-470f-d7be-a7c27a9c472b"
      },
      "source": [
        "df_isolated_cities = pd.DataFrame(columns=[\"NAME\",\"DISTANCE\",\"CLOSEST_CAPITAL\"])\n",
        "df_most_isolated = pd.DataFrame(columns=[\"NAME\",\"DISTANCE\",\"CLOSEST_CAPITAL\"])\n",
        "for i in capitals[\"STATE\"]:\n",
        "  select = distance_cities[\"STATE\"] == i\n",
        "  df_most_isolated = df_most_isolated.append(distance_cities[select][[\"NAME\",\"DISTANCE\",\"CLOSEST_CAPITAL\"]].head(1))\n",
        "  df_isolated_cities = df_isolated_cities.append(distance_cities[select][[\"NAME\",\"STATE\",\"DISTANCE\",\"CLOSEST_CAPITAL\"]].head(10))\n",
        "df_isolated_cities.to_csv(\"/content/drive/MyDrive/Colab Data/isolated_10.csv\",index=False)\n",
        "df_most_isolated.sort_values(by=\"DISTANCE\",inplace=True,ascending=False)\n",
        "pd.set_option('display.float_format', '{:.3f}'.format)\n",
        "print(\"MOST ISOLATED CITIES PER STATE\")\n",
        "df_most_isolated.head(10)"
      ],
      "id": "K17KZL_85Cnr",
      "execution_count": null,
      "outputs": [
        {
          "output_type": "stream",
          "text": [
            "MOST ISOLATED CITIES PER STATE\n"
          ],
          "name": "stdout"
        },
        {
          "output_type": "execute_result",
          "data": {
            "text/html": [
              "<div>\n",
              "<style scoped>\n",
              "    .dataframe tbody tr th:only-of-type {\n",
              "        vertical-align: middle;\n",
              "    }\n",
              "\n",
              "    .dataframe tbody tr th {\n",
              "        vertical-align: top;\n",
              "    }\n",
              "\n",
              "    .dataframe thead th {\n",
              "        text-align: right;\n",
              "    }\n",
              "</style>\n",
              "<table border=\"1\" class=\"dataframe\">\n",
              "  <thead>\n",
              "    <tr style=\"text-align: right;\">\n",
              "      <th></th>\n",
              "      <th>NAME</th>\n",
              "      <th>DISTANCE</th>\n",
              "      <th>CLOSEST_CAPITAL</th>\n",
              "    </tr>\n",
              "  </thead>\n",
              "  <tbody>\n",
              "    <tr>\n",
              "      <th>5249</th>\n",
              "      <td>Tonantins/AM</td>\n",
              "      <td>7.062</td>\n",
              "      <td>Porto Velho/RO</td>\n",
              "    </tr>\n",
              "    <tr>\n",
              "      <th>549</th>\n",
              "      <td>Barra do Quaraí/RS</td>\n",
              "      <td>6.327</td>\n",
              "      <td>Porto Alegre/RS</td>\n",
              "    </tr>\n",
              "    <tr>\n",
              "      <th>303</th>\n",
              "      <td>Apiacás/MT</td>\n",
              "      <td>6.201</td>\n",
              "      <td>Cuiabá/MT</td>\n",
              "    </tr>\n",
              "    <tr>\n",
              "      <th>3418</th>\n",
              "      <td>Novo Progresso/PA</td>\n",
              "      <td>6.158</td>\n",
              "      <td>Manaus/AM</td>\n",
              "    </tr>\n",
              "    <tr>\n",
              "      <th>2890</th>\n",
              "      <td>Mâncio Lima/AC</td>\n",
              "      <td>5.607</td>\n",
              "      <td>Rio Branco/AC</td>\n",
              "    </tr>\n",
              "    <tr>\n",
              "      <th>3791</th>\n",
              "      <td>Pimenteiras do Oeste/RO</td>\n",
              "      <td>5.382</td>\n",
              "      <td>Cuiabá/MT</td>\n",
              "    </tr>\n",
              "    <tr>\n",
              "      <th>3223</th>\n",
              "      <td>Muquém de São Francisco/BA</td>\n",
              "      <td>5.119</td>\n",
              "      <td>Salvador/BA</td>\n",
              "    </tr>\n",
              "    <tr>\n",
              "      <th>1850</th>\n",
              "      <td>Foz do Iguaçu/PR</td>\n",
              "      <td>5.105</td>\n",
              "      <td>Campo Grande/MS</td>\n",
              "    </tr>\n",
              "    <tr>\n",
              "      <th>2884</th>\n",
              "      <td>Mamonas/MG</td>\n",
              "      <td>4.872</td>\n",
              "      <td>Belo Horizonte/MG</td>\n",
              "    </tr>\n",
              "    <tr>\n",
              "      <th>3187</th>\n",
              "      <td>Morro Cabeça no Tempo/PI</td>\n",
              "      <td>4.454</td>\n",
              "      <td>Palmas/TO</td>\n",
              "    </tr>\n",
              "  </tbody>\n",
              "</table>\n",
              "</div>"
            ],
            "text/plain": [
              "                            NAME  DISTANCE    CLOSEST_CAPITAL\n",
              "5249                Tonantins/AM     7.062     Porto Velho/RO\n",
              "549           Barra do Quaraí/RS     6.327    Porto Alegre/RS\n",
              "303                   Apiacás/MT     6.201          Cuiabá/MT\n",
              "3418           Novo Progresso/PA     6.158          Manaus/AM\n",
              "2890              Mâncio Lima/AC     5.607      Rio Branco/AC\n",
              "3791     Pimenteiras do Oeste/RO     5.382          Cuiabá/MT\n",
              "3223  Muquém de São Francisco/BA     5.119        Salvador/BA\n",
              "1850            Foz do Iguaçu/PR     5.105    Campo Grande/MS\n",
              "2884                  Mamonas/MG     4.872  Belo Horizonte/MG\n",
              "3187    Morro Cabeça no Tempo/PI     4.454          Palmas/TO"
            ]
          },
          "metadata": {
            "tags": []
          },
          "execution_count": 9
        }
      ]
    },
    {
      "cell_type": "markdown",
      "metadata": {
        "id": "integral-circle"
      },
      "source": [
        "## Grouping DF by STATE and CLOSEST_CAPITAL and aggregating using size"
      ],
      "id": "integral-circle"
    },
    {
      "cell_type": "code",
      "metadata": {
        "colab": {
          "base_uri": "https://localhost:8080/",
          "height": 447
        },
        "id": "mathematical-electron",
        "outputId": "63b91d3d-6699-4913-cf79-dff6d85a3a66"
      },
      "source": [
        "grouped_states = distance_cities.groupby([\"STATE\",\"CLOSEST_CAPITAL\"]).agg(\"size\").to_frame()\n",
        "grouped_states = grouped_states.rename(columns={0: \"NUMBER_OF_CITIES\"})\n",
        "grouped_states = grouped_states.sort_values('NUMBER_OF_CITIES', ascending=False).sort_index(level='STATE', sort_remaining=False)\n",
        "grouped_states.to_csv(\"grouped_states.csv\")\n",
        "grouped_states"
      ],
      "id": "mathematical-electron",
      "execution_count": null,
      "outputs": [
        {
          "output_type": "execute_result",
          "data": {
            "text/html": [
              "<div>\n",
              "<style scoped>\n",
              "    .dataframe tbody tr th:only-of-type {\n",
              "        vertical-align: middle;\n",
              "    }\n",
              "\n",
              "    .dataframe tbody tr th {\n",
              "        vertical-align: top;\n",
              "    }\n",
              "\n",
              "    .dataframe thead th {\n",
              "        text-align: right;\n",
              "    }\n",
              "</style>\n",
              "<table border=\"1\" class=\"dataframe\">\n",
              "  <thead>\n",
              "    <tr style=\"text-align: right;\">\n",
              "      <th></th>\n",
              "      <th></th>\n",
              "      <th>NUMBER_OF_CITIES</th>\n",
              "    </tr>\n",
              "    <tr>\n",
              "      <th>STATE</th>\n",
              "      <th>CLOSEST_CAPITAL</th>\n",
              "      <th></th>\n",
              "    </tr>\n",
              "  </thead>\n",
              "  <tbody>\n",
              "    <tr>\n",
              "      <th>AC</th>\n",
              "      <th>Rio Branco/AC</th>\n",
              "      <td>22</td>\n",
              "    </tr>\n",
              "    <tr>\n",
              "      <th rowspan=\"2\" valign=\"top\">AL</th>\n",
              "      <th>Maceió/AL</th>\n",
              "      <td>73</td>\n",
              "    </tr>\n",
              "    <tr>\n",
              "      <th>Aracaju/SE</th>\n",
              "      <td>29</td>\n",
              "    </tr>\n",
              "    <tr>\n",
              "      <th rowspan=\"2\" valign=\"top\">AM</th>\n",
              "      <th>Manaus/AM</th>\n",
              "      <td>39</td>\n",
              "    </tr>\n",
              "    <tr>\n",
              "      <th>Rio Branco/AC</th>\n",
              "      <td>13</td>\n",
              "    </tr>\n",
              "    <tr>\n",
              "      <th>...</th>\n",
              "      <th>...</th>\n",
              "      <td>...</td>\n",
              "    </tr>\n",
              "    <tr>\n",
              "      <th rowspan=\"2\" valign=\"top\">SP</th>\n",
              "      <th>Rio de Janeiro/RJ</th>\n",
              "      <td>9</td>\n",
              "    </tr>\n",
              "    <tr>\n",
              "      <th>Belo Horizonte/MG</th>\n",
              "      <td>1</td>\n",
              "    </tr>\n",
              "    <tr>\n",
              "      <th rowspan=\"3\" valign=\"top\">TO</th>\n",
              "      <th>Palmas/TO</th>\n",
              "      <td>124</td>\n",
              "    </tr>\n",
              "    <tr>\n",
              "      <th>Belém/PA</th>\n",
              "      <td>12</td>\n",
              "    </tr>\n",
              "    <tr>\n",
              "      <th>Brasília/DF</th>\n",
              "      <td>3</td>\n",
              "    </tr>\n",
              "  </tbody>\n",
              "</table>\n",
              "<p>83 rows × 1 columns</p>\n",
              "</div>"
            ],
            "text/plain": [
              "                         NUMBER_OF_CITIES\n",
              "STATE CLOSEST_CAPITAL                    \n",
              "AC    Rio Branco/AC                    22\n",
              "AL    Maceió/AL                        73\n",
              "      Aracaju/SE                       29\n",
              "AM    Manaus/AM                        39\n",
              "      Rio Branco/AC                    13\n",
              "...                                   ...\n",
              "SP    Rio de Janeiro/RJ                 9\n",
              "      Belo Horizonte/MG                 1\n",
              "TO    Palmas/TO                       124\n",
              "      Belém/PA                         12\n",
              "      Brasília/DF                       3\n",
              "\n",
              "[83 rows x 1 columns]"
            ]
          },
          "metadata": {
            "tags": []
          },
          "execution_count": 10
        }
      ]
    },
    {
      "cell_type": "markdown",
      "metadata": {
        "id": "derived-forth"
      },
      "source": [
        "## Getting the number of cities closer to each capital"
      ],
      "id": "derived-forth"
    },
    {
      "cell_type": "code",
      "metadata": {
        "colab": {
          "base_uri": "https://localhost:8080/"
        },
        "id": "comic-cisco",
        "outputId": "b104ed25-8e81-4ba2-db2a-bb48af736159"
      },
      "source": [
        "nationwide_influence = distance_cities.groupby([\"CLOSEST_CAPITAL\"]).agg(\"size\")\n",
        "nationwide_influence.sort_values(ascending=False).head(5)"
      ],
      "id": "comic-cisco",
      "execution_count": null,
      "outputs": [
        {
          "output_type": "execute_result",
          "data": {
            "text/plain": [
              "CLOSEST_CAPITAL\n",
              "Porto Alegre/RS      585\n",
              "Curitiba/PR          489\n",
              "São Paulo/SP         486\n",
              "Belo Horizonte/MG    461\n",
              "Salvador/BA          344\n",
              "dtype: int64"
            ]
          },
          "metadata": {
            "tags": []
          },
          "execution_count": 11
        }
      ]
    },
    {
      "cell_type": "code",
      "metadata": {
        "colab": {
          "base_uri": "https://localhost:8080/",
          "height": 203
        },
        "id": "m0x3rNcM6SNW",
        "outputId": "970c4b44-b047-4196-fb02-401a60114e51"
      },
      "source": [
        "selection = distance_cities[\"STATE\"]==distance_cities[\"CLOSEST_CAPITAL_STATE\"]\n",
        "in_state_cites = distance_cities[selection]\n",
        "in_state_cites.tail(5)"
      ],
      "id": "m0x3rNcM6SNW",
      "execution_count": null,
      "outputs": [
        {
          "output_type": "execute_result",
          "data": {
            "text/html": [
              "<div>\n",
              "<style scoped>\n",
              "    .dataframe tbody tr th:only-of-type {\n",
              "        vertical-align: middle;\n",
              "    }\n",
              "\n",
              "    .dataframe tbody tr th {\n",
              "        vertical-align: top;\n",
              "    }\n",
              "\n",
              "    .dataframe thead th {\n",
              "        text-align: right;\n",
              "    }\n",
              "</style>\n",
              "<table border=\"1\" class=\"dataframe\">\n",
              "  <thead>\n",
              "    <tr style=\"text-align: right;\">\n",
              "      <th></th>\n",
              "      <th>NAME</th>\n",
              "      <th>NEAR_FID</th>\n",
              "      <th>DISTANCE</th>\n",
              "      <th>STATE</th>\n",
              "      <th>CLOSEST_CAPITAL</th>\n",
              "      <th>CLOSEST_CAPITAL_STATE</th>\n",
              "    </tr>\n",
              "  </thead>\n",
              "  <tbody>\n",
              "    <tr>\n",
              "      <th>1</th>\n",
              "      <td>Belém/PA</td>\n",
              "      <td>2</td>\n",
              "      <td>0.000</td>\n",
              "      <td>PA</td>\n",
              "      <td>Belém/PA</td>\n",
              "      <td>PA</td>\n",
              "    </tr>\n",
              "    <tr>\n",
              "      <th>26</th>\n",
              "      <td>Vitória/ES</td>\n",
              "      <td>27</td>\n",
              "      <td>0.000</td>\n",
              "      <td>ES</td>\n",
              "      <td>Vitória/ES</td>\n",
              "      <td>ES</td>\n",
              "    </tr>\n",
              "    <tr>\n",
              "      <th>0</th>\n",
              "      <td>Aracaju/SE</td>\n",
              "      <td>1</td>\n",
              "      <td>0.000</td>\n",
              "      <td>SE</td>\n",
              "      <td>Aracaju/SE</td>\n",
              "      <td>SE</td>\n",
              "    </tr>\n",
              "    <tr>\n",
              "      <th>20</th>\n",
              "      <td>Rio Branco/AC</td>\n",
              "      <td>21</td>\n",
              "      <td>0.000</td>\n",
              "      <td>AC</td>\n",
              "      <td>Rio Branco/AC</td>\n",
              "      <td>AC</td>\n",
              "    </tr>\n",
              "    <tr>\n",
              "      <th>23</th>\n",
              "      <td>São Luís/MA</td>\n",
              "      <td>24</td>\n",
              "      <td>0.000</td>\n",
              "      <td>MA</td>\n",
              "      <td>São Luís/MA</td>\n",
              "      <td>MA</td>\n",
              "    </tr>\n",
              "  </tbody>\n",
              "</table>\n",
              "</div>"
            ],
            "text/plain": [
              "             NAME  NEAR_FID  ...  CLOSEST_CAPITAL CLOSEST_CAPITAL_STATE\n",
              "1        Belém/PA         2  ...         Belém/PA                    PA\n",
              "26     Vitória/ES        27  ...       Vitória/ES                    ES\n",
              "0      Aracaju/SE         1  ...       Aracaju/SE                    SE\n",
              "20  Rio Branco/AC        21  ...    Rio Branco/AC                    AC\n",
              "23    São Luís/MA        24  ...      São Luís/MA                    MA\n",
              "\n",
              "[5 rows x 6 columns]"
            ]
          },
          "metadata": {
            "tags": []
          },
          "execution_count": 12
        }
      ]
    },
    {
      "cell_type": "code",
      "metadata": {
        "colab": {
          "base_uri": "https://localhost:8080/"
        },
        "id": "SnxhJLR_PMWp",
        "outputId": "4918cd95-322c-4d65-fc5d-29c7748156c9"
      },
      "source": [
        "statewide_influence = in_state_cites.groupby([\"CLOSEST_CAPITAL\"]).agg(\"size\")\n",
        "statewide_influence.sort_values(ascending=False).head(5)"
      ],
      "id": "SnxhJLR_PMWp",
      "execution_count": null,
      "outputs": [
        {
          "output_type": "execute_result",
          "data": {
            "text/plain": [
              "CLOSEST_CAPITAL\n",
              "Porto Alegre/RS      497\n",
              "Belo Horizonte/MG    460\n",
              "São Paulo/SP         385\n",
              "Salvador/BA          325\n",
              "Curitiba/PR          306\n",
              "dtype: int64"
            ]
          },
          "metadata": {
            "tags": []
          },
          "execution_count": 13
        }
      ]
    },
    {
      "cell_type": "code",
      "metadata": {
        "id": "As8ZZYCIXLqH"
      },
      "source": [
        "df_series = pd.DataFrame({'NATIONWIDE_COUNT': nationwide_influence,'STATEWIDE_COUNT': statewide_influence})\n",
        "df_series.reset_index(level=0, inplace=True)\n",
        "df_series[\"STATE\"] = df_series[\"CLOSEST_CAPITAL\"].str.split(\"/\").apply(lambda x:x[1])"
      ],
      "id": "As8ZZYCIXLqH",
      "execution_count": null,
      "outputs": []
    },
    {
      "cell_type": "markdown",
      "metadata": {
        "id": "speaking-trust"
      },
      "source": [
        "## Getting the number of cities within the state which are closer to its capital"
      ],
      "id": "speaking-trust"
    },
    {
      "cell_type": "code",
      "metadata": {
        "id": "Jo0qH3E2PtYi"
      },
      "source": [
        "n_of_cities_per_state = distance_cities.groupby([\"STATE\"]).agg(\"size\")\n",
        "df_states = pd.DataFrame({'NUMBER_OF_CITIES_PER_STATE':n_of_cities_per_state})\n",
        "df_states.reset_index(level=0, inplace=True)"
      ],
      "id": "Jo0qH3E2PtYi",
      "execution_count": null,
      "outputs": []
    },
    {
      "cell_type": "code",
      "metadata": {
        "colab": {
          "base_uri": "https://localhost:8080/",
          "height": 203
        },
        "id": "j63-54sQSWb8",
        "outputId": "2dd02a6b-4cd6-4145-8fe5-633d8c223b1a"
      },
      "source": [
        "df_series = df_series.merge(df_states)\n",
        "df_series.head()"
      ],
      "id": "j63-54sQSWb8",
      "execution_count": null,
      "outputs": [
        {
          "output_type": "execute_result",
          "data": {
            "text/html": [
              "<div>\n",
              "<style scoped>\n",
              "    .dataframe tbody tr th:only-of-type {\n",
              "        vertical-align: middle;\n",
              "    }\n",
              "\n",
              "    .dataframe tbody tr th {\n",
              "        vertical-align: top;\n",
              "    }\n",
              "\n",
              "    .dataframe thead th {\n",
              "        text-align: right;\n",
              "    }\n",
              "</style>\n",
              "<table border=\"1\" class=\"dataframe\">\n",
              "  <thead>\n",
              "    <tr style=\"text-align: right;\">\n",
              "      <th></th>\n",
              "      <th>CLOSEST_CAPITAL</th>\n",
              "      <th>NATIONWIDE_COUNT</th>\n",
              "      <th>STATEWIDE_COUNT</th>\n",
              "      <th>STATE</th>\n",
              "      <th>NUMBER_OF_CITIES_PER_STATE</th>\n",
              "    </tr>\n",
              "  </thead>\n",
              "  <tbody>\n",
              "    <tr>\n",
              "      <th>0</th>\n",
              "      <td>Aracaju/SE</td>\n",
              "      <td>173</td>\n",
              "      <td>75</td>\n",
              "      <td>SE</td>\n",
              "      <td>75</td>\n",
              "    </tr>\n",
              "    <tr>\n",
              "      <th>1</th>\n",
              "      <td>Belo Horizonte/MG</td>\n",
              "      <td>461</td>\n",
              "      <td>460</td>\n",
              "      <td>MG</td>\n",
              "      <td>853</td>\n",
              "    </tr>\n",
              "    <tr>\n",
              "      <th>2</th>\n",
              "      <td>Belém/PA</td>\n",
              "      <td>111</td>\n",
              "      <td>89</td>\n",
              "      <td>PA</td>\n",
              "      <td>143</td>\n",
              "    </tr>\n",
              "    <tr>\n",
              "      <th>3</th>\n",
              "      <td>Boa Vista/RR</td>\n",
              "      <td>17</td>\n",
              "      <td>15</td>\n",
              "      <td>RR</td>\n",
              "      <td>15</td>\n",
              "    </tr>\n",
              "    <tr>\n",
              "      <th>4</th>\n",
              "      <td>Brasília/DF</td>\n",
              "      <td>128</td>\n",
              "      <td>1</td>\n",
              "      <td>DF</td>\n",
              "      <td>1</td>\n",
              "    </tr>\n",
              "  </tbody>\n",
              "</table>\n",
              "</div>"
            ],
            "text/plain": [
              "     CLOSEST_CAPITAL  NATIONWIDE_COUNT  ...  STATE NUMBER_OF_CITIES_PER_STATE\n",
              "0         Aracaju/SE               173  ...     SE                         75\n",
              "1  Belo Horizonte/MG               461  ...     MG                        853\n",
              "2           Belém/PA               111  ...     PA                        143\n",
              "3       Boa Vista/RR                17  ...     RR                         15\n",
              "4        Brasília/DF               128  ...     DF                          1\n",
              "\n",
              "[5 rows x 5 columns]"
            ]
          },
          "metadata": {
            "tags": []
          },
          "execution_count": 16
        }
      ]
    },
    {
      "cell_type": "code",
      "metadata": {
        "colab": {
          "base_uri": "https://localhost:8080/",
          "height": 203
        },
        "id": "KPac9OeLdUzP",
        "outputId": "5693279d-0c77-4ce4-ab9e-a710787cd3fb"
      },
      "source": [
        "# STATEWIDE INFLUENCE\n",
        "df_series[\"% INFLUENCE_STATEWIDE\"] = np.round((df_series[\"STATEWIDE_COUNT\"]/df_series[\"NUMBER_OF_CITIES_PER_STATE\"])*100,1)\n",
        "# NATIONWIDE INFLUENCE\n",
        "total_cities_brazil = df_series[\"NUMBER_OF_CITIES_PER_STATE\"].sum()\n",
        "df_series[\"% INFLUENCE_NATIONWIDE\"] = np.round((df_series[\"NATIONWIDE_COUNT\"]/total_cities_brazil)*100,1)\n",
        "columns = [\"CLOSEST_CAPITAL\",\"NUMBER_OF_CITIES_PER_STATE\",\"NATIONWIDE_COUNT\",\n",
        "           \"STATEWIDE_COUNT\",\"% INFLUENCE_NATIONWIDE\",\"% INFLUENCE_STATEWIDE\"]\n",
        "df_display = df_series.reindex(columns=columns)\n",
        "df_display.head()"
      ],
      "id": "KPac9OeLdUzP",
      "execution_count": null,
      "outputs": [
        {
          "output_type": "execute_result",
          "data": {
            "text/html": [
              "<div>\n",
              "<style scoped>\n",
              "    .dataframe tbody tr th:only-of-type {\n",
              "        vertical-align: middle;\n",
              "    }\n",
              "\n",
              "    .dataframe tbody tr th {\n",
              "        vertical-align: top;\n",
              "    }\n",
              "\n",
              "    .dataframe thead th {\n",
              "        text-align: right;\n",
              "    }\n",
              "</style>\n",
              "<table border=\"1\" class=\"dataframe\">\n",
              "  <thead>\n",
              "    <tr style=\"text-align: right;\">\n",
              "      <th></th>\n",
              "      <th>CLOSEST_CAPITAL</th>\n",
              "      <th>NUMBER_OF_CITIES_PER_STATE</th>\n",
              "      <th>NATIONWIDE_COUNT</th>\n",
              "      <th>STATEWIDE_COUNT</th>\n",
              "      <th>% INFLUENCE_NATIONWIDE</th>\n",
              "      <th>% INFLUENCE_STATEWIDE</th>\n",
              "    </tr>\n",
              "  </thead>\n",
              "  <tbody>\n",
              "    <tr>\n",
              "      <th>0</th>\n",
              "      <td>Aracaju/SE</td>\n",
              "      <td>75</td>\n",
              "      <td>173</td>\n",
              "      <td>75</td>\n",
              "      <td>3.100</td>\n",
              "      <td>100.000</td>\n",
              "    </tr>\n",
              "    <tr>\n",
              "      <th>1</th>\n",
              "      <td>Belo Horizonte/MG</td>\n",
              "      <td>853</td>\n",
              "      <td>461</td>\n",
              "      <td>460</td>\n",
              "      <td>8.300</td>\n",
              "      <td>53.900</td>\n",
              "    </tr>\n",
              "    <tr>\n",
              "      <th>2</th>\n",
              "      <td>Belém/PA</td>\n",
              "      <td>143</td>\n",
              "      <td>111</td>\n",
              "      <td>89</td>\n",
              "      <td>2.000</td>\n",
              "      <td>62.200</td>\n",
              "    </tr>\n",
              "    <tr>\n",
              "      <th>3</th>\n",
              "      <td>Boa Vista/RR</td>\n",
              "      <td>15</td>\n",
              "      <td>17</td>\n",
              "      <td>15</td>\n",
              "      <td>0.300</td>\n",
              "      <td>100.000</td>\n",
              "    </tr>\n",
              "    <tr>\n",
              "      <th>4</th>\n",
              "      <td>Brasília/DF</td>\n",
              "      <td>1</td>\n",
              "      <td>128</td>\n",
              "      <td>1</td>\n",
              "      <td>2.300</td>\n",
              "      <td>100.000</td>\n",
              "    </tr>\n",
              "  </tbody>\n",
              "</table>\n",
              "</div>"
            ],
            "text/plain": [
              "     CLOSEST_CAPITAL  ...  % INFLUENCE_STATEWIDE\n",
              "0         Aracaju/SE  ...                100.000\n",
              "1  Belo Horizonte/MG  ...                 53.900\n",
              "2           Belém/PA  ...                 62.200\n",
              "3       Boa Vista/RR  ...                100.000\n",
              "4        Brasília/DF  ...                100.000\n",
              "\n",
              "[5 rows x 6 columns]"
            ]
          },
          "metadata": {
            "tags": []
          },
          "execution_count": 17
        }
      ]
    },
    {
      "cell_type": "markdown",
      "metadata": {
        "id": "upset-seafood"
      },
      "source": [
        "## Capitals with 100% of influence statewide"
      ],
      "id": "upset-seafood"
    },
    {
      "cell_type": "code",
      "metadata": {
        "colab": {
          "base_uri": "https://localhost:8080/",
          "height": 265
        },
        "id": "bgGpNPfZFx8r",
        "outputId": "1f311097-975f-4db8-fe92-af303e2d1474"
      },
      "source": [
        "select = df_series[\"% INFLUENCE_STATEWIDE\"] == 100.0\n",
        "df_series[select][\"CLOSEST_CAPITAL\"].to_frame()"
      ],
      "id": "bgGpNPfZFx8r",
      "execution_count": null,
      "outputs": [
        {
          "output_type": "execute_result",
          "data": {
            "text/html": [
              "<div>\n",
              "<style scoped>\n",
              "    .dataframe tbody tr th:only-of-type {\n",
              "        vertical-align: middle;\n",
              "    }\n",
              "\n",
              "    .dataframe tbody tr th {\n",
              "        vertical-align: top;\n",
              "    }\n",
              "\n",
              "    .dataframe thead th {\n",
              "        text-align: right;\n",
              "    }\n",
              "</style>\n",
              "<table border=\"1\" class=\"dataframe\">\n",
              "  <thead>\n",
              "    <tr style=\"text-align: right;\">\n",
              "      <th></th>\n",
              "      <th>CLOSEST_CAPITAL</th>\n",
              "    </tr>\n",
              "  </thead>\n",
              "  <tbody>\n",
              "    <tr>\n",
              "      <th>0</th>\n",
              "      <td>Aracaju/SE</td>\n",
              "    </tr>\n",
              "    <tr>\n",
              "      <th>3</th>\n",
              "      <td>Boa Vista/RR</td>\n",
              "    </tr>\n",
              "    <tr>\n",
              "      <th>4</th>\n",
              "      <td>Brasília/DF</td>\n",
              "    </tr>\n",
              "    <tr>\n",
              "      <th>12</th>\n",
              "      <td>Macapá/AP</td>\n",
              "    </tr>\n",
              "    <tr>\n",
              "      <th>17</th>\n",
              "      <td>Porto Alegre/RS</td>\n",
              "    </tr>\n",
              "    <tr>\n",
              "      <th>20</th>\n",
              "      <td>Rio Branco/AC</td>\n",
              "    </tr>\n",
              "    <tr>\n",
              "      <th>26</th>\n",
              "      <td>Vitória/ES</td>\n",
              "    </tr>\n",
              "  </tbody>\n",
              "</table>\n",
              "</div>"
            ],
            "text/plain": [
              "    CLOSEST_CAPITAL\n",
              "0        Aracaju/SE\n",
              "3      Boa Vista/RR\n",
              "4       Brasília/DF\n",
              "12        Macapá/AP\n",
              "17  Porto Alegre/RS\n",
              "20    Rio Branco/AC\n",
              "26       Vitória/ES"
            ]
          },
          "metadata": {
            "tags": []
          },
          "execution_count": 18
        }
      ]
    },
    {
      "cell_type": "markdown",
      "metadata": {
        "id": "failing-energy"
      },
      "source": [
        "## Ploting"
      ],
      "id": "failing-energy"
    },
    {
      "cell_type": "code",
      "metadata": {
        "id": "Y4dl8B7PPD_C"
      },
      "source": [
        "title_font = 20\n",
        "label_font = 14\n",
        "plt.rcParams[\"figure.figsize\"] = [9, 6]"
      ],
      "id": "Y4dl8B7PPD_C",
      "execution_count": null,
      "outputs": []
    },
    {
      "cell_type": "code",
      "metadata": {
        "id": "5KlaI3PTGjgX"
      },
      "source": [
        "def plot_bar(*args):\n",
        "  plt.barh(args[0],args[1])\n",
        "  plt.suptitle(f'ZONA DE INFLUÊNCIA {args[2]}', fontsize=title_font)\n",
        "  plt.title(f'Capitais com {args[3]} municípios em sua zona de influência',fontsize=label_font)\n",
        "  plt.xlabel(f'% das cidades do {args[4]}',fontsize=label_font)\n",
        "  plt.ylabel('Capital',fontsize=label_font)\n",
        "  plt.xticks(fontsize=label_font)\n",
        "  plt.yticks(fontsize=label_font)\n",
        "  plt.grid(lw=\"0.2\")\n",
        "  plt.show()"
      ],
      "id": "5KlaI3PTGjgX",
      "execution_count": null,
      "outputs": []
    },
    {
      "cell_type": "code",
      "metadata": {
        "id": "obuC7tod8z7N"
      },
      "source": [
        "df_series.sort_values(by=\"% INFLUENCE_STATEWIDE\",inplace=True,ascending=False)\n",
        "df_last_10 = df_series.tail(7)"
      ],
      "id": "obuC7tod8z7N",
      "execution_count": null,
      "outputs": []
    },
    {
      "cell_type": "code",
      "metadata": {
        "colab": {
          "base_uri": "https://localhost:8080/",
          "height": 439
        },
        "id": "jvFPOBCPNw9q",
        "outputId": "74b51762-174c-4212-b91e-be1fea3d2151"
      },
      "source": [
        "plot_bar(df_last_10[\"CLOSEST_CAPITAL\"],df_last_10[\"% INFLUENCE_STATEWIDE\"],\"ESTADUAL\",\"menos\",\"estado\")"
      ],
      "id": "jvFPOBCPNw9q",
      "execution_count": null,
      "outputs": [
        {
          "output_type": "display_data",
          "data": {
            "image/png": "[encoded data removed]",
            "text/plain": [
              "<Figure size 648x432 with 1 Axes>"
            ]
          },
          "metadata": {
            "tags": [],
            "needs_background": "light"
          }
        }
      ]
    },
    {
      "cell_type": "code",
      "metadata": {
        "id": "LywgaBjxOxHq"
      },
      "source": [
        "df_series.sort_values(by=\"% INFLUENCE_NATIONWIDE\",inplace=True,ascending=True)\n",
        "df_series_10 = df_series.tail(7)"
      ],
      "id": "LywgaBjxOxHq",
      "execution_count": null,
      "outputs": []
    },
    {
      "cell_type": "code",
      "metadata": {
        "colab": {
          "base_uri": "https://localhost:8080/",
          "height": 439
        },
        "id": "YPvUYet2LBXQ",
        "outputId": "44a83d9d-5841-425b-a0e3-7d86ac5faa19"
      },
      "source": [
        "plot_bar(df_series_10[\"CLOSEST_CAPITAL\"],df_series_10[\"% INFLUENCE_NATIONWIDE\"],\"NACIONAL\",\"mais\",\"Brasil\")"
      ],
      "id": "YPvUYet2LBXQ",
      "execution_count": null,
      "outputs": [
        {
          "output_type": "display_data",
          "data": {
            "image/png": "[encoded data removed]",
            "text/plain": [
              "<Figure size 648x432 with 1 Axes>"
            ]
          },
          "metadata": {
            "tags": [],
            "needs_background": "light"
          }
        }
      ]
    }
  ]
}