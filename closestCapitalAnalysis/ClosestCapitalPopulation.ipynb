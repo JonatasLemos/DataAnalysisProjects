{
  "nbformat": 4,
  "nbformat_minor": 0,
  "metadata": {
    "colab": {
      "name": "ClosestCapitalPopulation.ipynb",
      "provenance": [],
      "collapsed_sections": [],
      "authorship_tag": "ABX9TyMoJEXEAPIVFtnp6NvEUexm",
      "include_colab_link": true
    },
    "kernelspec": {
      "name": "python3",
      "display_name": "Python 3"
    },
    "language_info": {
      "name": "python"
    }
  },
  "cells": [
    {
      "cell_type": "markdown",
      "metadata": {
        "id": "view-in-github",
        "colab_type": "text"
      },
      "source": [
        "<a href=\"https://colab.research.google.com/github/JonatasLemos/DataAnalysisProjects/blob/main/closestCapitalAnalysis/ClosestCapitalPopulation.ipynb\" target=\"_parent\"><img src=\"https://colab.research.google.com/assets/colab-badge.svg\" alt=\"Open In Colab\"/></a>"
      ]
    },
    {
      "cell_type": "markdown",
      "metadata": {
        "id": "DKx2J87_yppY"
      },
      "source": [
        "## Population Analysis - Influence Zone - Brazilian Capitals"
      ]
    },
    {
      "cell_type": "code",
      "metadata": {
        "colab": {
          "base_uri": "https://localhost:8080/"
        },
        "id": "ntdYmpNqygSv",
        "outputId": "d9ea68a7-150a-4da7-c9ae-3e347d090366"
      },
      "source": [
        "from google.colab import drive\n",
        "drive.mount('/content/drive')"
      ],
      "execution_count": 1,
      "outputs": [
        {
          "output_type": "stream",
          "text": [
            "Drive already mounted at /content/drive; to attempt to forcibly remount, call drive.mount(\"/content/drive\", force_remount=True).\n"
          ],
          "name": "stdout"
        }
      ]
    },
    {
      "cell_type": "code",
      "metadata": {
        "id": "ejv8OhLBzFxP"
      },
      "source": [
        "import pandas as pd\n",
        "import numpy as np\n",
        "import matplotlib.pyplot as plt"
      ],
      "execution_count": 2,
      "outputs": []
    },
    {
      "cell_type": "markdown",
      "metadata": {
        "id": "np8rJTBP2lJn"
      },
      "source": [
        "## Cleaning DF"
      ]
    },
    {
      "cell_type": "code",
      "metadata": {
        "colab": {
          "base_uri": "https://localhost:8080/",
          "height": 142
        },
        "id": "Wl1ykDySzKX_",
        "outputId": "7a8e7213-cb45-4f08-f7ea-4d047e357e2a"
      },
      "source": [
        "path_start = f\"/content/drive/MyDrive/Colab Data/\"\n",
        "distance_cities_pop = pd.read_csv(f\"{path_start}distance_cities.csv\")\n",
        "distance_cities_pop.drop([\"NEAR_DIST\",\"NEAR_FID\"],axis=1,inplace=True)\n",
        "distance_cities_pop.tail(3)"
      ],
      "execution_count": 24,
      "outputs": [
        {
          "output_type": "execute_result",
          "data": {
            "text/html": [
              "<div>\n",
              "<style scoped>\n",
              "    .dataframe tbody tr th:only-of-type {\n",
              "        vertical-align: middle;\n",
              "    }\n",
              "\n",
              "    .dataframe tbody tr th {\n",
              "        vertical-align: top;\n",
              "    }\n",
              "\n",
              "    .dataframe thead th {\n",
              "        text-align: right;\n",
              "    }\n",
              "</style>\n",
              "<table border=\"1\" class=\"dataframe\">\n",
              "  <thead>\n",
              "    <tr style=\"text-align: right;\">\n",
              "      <th></th>\n",
              "      <th>NAME</th>\n",
              "      <th>STATE</th>\n",
              "      <th>CLOSEST_CAPITAL</th>\n",
              "      <th>CLOSEST_CAPITAL_STATE</th>\n",
              "    </tr>\n",
              "  </thead>\n",
              "  <tbody>\n",
              "    <tr>\n",
              "      <th>5557</th>\n",
              "      <td>Zacarias/SP</td>\n",
              "      <td>SP</td>\n",
              "      <td>São Paulo/SP</td>\n",
              "      <td>SP</td>\n",
              "    </tr>\n",
              "    <tr>\n",
              "      <th>5558</th>\n",
              "      <td>Zé Doca/MA</td>\n",
              "      <td>MA</td>\n",
              "      <td>São Luís/MA</td>\n",
              "      <td>MA</td>\n",
              "    </tr>\n",
              "    <tr>\n",
              "      <th>5559</th>\n",
              "      <td>Zortéa/SC</td>\n",
              "      <td>SC</td>\n",
              "      <td>Porto Alegre/RS</td>\n",
              "      <td>RS</td>\n",
              "    </tr>\n",
              "  </tbody>\n",
              "</table>\n",
              "</div>"
            ],
            "text/plain": [
              "             NAME STATE  CLOSEST_CAPITAL CLOSEST_CAPITAL_STATE\n",
              "5557  Zacarias/SP    SP     São Paulo/SP                    SP\n",
              "5558   Zé Doca/MA    MA      São Luís/MA                    MA\n",
              "5559    Zortéa/SC    SC  Porto Alegre/RS                    RS"
            ]
          },
          "metadata": {
            "tags": []
          },
          "execution_count": 24
        }
      ]
    },
    {
      "cell_type": "code",
      "metadata": {
        "colab": {
          "base_uri": "https://localhost:8080/",
          "height": 203
        },
        "id": "dj2wxCrG0Lbh",
        "outputId": "34908de6-723f-48d9-a795-0b215a13dea9"
      },
      "source": [
        "population = pd.read_excel(f\"{path_start}output_distance.xlsx\")\n",
        "population.head()"
      ],
      "execution_count": 4,
      "outputs": [
        {
          "output_type": "execute_result",
          "data": {
            "text/html": [
              "<div>\n",
              "<style scoped>\n",
              "    .dataframe tbody tr th:only-of-type {\n",
              "        vertical-align: middle;\n",
              "    }\n",
              "\n",
              "    .dataframe tbody tr th {\n",
              "        vertical-align: top;\n",
              "    }\n",
              "\n",
              "    .dataframe thead th {\n",
              "        text-align: right;\n",
              "    }\n",
              "</style>\n",
              "<table border=\"1\" class=\"dataframe\">\n",
              "  <thead>\n",
              "    <tr style=\"text-align: right;\">\n",
              "      <th></th>\n",
              "      <th>NAME</th>\n",
              "      <th>POPULAÇÃO ESTIMADA</th>\n",
              "      <th>STATE</th>\n",
              "    </tr>\n",
              "  </thead>\n",
              "  <tbody>\n",
              "    <tr>\n",
              "      <th>0</th>\n",
              "      <td>Aracaju/SE</td>\n",
              "      <td>632744</td>\n",
              "      <td>SE</td>\n",
              "    </tr>\n",
              "    <tr>\n",
              "      <th>1</th>\n",
              "      <td>Belém/PA</td>\n",
              "      <td>1439561</td>\n",
              "      <td>PA</td>\n",
              "    </tr>\n",
              "    <tr>\n",
              "      <th>2</th>\n",
              "      <td>Belo Horizonte/MG</td>\n",
              "      <td>2502557</td>\n",
              "      <td>MG</td>\n",
              "    </tr>\n",
              "    <tr>\n",
              "      <th>3</th>\n",
              "      <td>Boa Vista/RR</td>\n",
              "      <td>320714</td>\n",
              "      <td>RR</td>\n",
              "    </tr>\n",
              "    <tr>\n",
              "      <th>4</th>\n",
              "      <td>Brasília/DF</td>\n",
              "      <td>2914830</td>\n",
              "      <td>DF</td>\n",
              "    </tr>\n",
              "  </tbody>\n",
              "</table>\n",
              "</div>"
            ],
            "text/plain": [
              "                NAME POPULAÇÃO ESTIMADA STATE\n",
              "0         Aracaju/SE             632744    SE\n",
              "1           Belém/PA            1439561    PA\n",
              "2  Belo Horizonte/MG            2502557    MG\n",
              "3       Boa Vista/RR             320714    RR\n",
              "4        Brasília/DF            2914830    DF"
            ]
          },
          "metadata": {
            "tags": []
          },
          "execution_count": 4
        }
      ]
    },
    {
      "cell_type": "code",
      "metadata": {
        "colab": {
          "base_uri": "https://localhost:8080/"
        },
        "id": "W0lRzxad0Iff",
        "outputId": "1fa6eb39-0ac8-48fa-91f9-305fa794efcc"
      },
      "source": [
        "population['POPULAÇÃO ESTIMADA'].replace(\"41.487(*)\",\"41487\",inplace=True)\n",
        "population[\"POPULAÇÃO ESTIMADA\"] = population[\"POPULAÇÃO ESTIMADA\"].astype(int)\n",
        "population.info()"
      ],
      "execution_count": 5,
      "outputs": [
        {
          "output_type": "stream",
          "text": [
            "<class 'pandas.core.frame.DataFrame'>\n",
            "RangeIndex: 5560 entries, 0 to 5559\n",
            "Data columns (total 3 columns):\n",
            " #   Column              Non-Null Count  Dtype \n",
            "---  ------              --------------  ----- \n",
            " 0   NAME                5560 non-null   object\n",
            " 1   POPULAÇÃO ESTIMADA  5560 non-null   int64 \n",
            " 2   STATE               5560 non-null   object\n",
            "dtypes: int64(1), object(2)\n",
            "memory usage: 130.4+ KB\n"
          ],
          "name": "stdout"
        }
      ]
    },
    {
      "cell_type": "code",
      "metadata": {
        "colab": {
          "base_uri": "https://localhost:8080/",
          "height": 203
        },
        "id": "cs-TC1ce3-kb",
        "outputId": "b2e9c2c4-4ac4-4591-cc88-e1dd346619c1"
      },
      "source": [
        "population.drop([\"STATE\"],axis=1,inplace=True)\n",
        "distance_cities_pop = distance_cities_pop.merge(population)\n",
        "distance_cities_pop.tail()"
      ],
      "execution_count": 6,
      "outputs": [
        {
          "output_type": "execute_result",
          "data": {
            "text/html": [
              "<div>\n",
              "<style scoped>\n",
              "    .dataframe tbody tr th:only-of-type {\n",
              "        vertical-align: middle;\n",
              "    }\n",
              "\n",
              "    .dataframe tbody tr th {\n",
              "        vertical-align: top;\n",
              "    }\n",
              "\n",
              "    .dataframe thead th {\n",
              "        text-align: right;\n",
              "    }\n",
              "</style>\n",
              "<table border=\"1\" class=\"dataframe\">\n",
              "  <thead>\n",
              "    <tr style=\"text-align: right;\">\n",
              "      <th></th>\n",
              "      <th>NAME</th>\n",
              "      <th>STATE</th>\n",
              "      <th>CLOSEST_CAPITAL</th>\n",
              "      <th>CLOSEST_CAPITAL_STATE</th>\n",
              "      <th>POPULAÇÃO ESTIMADA</th>\n",
              "    </tr>\n",
              "  </thead>\n",
              "  <tbody>\n",
              "    <tr>\n",
              "      <th>5555</th>\n",
              "      <td>Xique-Xique/BA</td>\n",
              "      <td>BA</td>\n",
              "      <td>Salvador/BA</td>\n",
              "      <td>BA</td>\n",
              "      <td>48316</td>\n",
              "    </tr>\n",
              "    <tr>\n",
              "      <th>5556</th>\n",
              "      <td>Zabelê/PB</td>\n",
              "      <td>PB</td>\n",
              "      <td>Maceió/AL</td>\n",
              "      <td>AL</td>\n",
              "      <td>2208</td>\n",
              "    </tr>\n",
              "    <tr>\n",
              "      <th>5557</th>\n",
              "      <td>Zacarias/SP</td>\n",
              "      <td>SP</td>\n",
              "      <td>São Paulo/SP</td>\n",
              "      <td>SP</td>\n",
              "      <td>2574</td>\n",
              "    </tr>\n",
              "    <tr>\n",
              "      <th>5558</th>\n",
              "      <td>Zé Doca/MA</td>\n",
              "      <td>MA</td>\n",
              "      <td>São Luís/MA</td>\n",
              "      <td>MA</td>\n",
              "      <td>50507</td>\n",
              "    </tr>\n",
              "    <tr>\n",
              "      <th>5559</th>\n",
              "      <td>Zortéa/SC</td>\n",
              "      <td>SC</td>\n",
              "      <td>Porto Alegre/RS</td>\n",
              "      <td>RS</td>\n",
              "      <td>3227</td>\n",
              "    </tr>\n",
              "  </tbody>\n",
              "</table>\n",
              "</div>"
            ],
            "text/plain": [
              "                NAME STATE  ... CLOSEST_CAPITAL_STATE POPULAÇÃO ESTIMADA\n",
              "5555  Xique-Xique/BA    BA  ...                    BA              48316\n",
              "5556       Zabelê/PB    PB  ...                    AL               2208\n",
              "5557     Zacarias/SP    SP  ...                    SP               2574\n",
              "5558      Zé Doca/MA    MA  ...                    MA              50507\n",
              "5559       Zortéa/SC    SC  ...                    RS               3227\n",
              "\n",
              "[5 rows x 5 columns]"
            ]
          },
          "metadata": {
            "tags": []
          },
          "execution_count": 6
        }
      ]
    },
    {
      "cell_type": "code",
      "metadata": {
        "colab": {
          "base_uri": "https://localhost:8080/"
        },
        "id": "oFm0moUL5EWD",
        "outputId": "65b37aa7-abee-43a4-ff9d-13ca8d2149cc"
      },
      "source": [
        "distance_cities_pop.info()"
      ],
      "execution_count": 7,
      "outputs": [
        {
          "output_type": "stream",
          "text": [
            "<class 'pandas.core.frame.DataFrame'>\n",
            "Int64Index: 5560 entries, 0 to 5559\n",
            "Data columns (total 5 columns):\n",
            " #   Column                 Non-Null Count  Dtype \n",
            "---  ------                 --------------  ----- \n",
            " 0   NAME                   5560 non-null   object\n",
            " 1   STATE                  5560 non-null   object\n",
            " 2   CLOSEST_CAPITAL        5560 non-null   object\n",
            " 3   CLOSEST_CAPITAL_STATE  5560 non-null   object\n",
            " 4   POPULAÇÃO ESTIMADA     5560 non-null   int64 \n",
            "dtypes: int64(1), object(4)\n",
            "memory usage: 260.6+ KB\n"
          ],
          "name": "stdout"
        }
      ]
    },
    {
      "cell_type": "markdown",
      "metadata": {
        "id": "x_26staC2rCn"
      },
      "source": [
        "## Grouping population by state and closest capital"
      ]
    },
    {
      "cell_type": "code",
      "metadata": {
        "colab": {
          "base_uri": "https://localhost:8080/",
          "height": 234
        },
        "id": "0lkPnMHQ5Umz",
        "outputId": "4aebf5ee-3664-41ab-b9e8-c2f7bc09615e"
      },
      "source": [
        "grouped_states = distance_cities_pop.groupby([\"STATE\",\"CLOSEST_CAPITAL\"])[\"POPULAÇÃO ESTIMADA\"].sum().to_frame()\n",
        "grouped_states = grouped_states.sort_values('POPULAÇÃO ESTIMADA', ascending=False).sort_index(level='STATE', sort_remaining=False)\n",
        "grouped_states.to_csv(\"grouped_pop.csv\")\n",
        "grouped_states.head()"
      ],
      "execution_count": 8,
      "outputs": [
        {
          "output_type": "execute_result",
          "data": {
            "text/html": [
              "<div>\n",
              "<style scoped>\n",
              "    .dataframe tbody tr th:only-of-type {\n",
              "        vertical-align: middle;\n",
              "    }\n",
              "\n",
              "    .dataframe tbody tr th {\n",
              "        vertical-align: top;\n",
              "    }\n",
              "\n",
              "    .dataframe thead th {\n",
              "        text-align: right;\n",
              "    }\n",
              "</style>\n",
              "<table border=\"1\" class=\"dataframe\">\n",
              "  <thead>\n",
              "    <tr style=\"text-align: right;\">\n",
              "      <th></th>\n",
              "      <th></th>\n",
              "      <th>POPULAÇÃO ESTIMADA</th>\n",
              "    </tr>\n",
              "    <tr>\n",
              "      <th>STATE</th>\n",
              "      <th>CLOSEST_CAPITAL</th>\n",
              "      <th></th>\n",
              "    </tr>\n",
              "  </thead>\n",
              "  <tbody>\n",
              "    <tr>\n",
              "      <th>AC</th>\n",
              "      <th>Rio Branco/AC</th>\n",
              "      <td>803513</td>\n",
              "    </tr>\n",
              "    <tr>\n",
              "      <th rowspan=\"2\" valign=\"top\">AL</th>\n",
              "      <th>Maceió/AL</th>\n",
              "      <td>2782411</td>\n",
              "    </tr>\n",
              "    <tr>\n",
              "      <th>Aracaju/SE</th>\n",
              "      <td>558521</td>\n",
              "    </tr>\n",
              "    <tr>\n",
              "      <th rowspan=\"2\" valign=\"top\">AM</th>\n",
              "      <th>Manaus/AM</th>\n",
              "      <td>3322582</td>\n",
              "    </tr>\n",
              "    <tr>\n",
              "      <th>Rio Branco/AC</th>\n",
              "      <td>346268</td>\n",
              "    </tr>\n",
              "  </tbody>\n",
              "</table>\n",
              "</div>"
            ],
            "text/plain": [
              "                       POPULAÇÃO ESTIMADA\n",
              "STATE CLOSEST_CAPITAL                    \n",
              "AC    Rio Branco/AC                803513\n",
              "AL    Maceió/AL                   2782411\n",
              "      Aracaju/SE                   558521\n",
              "AM    Manaus/AM                   3322582\n",
              "      Rio Branco/AC                346268"
            ]
          },
          "metadata": {
            "tags": []
          },
          "execution_count": 8
        }
      ]
    },
    {
      "cell_type": "code",
      "metadata": {
        "colab": {
          "base_uri": "https://localhost:8080/"
        },
        "id": "8K9brqRW72Z-",
        "outputId": "c66d1e48-0f06-472b-d13f-2e84f7ae50f8"
      },
      "source": [
        "nationwide_influenced_pop = distance_cities_pop.groupby([\"CLOSEST_CAPITAL\"])[\"POPULAÇÃO ESTIMADA\"].agg(\"sum\")\n",
        "nationwide_influenced_pop.sort_values(ascending=False).head()"
      ],
      "execution_count": 9,
      "outputs": [
        {
          "output_type": "execute_result",
          "data": {
            "text/plain": [
              "CLOSEST_CAPITAL\n",
              "São Paulo/SP         42127566\n",
              "Rio de Janeiro/RJ    17393326\n",
              "Curitiba/PR          13425941\n",
              "Belo Horizonte/MG    13324194\n",
              "Salvador/BA          12629410\n",
              "Name: POPULAÇÃO ESTIMADA, dtype: int64"
            ]
          },
          "metadata": {
            "tags": []
          },
          "execution_count": 9
        }
      ]
    },
    {
      "cell_type": "code",
      "metadata": {
        "id": "qm25ApeY84Vw"
      },
      "source": [
        "selection = distance_cities_pop[\"STATE\"]==distance_cities_pop[\"CLOSEST_CAPITAL_STATE\"]\n",
        "statewide_pop = distance_cities_pop[selection]"
      ],
      "execution_count": 10,
      "outputs": []
    },
    {
      "cell_type": "code",
      "metadata": {
        "colab": {
          "base_uri": "https://localhost:8080/"
        },
        "id": "5WxaGBhf9FV8",
        "outputId": "3b82d20b-def7-4ed8-9a6e-014112164dc0"
      },
      "source": [
        "statewide_influenced_pop = statewide_pop.groupby([\"CLOSEST_CAPITAL\"])[\"POPULAÇÃO ESTIMADA\"].agg(\"sum\")\n",
        "statewide_influenced_pop.sort_values(ascending=False).head()"
      ],
      "execution_count": 11,
      "outputs": [
        {
          "output_type": "execute_result",
          "data": {
            "text/plain": [
              "CLOSEST_CAPITAL\n",
              "São Paulo/SP         40394666\n",
              "Rio de Janeiro/RJ    15770090\n",
              "Belo Horizonte/MG    13320597\n",
              "Salvador/BA          12383385\n",
              "Porto Alegre/RS      11247972\n",
              "Name: POPULAÇÃO ESTIMADA, dtype: int64"
            ]
          },
          "metadata": {
            "tags": []
          },
          "execution_count": 11
        }
      ]
    },
    {
      "cell_type": "markdown",
      "metadata": {
        "id": "uEjk1V-t24cn"
      },
      "source": [
        "## Creating DF containing Nationwide Influence and Statewide Influence"
      ]
    },
    {
      "cell_type": "code",
      "metadata": {
        "id": "R5ZjL9hJ9dKP"
      },
      "source": [
        "df_series = pd.DataFrame({'NATIONWIDE_POP': nationwide_influenced_pop,'STATEWIDE_POP': statewide_influenced_pop})\n",
        "df_series.reset_index(level=0, inplace=True)\n",
        "df_series[\"STATE\"] = df_series[\"CLOSEST_CAPITAL\"].str.split(\"/\").apply(lambda x:x[1])"
      ],
      "execution_count": 12,
      "outputs": []
    },
    {
      "cell_type": "code",
      "metadata": {
        "id": "TkOlobbF-lWW"
      },
      "source": [
        "state_pop = distance_cities_pop.groupby([\"STATE\"])[\"POPULAÇÃO ESTIMADA\"].agg(\"sum\")\n",
        "df_states_pop = pd.DataFrame({'STATE_POPULATION':state_pop})\n",
        "df_states_pop.reset_index(level=0, inplace=True)"
      ],
      "execution_count": 13,
      "outputs": []
    },
    {
      "cell_type": "code",
      "metadata": {
        "colab": {
          "base_uri": "https://localhost:8080/",
          "height": 203
        },
        "id": "t4R1KeUu_dFm",
        "outputId": "d5c55878-578f-4ebe-f29e-372f7574fd3c"
      },
      "source": [
        "df_series = df_series.merge(df_states_pop)\n",
        "df_series.head()"
      ],
      "execution_count": 14,
      "outputs": [
        {
          "output_type": "execute_result",
          "data": {
            "text/html": [
              "<div>\n",
              "<style scoped>\n",
              "    .dataframe tbody tr th:only-of-type {\n",
              "        vertical-align: middle;\n",
              "    }\n",
              "\n",
              "    .dataframe tbody tr th {\n",
              "        vertical-align: top;\n",
              "    }\n",
              "\n",
              "    .dataframe thead th {\n",
              "        text-align: right;\n",
              "    }\n",
              "</style>\n",
              "<table border=\"1\" class=\"dataframe\">\n",
              "  <thead>\n",
              "    <tr style=\"text-align: right;\">\n",
              "      <th></th>\n",
              "      <th>CLOSEST_CAPITAL</th>\n",
              "      <th>NATIONWIDE_POP</th>\n",
              "      <th>STATEWIDE_POP</th>\n",
              "      <th>STATE</th>\n",
              "      <th>STATE_POPULATION</th>\n",
              "    </tr>\n",
              "  </thead>\n",
              "  <tbody>\n",
              "    <tr>\n",
              "      <th>0</th>\n",
              "      <td>Aracaju/SE</td>\n",
              "      <td>5085599</td>\n",
              "      <td>2242937</td>\n",
              "      <td>SE</td>\n",
              "      <td>2242937</td>\n",
              "    </tr>\n",
              "    <tr>\n",
              "      <th>1</th>\n",
              "      <td>Belo Horizonte/MG</td>\n",
              "      <td>13324194</td>\n",
              "      <td>13320597</td>\n",
              "      <td>MG</td>\n",
              "      <td>20869101</td>\n",
              "    </tr>\n",
              "    <tr>\n",
              "      <th>2</th>\n",
              "      <td>Belém/PA</td>\n",
              "      <td>6403637</td>\n",
              "      <td>5783048</td>\n",
              "      <td>PA</td>\n",
              "      <td>8191477</td>\n",
              "    </tr>\n",
              "    <tr>\n",
              "      <th>3</th>\n",
              "      <td>Boa Vista/RR</td>\n",
              "      <td>571163</td>\n",
              "      <td>505665</td>\n",
              "      <td>RR</td>\n",
              "      <td>505665</td>\n",
              "    </tr>\n",
              "    <tr>\n",
              "      <th>4</th>\n",
              "      <td>Brasília/DF</td>\n",
              "      <td>5721218</td>\n",
              "      <td>2914830</td>\n",
              "      <td>DF</td>\n",
              "      <td>2914830</td>\n",
              "    </tr>\n",
              "  </tbody>\n",
              "</table>\n",
              "</div>"
            ],
            "text/plain": [
              "     CLOSEST_CAPITAL  NATIONWIDE_POP  STATEWIDE_POP STATE  STATE_POPULATION\n",
              "0         Aracaju/SE         5085599        2242937    SE           2242937\n",
              "1  Belo Horizonte/MG        13324194       13320597    MG          20869101\n",
              "2           Belém/PA         6403637        5783048    PA           8191477\n",
              "3       Boa Vista/RR          571163         505665    RR            505665\n",
              "4        Brasília/DF         5721218        2914830    DF           2914830"
            ]
          },
          "metadata": {
            "tags": []
          },
          "execution_count": 14
        }
      ]
    },
    {
      "cell_type": "code",
      "metadata": {
        "colab": {
          "base_uri": "https://localhost:8080/",
          "height": 203
        },
        "id": "bEjC_AkZA1Gx",
        "outputId": "95cee66e-7be1-4944-98a8-87c783b1b23f"
      },
      "source": [
        "df_series[\"STATE/NATION\"] = np.round((df_series[\"STATEWIDE_POP\"]/df_series[\"NATIONWIDE_POP\"])*100,2)\n",
        "df_series[\"STATEWIDE_INFLUENCE\"] = np.round((df_series[\"STATEWIDE_POP\"]/df_series[\"STATE_POPULATION\"])*100,2)\n",
        "total_pop_brazil = df_series[\"STATE_POPULATION\"].sum()\n",
        "df_series[\"NATIONWIDE_INFLUENCE\"] = np.round((df_series[\"NATIONWIDE_POP\"]/total_pop_brazil)*100,2)\n",
        "df_series.drop([\"STATE\"],axis=1,inplace=True)\n",
        "df_series.head()"
      ],
      "execution_count": 15,
      "outputs": [
        {
          "output_type": "execute_result",
          "data": {
            "text/html": [
              "<div>\n",
              "<style scoped>\n",
              "    .dataframe tbody tr th:only-of-type {\n",
              "        vertical-align: middle;\n",
              "    }\n",
              "\n",
              "    .dataframe tbody tr th {\n",
              "        vertical-align: top;\n",
              "    }\n",
              "\n",
              "    .dataframe thead th {\n",
              "        text-align: right;\n",
              "    }\n",
              "</style>\n",
              "<table border=\"1\" class=\"dataframe\">\n",
              "  <thead>\n",
              "    <tr style=\"text-align: right;\">\n",
              "      <th></th>\n",
              "      <th>CLOSEST_CAPITAL</th>\n",
              "      <th>NATIONWIDE_POP</th>\n",
              "      <th>STATEWIDE_POP</th>\n",
              "      <th>STATE_POPULATION</th>\n",
              "      <th>STATE/NATION</th>\n",
              "      <th>STATEWIDE_INFLUENCE</th>\n",
              "      <th>NATIONWIDE_INFLUENCE</th>\n",
              "    </tr>\n",
              "  </thead>\n",
              "  <tbody>\n",
              "    <tr>\n",
              "      <th>0</th>\n",
              "      <td>Aracaju/SE</td>\n",
              "      <td>5085599</td>\n",
              "      <td>2242937</td>\n",
              "      <td>2242937</td>\n",
              "      <td>44.10</td>\n",
              "      <td>100.00</td>\n",
              "      <td>2.49</td>\n",
              "    </tr>\n",
              "    <tr>\n",
              "      <th>1</th>\n",
              "      <td>Belo Horizonte/MG</td>\n",
              "      <td>13324194</td>\n",
              "      <td>13320597</td>\n",
              "      <td>20869101</td>\n",
              "      <td>99.97</td>\n",
              "      <td>63.83</td>\n",
              "      <td>6.52</td>\n",
              "    </tr>\n",
              "    <tr>\n",
              "      <th>2</th>\n",
              "      <td>Belém/PA</td>\n",
              "      <td>6403637</td>\n",
              "      <td>5783048</td>\n",
              "      <td>8191477</td>\n",
              "      <td>90.31</td>\n",
              "      <td>70.60</td>\n",
              "      <td>3.13</td>\n",
              "    </tr>\n",
              "    <tr>\n",
              "      <th>3</th>\n",
              "      <td>Boa Vista/RR</td>\n",
              "      <td>571163</td>\n",
              "      <td>505665</td>\n",
              "      <td>505665</td>\n",
              "      <td>88.53</td>\n",
              "      <td>100.00</td>\n",
              "      <td>0.28</td>\n",
              "    </tr>\n",
              "    <tr>\n",
              "      <th>4</th>\n",
              "      <td>Brasília/DF</td>\n",
              "      <td>5721218</td>\n",
              "      <td>2914830</td>\n",
              "      <td>2914830</td>\n",
              "      <td>50.95</td>\n",
              "      <td>100.00</td>\n",
              "      <td>2.80</td>\n",
              "    </tr>\n",
              "  </tbody>\n",
              "</table>\n",
              "</div>"
            ],
            "text/plain": [
              "     CLOSEST_CAPITAL  NATIONWIDE_POP  ...  STATEWIDE_INFLUENCE  NATIONWIDE_INFLUENCE\n",
              "0         Aracaju/SE         5085599  ...               100.00                  2.49\n",
              "1  Belo Horizonte/MG        13324194  ...                63.83                  6.52\n",
              "2           Belém/PA         6403637  ...                70.60                  3.13\n",
              "3       Boa Vista/RR          571163  ...               100.00                  0.28\n",
              "4        Brasília/DF         5721218  ...               100.00                  2.80\n",
              "\n",
              "[5 rows x 7 columns]"
            ]
          },
          "metadata": {
            "tags": []
          },
          "execution_count": 15
        }
      ]
    },
    {
      "cell_type": "code",
      "metadata": {
        "colab": {
          "base_uri": "https://localhost:8080/",
          "height": 282
        },
        "id": "q3dL5mzzc_v9",
        "outputId": "aa3befb0-c010-488b-e2a7-d789755c05d4"
      },
      "source": [
        "select = df_series[\"STATEWIDE_INFLUENCE\"] == 100.0\n",
        "print(\"CAPITALS WITH STATEWIDE INFLUENCE OF 100%\")\n",
        "capitals_100 = df_series[select][\"CLOSEST_CAPITAL\"].to_frame()\n",
        "capitals_100.rename(columns={\"CLOSEST_CAPITAL\":\"CAPITAL\"},inplace=True)\n",
        "capitals_100.reset_index(inplace=True,drop=True)\n",
        "capitals_100"
      ],
      "execution_count": 16,
      "outputs": [
        {
          "output_type": "stream",
          "text": [
            "CAPITALS WITH STATEWIDE INFLUENCE OF 100%\n"
          ],
          "name": "stdout"
        },
        {
          "output_type": "execute_result",
          "data": {
            "text/html": [
              "<div>\n",
              "<style scoped>\n",
              "    .dataframe tbody tr th:only-of-type {\n",
              "        vertical-align: middle;\n",
              "    }\n",
              "\n",
              "    .dataframe tbody tr th {\n",
              "        vertical-align: top;\n",
              "    }\n",
              "\n",
              "    .dataframe thead th {\n",
              "        text-align: right;\n",
              "    }\n",
              "</style>\n",
              "<table border=\"1\" class=\"dataframe\">\n",
              "  <thead>\n",
              "    <tr style=\"text-align: right;\">\n",
              "      <th></th>\n",
              "      <th>CAPITAL</th>\n",
              "    </tr>\n",
              "  </thead>\n",
              "  <tbody>\n",
              "    <tr>\n",
              "      <th>0</th>\n",
              "      <td>Aracaju/SE</td>\n",
              "    </tr>\n",
              "    <tr>\n",
              "      <th>1</th>\n",
              "      <td>Boa Vista/RR</td>\n",
              "    </tr>\n",
              "    <tr>\n",
              "      <th>2</th>\n",
              "      <td>Brasília/DF</td>\n",
              "    </tr>\n",
              "    <tr>\n",
              "      <th>3</th>\n",
              "      <td>Macapá/AP</td>\n",
              "    </tr>\n",
              "    <tr>\n",
              "      <th>4</th>\n",
              "      <td>Porto Alegre/RS</td>\n",
              "    </tr>\n",
              "    <tr>\n",
              "      <th>5</th>\n",
              "      <td>Rio Branco/AC</td>\n",
              "    </tr>\n",
              "    <tr>\n",
              "      <th>6</th>\n",
              "      <td>Vitória/ES</td>\n",
              "    </tr>\n",
              "  </tbody>\n",
              "</table>\n",
              "</div>"
            ],
            "text/plain": [
              "           CAPITAL\n",
              "0       Aracaju/SE\n",
              "1     Boa Vista/RR\n",
              "2      Brasília/DF\n",
              "3        Macapá/AP\n",
              "4  Porto Alegre/RS\n",
              "5    Rio Branco/AC\n",
              "6       Vitória/ES"
            ]
          },
          "metadata": {
            "tags": []
          },
          "execution_count": 16
        }
      ]
    },
    {
      "cell_type": "markdown",
      "metadata": {
        "id": "fzEA1uunbOAY"
      },
      "source": [
        "## PLOTING"
      ]
    },
    {
      "cell_type": "code",
      "metadata": {
        "id": "9SK3ubW2b5ZH"
      },
      "source": [
        "title_font = 20\n",
        "label_font = 14\n",
        "plt.rcParams[\"figure.figsize\"] = [9, 6]\n",
        "def plot_bar(*args):\n",
        "  plt.barh(args[0],args[1])\n",
        "  plt.suptitle(args[-1],fontsize=title_font)\n",
        "  plt.title(args[2],fontsize=label_font)\n",
        "  plt.xlabel('% da população',fontsize=label_font)\n",
        "  plt.ylabel('Capital',fontsize=label_font)\n",
        "  plt.xticks(fontsize=label_font)\n",
        "  plt.yticks(fontsize=label_font)\n",
        "  plt.grid(lw=\"0.2\")\n",
        "  plt.show()"
      ],
      "execution_count": 17,
      "outputs": []
    },
    {
      "cell_type": "code",
      "metadata": {
        "id": "80awfYFJCmOP"
      },
      "source": [
        "df_series.sort_values(by=\"STATEWIDE_INFLUENCE\",inplace=True,ascending=False)\n",
        "df_series_10 = df_series.head(10)\n",
        "df_series.sort_values(by=\"STATEWIDE_INFLUENCE\",inplace=True,ascending=False)\n",
        "df_last_10 = df_series.tail(6)"
      ],
      "execution_count": 18,
      "outputs": []
    },
    {
      "cell_type": "code",
      "metadata": {
        "colab": {
          "base_uri": "https://localhost:8080/",
          "height": 439
        },
        "id": "_UR70h6ke6bp",
        "outputId": "f40d3a4c-a4a4-476d-e019-35e6dbc224c3"
      },
      "source": [
        "plot_bar(df_last_10[\"CLOSEST_CAPITAL\"],df_last_10[\"STATEWIDE_INFLUENCE\"],\n",
        "         'Influência estadual',\"Capitais menos influentes\")"
      ],
      "execution_count": 19,
      "outputs": [
        {
          "output_type": "display_data",
          "data": {
            "image/png": "[encoded data removed]",
            "text/plain": [
              "<Figure size 648x432 with 1 Axes>"
            ]
          },
          "metadata": {
            "tags": [],
            "needs_background": "light"
          }
        }
      ]
    },
    {
      "cell_type": "code",
      "metadata": {
        "id": "if4fac9WEkt4"
      },
      "source": [
        "df_series.sort_values(by=\"STATE/NATION\",inplace=True,ascending=True)\n",
        "df_series_10 = df_series.tail(6)\n",
        "df_series.sort_values(by=\"STATE/NATION\",inplace=True,ascending=False)\n",
        "df_last_10 = df_series.tail(6)"
      ],
      "execution_count": 20,
      "outputs": []
    },
    {
      "cell_type": "code",
      "metadata": {
        "colab": {
          "base_uri": "https://localhost:8080/",
          "height": 439
        },
        "id": "1ZsIUO9BCGJC",
        "outputId": "5f752d28-8dc1-4688-f270-79c199dabdfb"
      },
      "source": [
        "plot_bar(df_series_10[\"CLOSEST_CAPITAL\"],df_series_10[\"STATE/NATION\"],\n",
        "         '% da população influenciada que é estadual','Maiores Razões ESTADO/PAÍS')"
      ],
      "execution_count": 21,
      "outputs": [
        {
          "output_type": "display_data",
          "data": {
            "image/png": "[encoded data removed]",
            "text/plain": [
              "<Figure size 648x432 with 1 Axes>"
            ]
          },
          "metadata": {
            "tags": [],
            "needs_background": "light"
          }
        }
      ]
    },
    {
      "cell_type": "code",
      "metadata": {
        "colab": {
          "base_uri": "https://localhost:8080/",
          "height": 439
        },
        "id": "rYAuIFR0glLD",
        "outputId": "e65f8fa6-d24c-48b4-853a-f5e7deda9926"
      },
      "source": [
        "plot_bar(df_last_10[\"CLOSEST_CAPITAL\"],df_last_10[\"STATE/NATION\"],\n",
        "         '% da população influenciada que é estadual','Menores Razões ESTADO/PAÍS')"
      ],
      "execution_count": 22,
      "outputs": [
        {
          "output_type": "display_data",
          "data": {
            "image/png": "[encoded data removed]",
            "text/plain": [
              "<Figure size 648x432 with 1 Axes>"
            ]
          },
          "metadata": {
            "tags": [],
            "needs_background": "light"
          }
        }
      ]
    },
    {
      "cell_type": "code",
      "metadata": {
        "colab": {
          "base_uri": "https://localhost:8080/",
          "height": 439
        },
        "id": "N4N1rGTpHYfd",
        "outputId": "8cdce52d-8cfc-4a8c-fbbe-5682c8a87545"
      },
      "source": [
        "df_series.sort_values(by=\"NATIONWIDE_INFLUENCE\",inplace=True,ascending=True)\n",
        "df_series_10 = df_series.tail(6)\n",
        "plot_bar(df_series_10[\"CLOSEST_CAPITAL\"],df_series_10[\"NATIONWIDE_INFLUENCE\"],\n",
        "         'Maiores porcentagens','% DA POPULAÇÃO BRASILEIRA NA ZONA DE INFLUÊNCIA')"
      ],
      "execution_count": 23,
      "outputs": [
        {
          "output_type": "display_data",
          "data": {
            "image/png": "[encoded data removed]",
            "text/plain": [
              "<Figure size 648x432 with 1 Axes>"
            ]
          },
          "metadata": {
            "tags": [],
            "needs_background": "light"
          }
        }
      ]
    }
  ]
}