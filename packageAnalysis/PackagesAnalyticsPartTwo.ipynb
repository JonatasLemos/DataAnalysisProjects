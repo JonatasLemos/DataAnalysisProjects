{
  "nbformat": 4,
  "nbformat_minor": 0,
  "metadata": {
    "colab": {
      "name": "PackagesAnalyticsPartTwo.ipynb",
      "provenance": [],
      "collapsed_sections": [
        "3l3GhFz_xdoC",
        "ZdVaOiiMx-7S"
      ],
      "include_colab_link": true
    },
    "kernelspec": {
      "display_name": "Python 3",
      "language": "python",
      "name": "python3"
    },
    "language_info": {
      "codemirror_mode": {
        "name": "ipython",
        "version": 3
      },
      "file_extension": ".py",
      "mimetype": "text/x-python",
      "name": "python",
      "nbconvert_exporter": "python",
      "pygments_lexer": "ipython3",
      "version": "3.8.6"
    }
  },
  "cells": [
    {
      "cell_type": "markdown",
      "metadata": {
        "id": "view-in-github",
        "colab_type": "text"
      },
      "source": [
        "<a href=\"https://colab.research.google.com/github/JonatasLemos/DataAnalysisProjects/blob/main/packageAnalysis/PackagesAnalyticsPartTwo.ipynb\" target=\"_parent\"><img src=\"https://colab.research.google.com/assets/colab-badge.svg\" alt=\"Open In Colab\"/></a>"
      ]
    },
    {
      "cell_type": "markdown",
      "metadata": {
        "id": "U6XQ5zcKuG1k"
      },
      "source": [
        "# Drawing conclusions from analytics values"
      ]
    },
    {
      "cell_type": "code",
      "metadata": {
        "colab": {
          "base_uri": "https://localhost:8080/"
        },
        "id": "3kyJk_YmyN_R",
        "outputId": "02a4bde6-8326-4fbc-9e06-3bceed98ad70"
      },
      "source": [
        "from google.colab import drive\n",
        "drive.mount('/content/drive')"
      ],
      "execution_count": null,
      "outputs": [
        {
          "output_type": "stream",
          "text": [
            "Drive already mounted at /content/drive; to attempt to forcibly remount, call drive.mount(\"/content/drive\", force_remount=True).\n"
          ],
          "name": "stdout"
        }
      ]
    },
    {
      "cell_type": "code",
      "metadata": {
        "id": "cwpWcl8y65zY"
      },
      "source": [
        "import pandas as pd\n",
        "import numpy as np\n",
        "import matplotlib.pyplot as plt\n",
        "df_packages = pd.read_csv(\"/content/drive/MyDrive/Colab Data/packages.csv\")\n",
        "df_packages = df_packages.rename(columns=\n",
        "          {\"name\":\"package name\",\"desc\": \"package description\", \"last_30_d\": \"installs last 30 days\",\n",
        "          \"last_year\":\"installs last year\"})\n",
        "df_packages = df_packages.drop([\"build_error\",\"last_90_d\"],axis=1)\n",
        "len_col = len(df_packages[\"installs last year\"])"
      ],
      "execution_count": null,
      "outputs": []
    },
    {
      "cell_type": "markdown",
      "metadata": {
        "id": "3l3GhFz_xdoC"
      },
      "source": [
        "## Preparing DFs to plot\n",
        "\n",
        "\n",
        "1.   DF showing packages with most installs last year\n",
        "2.   DF showing packages with most installs last month\n",
        "3.   DF showing packages with the biggest changes in position\n",
        "4.   DF showing last_month/last_year ratio\n",
        "\n",
        "\n",
        "\n"
      ]
    },
    {
      "cell_type": "code",
      "metadata": {
        "colab": {
          "base_uri": "https://localhost:8080/",
          "height": 203
        },
        "id": "o0kdCg1OhDOd",
        "outputId": "05a44ca2-5c1d-4751-802e-4b189ffacbb9"
      },
      "source": [
        "df_packages.sort_values(by=\"installs last year\",ascending=False,inplace=True)\n",
        "df_most_last_year = df_packages.head(7).copy()\n",
        "df_packages[\"position year\"] = np.arange(1,len_col+1)\n",
        "df_packages.head()"
      ],
      "execution_count": null,
      "outputs": [
        {
          "output_type": "execute_result",
          "data": {
            "text/html": [
              "<div>\n",
              "<style scoped>\n",
              "    .dataframe tbody tr th:only-of-type {\n",
              "        vertical-align: middle;\n",
              "    }\n",
              "\n",
              "    .dataframe tbody tr th {\n",
              "        vertical-align: top;\n",
              "    }\n",
              "\n",
              "    .dataframe thead th {\n",
              "        text-align: right;\n",
              "    }\n",
              "</style>\n",
              "<table border=\"1\" class=\"dataframe\">\n",
              "  <thead>\n",
              "    <tr style=\"text-align: right;\">\n",
              "      <th></th>\n",
              "      <th>package name</th>\n",
              "      <th>package description</th>\n",
              "      <th>installs last 30 days</th>\n",
              "      <th>installs last year</th>\n",
              "      <th>position year</th>\n",
              "    </tr>\n",
              "  </thead>\n",
              "  <tbody>\n",
              "    <tr>\n",
              "      <th>3655</th>\n",
              "      <td>openssl@1.1</td>\n",
              "      <td>Cryptography and SSL/TLS Toolkit</td>\n",
              "      <td>688868</td>\n",
              "      <td>8238647</td>\n",
              "      <td>1</td>\n",
              "    </tr>\n",
              "    <tr>\n",
              "      <th>4177</th>\n",
              "      <td>readline</td>\n",
              "      <td>Library for command-line editing</td>\n",
              "      <td>605013</td>\n",
              "      <td>6047926</td>\n",
              "      <td>2</td>\n",
              "    </tr>\n",
              "    <tr>\n",
              "      <th>4617</th>\n",
              "      <td>sqlite</td>\n",
              "      <td>Command-line interface for SQLite</td>\n",
              "      <td>477451</td>\n",
              "      <td>5725333</td>\n",
              "      <td>3</td>\n",
              "    </tr>\n",
              "    <tr>\n",
              "      <th>4068</th>\n",
              "      <td>python@3.8</td>\n",
              "      <td>Interpreted, interactive, object-oriented prog...</td>\n",
              "      <td>259063</td>\n",
              "      <td>4665602</td>\n",
              "      <td>4</td>\n",
              "    </tr>\n",
              "    <tr>\n",
              "      <th>2124</th>\n",
              "      <td>icu4c</td>\n",
              "      <td>C/C++ and Java libraries for Unicode and globa...</td>\n",
              "      <td>288292</td>\n",
              "      <td>4549268</td>\n",
              "      <td>5</td>\n",
              "    </tr>\n",
              "  </tbody>\n",
              "</table>\n",
              "</div>"
            ],
            "text/plain": [
              "     package name  ... position year\n",
              "3655  openssl@1.1  ...             1\n",
              "4177     readline  ...             2\n",
              "4617       sqlite  ...             3\n",
              "4068   python@3.8  ...             4\n",
              "2124        icu4c  ...             5\n",
              "\n",
              "[5 rows x 5 columns]"
            ]
          },
          "metadata": {
            "tags": []
          },
          "execution_count": 3
        }
      ]
    },
    {
      "cell_type": "code",
      "metadata": {
        "id": "Wa-Cxm_Z_TcQ"
      },
      "source": [
        "df_packages[\"last 30 days/last year\"] = round((df_packages[\"installs last 30 days\"]/df_packages[\"installs last year\"])*100,2)\n"
      ],
      "execution_count": null,
      "outputs": []
    },
    {
      "cell_type": "code",
      "metadata": {
        "colab": {
          "base_uri": "https://localhost:8080/",
          "height": 203
        },
        "id": "h3c8bBYakEo8",
        "outputId": "a129c0ef-2204-4c16-9f6c-265184b546c7"
      },
      "source": [
        "df_packages.sort_values(by=\"installs last 30 days\",ascending=False,inplace=True)\n",
        "df_most_last_30d = df_packages.head(7).copy()\n",
        "df_packages[\"position month\"] = np.arange(1,len_col+1)\n",
        "df_packages[\"change in position\"] = df_packages[\"position year\"]-df_packages[\"position month\"]\n",
        "df_packages.head()"
      ],
      "execution_count": null,
      "outputs": [
        {
          "output_type": "execute_result",
          "data": {
            "text/html": [
              "<div>\n",
              "<style scoped>\n",
              "    .dataframe tbody tr th:only-of-type {\n",
              "        vertical-align: middle;\n",
              "    }\n",
              "\n",
              "    .dataframe tbody tr th {\n",
              "        vertical-align: top;\n",
              "    }\n",
              "\n",
              "    .dataframe thead th {\n",
              "        text-align: right;\n",
              "    }\n",
              "</style>\n",
              "<table border=\"1\" class=\"dataframe\">\n",
              "  <thead>\n",
              "    <tr style=\"text-align: right;\">\n",
              "      <th></th>\n",
              "      <th>package name</th>\n",
              "      <th>package description</th>\n",
              "      <th>installs last 30 days</th>\n",
              "      <th>installs last year</th>\n",
              "      <th>position year</th>\n",
              "      <th>last 30 days/last year</th>\n",
              "      <th>position month</th>\n",
              "      <th>change in position</th>\n",
              "    </tr>\n",
              "  </thead>\n",
              "  <tbody>\n",
              "    <tr>\n",
              "      <th>4069</th>\n",
              "      <td>python@3.9</td>\n",
              "      <td>Interpreted, interactive, object-oriented prog...</td>\n",
              "      <td>734572</td>\n",
              "      <td>3129188</td>\n",
              "      <td>11</td>\n",
              "      <td>23.47</td>\n",
              "      <td>1</td>\n",
              "      <td>10</td>\n",
              "    </tr>\n",
              "    <tr>\n",
              "      <th>3655</th>\n",
              "      <td>openssl@1.1</td>\n",
              "      <td>Cryptography and SSL/TLS Toolkit</td>\n",
              "      <td>688868</td>\n",
              "      <td>8238647</td>\n",
              "      <td>1</td>\n",
              "      <td>8.36</td>\n",
              "      <td>2</td>\n",
              "      <td>-1</td>\n",
              "    </tr>\n",
              "    <tr>\n",
              "      <th>4781</th>\n",
              "      <td>tcl-tk</td>\n",
              "      <td>Tool Command Language</td>\n",
              "      <td>638433</td>\n",
              "      <td>877834</td>\n",
              "      <td>88</td>\n",
              "      <td>72.73</td>\n",
              "      <td>3</td>\n",
              "      <td>85</td>\n",
              "    </tr>\n",
              "    <tr>\n",
              "      <th>4177</th>\n",
              "      <td>readline</td>\n",
              "      <td>Library for command-line editing</td>\n",
              "      <td>605013</td>\n",
              "      <td>6047926</td>\n",
              "      <td>2</td>\n",
              "      <td>10.00</td>\n",
              "      <td>4</td>\n",
              "      <td>-2</td>\n",
              "    </tr>\n",
              "    <tr>\n",
              "      <th>4617</th>\n",
              "      <td>sqlite</td>\n",
              "      <td>Command-line interface for SQLite</td>\n",
              "      <td>477451</td>\n",
              "      <td>5725333</td>\n",
              "      <td>3</td>\n",
              "      <td>8.34</td>\n",
              "      <td>5</td>\n",
              "      <td>-2</td>\n",
              "    </tr>\n",
              "  </tbody>\n",
              "</table>\n",
              "</div>"
            ],
            "text/plain": [
              "     package name  ... change in position\n",
              "4069   python@3.9  ...                 10\n",
              "3655  openssl@1.1  ...                 -1\n",
              "4781       tcl-tk  ...                 85\n",
              "4177     readline  ...                 -2\n",
              "4617       sqlite  ...                 -2\n",
              "\n",
              "[5 rows x 8 columns]"
            ]
          },
          "metadata": {
            "tags": []
          },
          "execution_count": 5
        }
      ]
    },
    {
      "cell_type": "code",
      "metadata": {
        "colab": {
          "base_uri": "https://localhost:8080/",
          "height": 203
        },
        "id": "4dxD1SYhTDoV",
        "outputId": "fd01a212-03b8-4ed9-eec0-08d3f4302451"
      },
      "source": [
        "df_packages.sort_values(by=\"installs last 30 days\",ascending=False,inplace=True)\n",
        "major_changes = df_packages.head(7).copy()\n",
        "major_changes.sort_values(by=\"change in position\",inplace=True,ascending=False)\n",
        "major_changes[[\"package name\",\"package description\",\"change in position\"]].head()"
      ],
      "execution_count": null,
      "outputs": [
        {
          "output_type": "execute_result",
          "data": {
            "text/html": [
              "<div>\n",
              "<style scoped>\n",
              "    .dataframe tbody tr th:only-of-type {\n",
              "        vertical-align: middle;\n",
              "    }\n",
              "\n",
              "    .dataframe tbody tr th {\n",
              "        vertical-align: top;\n",
              "    }\n",
              "\n",
              "    .dataframe thead th {\n",
              "        text-align: right;\n",
              "    }\n",
              "</style>\n",
              "<table border=\"1\" class=\"dataframe\">\n",
              "  <thead>\n",
              "    <tr style=\"text-align: right;\">\n",
              "      <th></th>\n",
              "      <th>package name</th>\n",
              "      <th>package description</th>\n",
              "      <th>change in position</th>\n",
              "    </tr>\n",
              "  </thead>\n",
              "  <tbody>\n",
              "    <tr>\n",
              "      <th>4781</th>\n",
              "      <td>tcl-tk</td>\n",
              "      <td>Tool Command Language</td>\n",
              "      <td>85</td>\n",
              "    </tr>\n",
              "    <tr>\n",
              "      <th>4069</th>\n",
              "      <td>python@3.9</td>\n",
              "      <td>Interpreted, interactive, object-oriented prog...</td>\n",
              "      <td>10</td>\n",
              "    </tr>\n",
              "    <tr>\n",
              "      <th>2614</th>\n",
              "      <td>libffi</td>\n",
              "      <td>Portable Foreign Function Interface library</td>\n",
              "      <td>6</td>\n",
              "    </tr>\n",
              "    <tr>\n",
              "      <th>1706</th>\n",
              "      <td>glib</td>\n",
              "      <td>Core application library for C</td>\n",
              "      <td>1</td>\n",
              "    </tr>\n",
              "    <tr>\n",
              "      <th>3655</th>\n",
              "      <td>openssl@1.1</td>\n",
              "      <td>Cryptography and SSL/TLS Toolkit</td>\n",
              "      <td>-1</td>\n",
              "    </tr>\n",
              "  </tbody>\n",
              "</table>\n",
              "</div>"
            ],
            "text/plain": [
              "     package name  ... change in position\n",
              "4781       tcl-tk  ...                 85\n",
              "4069   python@3.9  ...                 10\n",
              "2614       libffi  ...                  6\n",
              "1706         glib  ...                  1\n",
              "3655  openssl@1.1  ...                 -1\n",
              "\n",
              "[5 rows x 3 columns]"
            ]
          },
          "metadata": {
            "tags": []
          },
          "execution_count": 6
        }
      ]
    },
    {
      "cell_type": "code",
      "metadata": {
        "id": "SXtGdY1HWO4V",
        "scrolled": true,
        "colab": {
          "base_uri": "https://localhost:8080/",
          "height": 203
        },
        "outputId": "75e1ef83-45f3-4514-fc6a-dd05551d75ee"
      },
      "source": [
        "df_largest_proportions = major_changes.head(7).copy()\n",
        "df_largest_proportions[[\"package name\",\"last 30 days/last year\",\"change in position\"]].head()"
      ],
      "execution_count": null,
      "outputs": [
        {
          "output_type": "execute_result",
          "data": {
            "text/html": [
              "<div>\n",
              "<style scoped>\n",
              "    .dataframe tbody tr th:only-of-type {\n",
              "        vertical-align: middle;\n",
              "    }\n",
              "\n",
              "    .dataframe tbody tr th {\n",
              "        vertical-align: top;\n",
              "    }\n",
              "\n",
              "    .dataframe thead th {\n",
              "        text-align: right;\n",
              "    }\n",
              "</style>\n",
              "<table border=\"1\" class=\"dataframe\">\n",
              "  <thead>\n",
              "    <tr style=\"text-align: right;\">\n",
              "      <th></th>\n",
              "      <th>package name</th>\n",
              "      <th>last 30 days/last year</th>\n",
              "      <th>change in position</th>\n",
              "    </tr>\n",
              "  </thead>\n",
              "  <tbody>\n",
              "    <tr>\n",
              "      <th>4781</th>\n",
              "      <td>tcl-tk</td>\n",
              "      <td>72.73</td>\n",
              "      <td>85</td>\n",
              "    </tr>\n",
              "    <tr>\n",
              "      <th>4069</th>\n",
              "      <td>python@3.9</td>\n",
              "      <td>23.47</td>\n",
              "      <td>10</td>\n",
              "    </tr>\n",
              "    <tr>\n",
              "      <th>2614</th>\n",
              "      <td>libffi</td>\n",
              "      <td>14.47</td>\n",
              "      <td>6</td>\n",
              "    </tr>\n",
              "    <tr>\n",
              "      <th>1706</th>\n",
              "      <td>glib</td>\n",
              "      <td>8.97</td>\n",
              "      <td>1</td>\n",
              "    </tr>\n",
              "    <tr>\n",
              "      <th>3655</th>\n",
              "      <td>openssl@1.1</td>\n",
              "      <td>8.36</td>\n",
              "      <td>-1</td>\n",
              "    </tr>\n",
              "  </tbody>\n",
              "</table>\n",
              "</div>"
            ],
            "text/plain": [
              "     package name  last 30 days/last year  change in position\n",
              "4781       tcl-tk                   72.73                  85\n",
              "4069   python@3.9                   23.47                  10\n",
              "2614       libffi                   14.47                   6\n",
              "1706         glib                    8.97                   1\n",
              "3655  openssl@1.1                    8.36                  -1"
            ]
          },
          "metadata": {
            "tags": []
          },
          "execution_count": 7
        }
      ]
    },
    {
      "cell_type": "markdown",
      "metadata": {
        "id": "ZdVaOiiMx-7S"
      },
      "source": [
        "## Visualizing the data"
      ]
    },
    {
      "cell_type": "code",
      "metadata": {
        "id": "bRPEq_yZ6lNr"
      },
      "source": [
        "pd.options.display.float_format = '{:.1f}'.format\n",
        "title_font = 20\n",
        "label_font = 14\n",
        "plt.rcParams[\"figure.figsize\"] = [9, 6]\n",
        "def plot_bar(*args,isBarh=True):\n",
        "  a = b = \"\"\n",
        "  rotation = 0\n",
        "  if isBarh:\n",
        "    a += \"Package name\"\n",
        "    b += args[3]\n",
        "    plt.barh(args[0],args[1])\n",
        "  else:\n",
        "    b += \"Package name\"\n",
        "    a += args[3]\n",
        "    rotation = 45\n",
        "    plt.bar(args[0],args[1])\n",
        "  plt.title(args[2],fontsize=title_font)\n",
        "  plt.xlabel(b,fontsize=label_font)\n",
        "  plt.ylabel(a,fontsize=label_font)\n",
        "  plt.xticks(fontsize=label_font,rotation=rotation)\n",
        "  plt.yticks(fontsize=label_font)\n",
        "  plt.grid(lw=\"0.5\")\n",
        "  plt.show()"
      ],
      "execution_count": null,
      "outputs": []
    },
    {
      "cell_type": "code",
      "metadata": {
        "colab": {
          "base_uri": "https://localhost:8080/",
          "height": 417
        },
        "id": "-9l7xlyLx-7T",
        "outputId": "60615537-f730-4d2f-c485-8cf9375c04f7"
      },
      "source": [
        "df_most_last_30d.sort_values(by=\"installs last 30 days\",ascending=True,inplace=True)\n",
        "plot_bar(df_most_last_30d[\"package name\"],df_most_last_30d[\"installs last 30 days\"],\"Number of installs - last 30 days\",\n",
        "\"Number of installs\")"
      ],
      "execution_count": null,
      "outputs": [
        {
          "output_type": "display_data",
          "data": {
            "image/png": "[encoded data removed]",
            "text/plain": [
              "<Figure size 648x432 with 1 Axes>"
            ]
          },
          "metadata": {
            "tags": [],
            "needs_background": "light"
          }
        }
      ]
    },
    {
      "cell_type": "code",
      "metadata": {
        "colab": {
          "base_uri": "https://localhost:8080/",
          "height": 417
        },
        "id": "9ktr0Od2x-7T",
        "outputId": "7d792042-0f2d-47be-f2a7-5e16ada3df2a"
      },
      "source": [
        "df_most_last_year.sort_values(by=\"installs last year\",ascending=True,inplace=True)\n",
        "plot_bar(df_most_last_year[\"package name\"],df_most_last_year[\"installs last year\"],\"Number of installs - last year\",\n",
        "\"Number of installs\")"
      ],
      "execution_count": null,
      "outputs": [
        {
          "output_type": "display_data",
          "data": {
            "image/png": "[encoded data removed]",
            "text/plain": [
              "<Figure size 648x432 with 1 Axes>"
            ]
          },
          "metadata": {
            "tags": [],
            "needs_background": "light"
          }
        }
      ]
    },
    {
      "cell_type": "code",
      "metadata": {
        "colab": {
          "base_uri": "https://localhost:8080/",
          "height": 494
        },
        "id": "-Ny07oUymwJ3",
        "outputId": "bf7ec4bb-087d-4a55-dd2a-8e28b7b638f0"
      },
      "source": [
        "print(\"*Considering only most downloaded packages last month\")\n",
        "plot_bar(major_changes[\"package name\"],major_changes[\"change in position\"],\n",
        "         \"Change in position - last year to last month\",\"Change in position\",isBarh=False)"
      ],
      "execution_count": null,
      "outputs": [
        {
          "output_type": "stream",
          "text": [
            "*Considering only most downloaded packages last month\n"
          ],
          "name": "stdout"
        },
        {
          "output_type": "display_data",
          "data": {
            "image/png": "[encoded data removed]",
            "text/plain": [
              "<Figure size 648x432 with 1 Axes>"
            ]
          },
          "metadata": {
            "tags": [],
            "needs_background": "light"
          }
        }
      ]
    },
    {
      "cell_type": "code",
      "metadata": {
        "colab": {
          "base_uri": "https://localhost:8080/",
          "height": 434
        },
        "id": "V9Q6BH8fx-7U",
        "outputId": "bc4a74a6-3301-411d-dfd5-a522e1b68c74"
      },
      "source": [
        "print(\"*Considering only most downloaded packages last month\")\n",
        "df_largest_proportions.sort_values(by=\"last 30 days/last year\",ascending=True,inplace=True)\n",
        "plot_bar(df_largest_proportions[\"package name\"],df_largest_proportions[\"last 30 days/last year\"],\n",
        "         \"Last 30 days share of all last year installs\",\"Percent of installs\")"
      ],
      "execution_count": null,
      "outputs": [
        {
          "output_type": "stream",
          "text": [
            "*Considering only most downloaded packages last month\n"
          ],
          "name": "stdout"
        },
        {
          "output_type": "display_data",
          "data": {
            "image/png": "[encoded data removed]",
            "text/plain": [
              "<Figure size 648x432 with 1 Axes>"
            ]
          },
          "metadata": {
            "tags": [],
            "needs_background": "light"
          }
        }
      ]
    }
  ]
}