{
  "nbformat": 4,
  "nbformat_minor": 0,
  "metadata": {
    "colab": {
      "name": "DistanceCitiesFinal.ipynb",
      "provenance": [],
      "collapsed_sections": [],
      "mount_file_id": "1xKr2MHPS7nJ5rwNcezdA9rfUSv_ZvZG3",
      "authorship_tag": "ABX9TyNg6DyGY7UsewihstQM72V4",
      "include_colab_link": true
    },
    "kernelspec": {
      "name": "python3",
      "display_name": "Python 3"
    },
    "language_info": {
      "name": "python"
    }
  },
  "cells": [
    {
      "cell_type": "markdown",
      "metadata": {
        "id": "view-in-github",
        "colab_type": "text"
      },
      "source": [
        "<a href=\"https://colab.research.google.com/github/JonatasLemos/DataAnalysisProjects/blob/main/capitalsCentralization/DistanceCitiesFinal.ipynb\" target=\"_parent\"><img src=\"https://colab.research.google.com/assets/colab-badge.svg\" alt=\"Open In Colab\"/></a>"
      ]
    },
    {
      "cell_type": "markdown",
      "metadata": {
        "id": "YPaFgHtRdkzN"
      },
      "source": [
        "## Centralization of Brazilian capitals"
      ]
    },
    {
      "cell_type": "code",
      "metadata": {
        "id": "0_RPOq84KPZH"
      },
      "source": [
        "import pandas as pd\n",
        "import numpy as np"
      ],
      "execution_count": 1,
      "outputs": []
    },
    {
      "cell_type": "code",
      "metadata": {
        "id": "mTwCiOY0J2mq"
      },
      "source": [
        "cities_state = pd.read_feather(\"/content/drive/MyDrive/Colab Data/cities_states.feather\")"
      ],
      "execution_count": 2,
      "outputs": []
    },
    {
      "cell_type": "code",
      "metadata": {
        "colab": {
          "base_uri": "https://localhost:8080/",
          "height": 417
        },
        "id": "W0Cp7hatKgbl",
        "outputId": "f48c3b24-eae0-4fc2-f41a-6706d3e6db6b"
      },
      "source": [
        "cities_state"
      ],
      "execution_count": 3,
      "outputs": [
        {
          "output_type": "execute_result",
          "data": {
            "text/html": [
              "<div>\n",
              "<style scoped>\n",
              "    .dataframe tbody tr th:only-of-type {\n",
              "        vertical-align: middle;\n",
              "    }\n",
              "\n",
              "    .dataframe tbody tr th {\n",
              "        vertical-align: top;\n",
              "    }\n",
              "\n",
              "    .dataframe thead th {\n",
              "        text-align: right;\n",
              "    }\n",
              "</style>\n",
              "<table border=\"1\" class=\"dataframe\">\n",
              "  <thead>\n",
              "    <tr style=\"text-align: right;\">\n",
              "      <th></th>\n",
              "      <th>INPUT_FID</th>\n",
              "      <th>NEAR_FID</th>\n",
              "      <th>DISTANCE</th>\n",
              "      <th>NAME</th>\n",
              "      <th>STATE</th>\n",
              "    </tr>\n",
              "  </thead>\n",
              "  <tbody>\n",
              "    <tr>\n",
              "      <th>0</th>\n",
              "      <td>2</td>\n",
              "      <td>4499</td>\n",
              "      <td>8.323814</td>\n",
              "      <td>Belém/PA</td>\n",
              "      <td>PA</td>\n",
              "    </tr>\n",
              "    <tr>\n",
              "      <th>1</th>\n",
              "      <td>2</td>\n",
              "      <td>4429</td>\n",
              "      <td>7.498620</td>\n",
              "      <td>Belém/PA</td>\n",
              "      <td>PA</td>\n",
              "    </tr>\n",
              "    <tr>\n",
              "      <th>2</th>\n",
              "      <td>2</td>\n",
              "      <td>4112</td>\n",
              "      <td>6.748079</td>\n",
              "      <td>Belém/PA</td>\n",
              "      <td>PA</td>\n",
              "    </tr>\n",
              "    <tr>\n",
              "      <th>3</th>\n",
              "      <td>2</td>\n",
              "      <td>1352</td>\n",
              "      <td>6.844475</td>\n",
              "      <td>Belém/PA</td>\n",
              "      <td>PA</td>\n",
              "    </tr>\n",
              "    <tr>\n",
              "      <th>4</th>\n",
              "      <td>2</td>\n",
              "      <td>3419</td>\n",
              "      <td>8.927219</td>\n",
              "      <td>Belém/PA</td>\n",
              "      <td>PA</td>\n",
              "    </tr>\n",
              "    <tr>\n",
              "      <th>...</th>\n",
              "      <td>...</td>\n",
              "      <td>...</td>\n",
              "      <td>...</td>\n",
              "      <td>...</td>\n",
              "      <td>...</td>\n",
              "    </tr>\n",
              "    <tr>\n",
              "      <th>2209347</th>\n",
              "      <td>5558</td>\n",
              "      <td>585</td>\n",
              "      <td>2.471269</td>\n",
              "      <td>Zacarias/SP</td>\n",
              "      <td>SP</td>\n",
              "    </tr>\n",
              "    <tr>\n",
              "      <th>2209348</th>\n",
              "      <td>5558</td>\n",
              "      <td>570</td>\n",
              "      <td>1.892356</td>\n",
              "      <td>Zacarias/SP</td>\n",
              "      <td>SP</td>\n",
              "    </tr>\n",
              "    <tr>\n",
              "      <th>2209349</th>\n",
              "      <td>5558</td>\n",
              "      <td>569</td>\n",
              "      <td>1.563437</td>\n",
              "      <td>Zacarias/SP</td>\n",
              "      <td>SP</td>\n",
              "    </tr>\n",
              "    <tr>\n",
              "      <th>2209350</th>\n",
              "      <td>5558</td>\n",
              "      <td>352</td>\n",
              "      <td>2.460841</td>\n",
              "      <td>Zacarias/SP</td>\n",
              "      <td>SP</td>\n",
              "    </tr>\n",
              "    <tr>\n",
              "      <th>2209351</th>\n",
              "      <td>5558</td>\n",
              "      <td>167</td>\n",
              "      <td>2.677146</td>\n",
              "      <td>Zacarias/SP</td>\n",
              "      <td>SP</td>\n",
              "    </tr>\n",
              "  </tbody>\n",
              "</table>\n",
              "<p>2209352 rows × 5 columns</p>\n",
              "</div>"
            ],
            "text/plain": [
              "        INPUT_FID NEAR_FID  DISTANCE         NAME STATE\n",
              "0               2     4499  8.323814     Belém/PA    PA\n",
              "1               2     4429  7.498620     Belém/PA    PA\n",
              "2               2     4112  6.748079     Belém/PA    PA\n",
              "3               2     1352  6.844475     Belém/PA    PA\n",
              "4               2     3419  8.927219     Belém/PA    PA\n",
              "...           ...      ...       ...          ...   ...\n",
              "2209347      5558      585  2.471269  Zacarias/SP    SP\n",
              "2209348      5558      570  1.892356  Zacarias/SP    SP\n",
              "2209349      5558      569  1.563437  Zacarias/SP    SP\n",
              "2209350      5558      352  2.460841  Zacarias/SP    SP\n",
              "2209351      5558      167  2.677146  Zacarias/SP    SP\n",
              "\n",
              "[2209352 rows x 5 columns]"
            ]
          },
          "metadata": {
            "tags": []
          },
          "execution_count": 3
        }
      ]
    },
    {
      "cell_type": "markdown",
      "metadata": {
        "id": "nB8RFg6Xo0Ds"
      },
      "source": [
        "## Grouping by to obtain the distance sum per city"
      ]
    },
    {
      "cell_type": "code",
      "metadata": {
        "colab": {
          "base_uri": "https://localhost:8080/",
          "height": 447
        },
        "id": "X6BHf62at3K4",
        "outputId": "3a7dad1c-7bf6-4115-af36-61dac99d5627"
      },
      "source": [
        "grouped = cities_state.groupby(['STATE','NAME'],observed=True)[\"DISTANCE\"].sum().to_frame()\n",
        "grouped"
      ],
      "execution_count": 4,
      "outputs": [
        {
          "output_type": "execute_result",
          "data": {
            "text/html": [
              "<div>\n",
              "<style scoped>\n",
              "    .dataframe tbody tr th:only-of-type {\n",
              "        vertical-align: middle;\n",
              "    }\n",
              "\n",
              "    .dataframe tbody tr th {\n",
              "        vertical-align: top;\n",
              "    }\n",
              "\n",
              "    .dataframe thead th {\n",
              "        text-align: right;\n",
              "    }\n",
              "</style>\n",
              "<table border=\"1\" class=\"dataframe\">\n",
              "  <thead>\n",
              "    <tr style=\"text-align: right;\">\n",
              "      <th></th>\n",
              "      <th></th>\n",
              "      <th>DISTANCE</th>\n",
              "    </tr>\n",
              "    <tr>\n",
              "      <th>STATE</th>\n",
              "      <th>NAME</th>\n",
              "      <th></th>\n",
              "    </tr>\n",
              "  </thead>\n",
              "  <tbody>\n",
              "    <tr>\n",
              "      <th rowspan=\"5\" valign=\"top\">PA</th>\n",
              "      <th>Belém/PA</th>\n",
              "      <td>443.691551</td>\n",
              "    </tr>\n",
              "    <tr>\n",
              "      <th>Abaetetuba/PA</th>\n",
              "      <td>433.460174</td>\n",
              "    </tr>\n",
              "    <tr>\n",
              "      <th>Abel Figueiredo/PA</th>\n",
              "      <td>537.196401</td>\n",
              "    </tr>\n",
              "    <tr>\n",
              "      <th>Acará/PA</th>\n",
              "      <td>439.464974</td>\n",
              "    </tr>\n",
              "    <tr>\n",
              "      <th>Afuá/PA</th>\n",
              "      <td>580.797326</td>\n",
              "    </tr>\n",
              "    <tr>\n",
              "      <th>...</th>\n",
              "      <th>...</th>\n",
              "      <td>...</td>\n",
              "    </tr>\n",
              "    <tr>\n",
              "      <th rowspan=\"5\" valign=\"top\">SP</th>\n",
              "      <th>Vista Alegre do Alto/SP</th>\n",
              "      <td>1346.019518</td>\n",
              "    </tr>\n",
              "    <tr>\n",
              "      <th>Vitória Brasil/SP</th>\n",
              "      <td>1931.850123</td>\n",
              "    </tr>\n",
              "    <tr>\n",
              "      <th>Votorantim/SP</th>\n",
              "      <td>1589.064454</td>\n",
              "    </tr>\n",
              "    <tr>\n",
              "      <th>Votuporanga/SP</th>\n",
              "      <td>1706.172199</td>\n",
              "    </tr>\n",
              "    <tr>\n",
              "      <th>Zacarias/SP</th>\n",
              "      <td>1532.684310</td>\n",
              "    </tr>\n",
              "  </tbody>\n",
              "</table>\n",
              "<p>5559 rows × 1 columns</p>\n",
              "</div>"
            ],
            "text/plain": [
              "                                  DISTANCE\n",
              "STATE NAME                                \n",
              "PA    Belém/PA                  443.691551\n",
              "      Abaetetuba/PA             433.460174\n",
              "      Abel Figueiredo/PA        537.196401\n",
              "      Acará/PA                  439.464974\n",
              "      Afuá/PA                   580.797326\n",
              "...                                    ...\n",
              "SP    Vista Alegre do Alto/SP  1346.019518\n",
              "      Vitória Brasil/SP        1931.850123\n",
              "      Votorantim/SP            1589.064454\n",
              "      Votuporanga/SP           1706.172199\n",
              "      Zacarias/SP              1532.684310\n",
              "\n",
              "[5559 rows x 1 columns]"
            ]
          },
          "metadata": {
            "tags": []
          },
          "execution_count": 4
        }
      ]
    },
    {
      "cell_type": "code",
      "metadata": {
        "id": "r7NZicsyxHGR",
        "colab": {
          "base_uri": "https://localhost:8080/",
          "height": 417
        },
        "outputId": "5e8dec04-a66f-4a05-b30e-3bbdb0a1ec73"
      },
      "source": [
        "grouped.reset_index(inplace=True)\n",
        "grouped.sort_values(by=['STATE','DISTANCE'],inplace=True,ignore_index=True)\n",
        "grouped.index = np.arange(1, len(grouped[\"STATE\"])+1)\n",
        "grouped.to_csv(\"grouped.csv\")\n",
        "grouped"
      ],
      "execution_count": 5,
      "outputs": [
        {
          "output_type": "execute_result",
          "data": {
            "text/html": [
              "<div>\n",
              "<style scoped>\n",
              "    .dataframe tbody tr th:only-of-type {\n",
              "        vertical-align: middle;\n",
              "    }\n",
              "\n",
              "    .dataframe tbody tr th {\n",
              "        vertical-align: top;\n",
              "    }\n",
              "\n",
              "    .dataframe thead th {\n",
              "        text-align: right;\n",
              "    }\n",
              "</style>\n",
              "<table border=\"1\" class=\"dataframe\">\n",
              "  <thead>\n",
              "    <tr style=\"text-align: right;\">\n",
              "      <th></th>\n",
              "      <th>STATE</th>\n",
              "      <th>NAME</th>\n",
              "      <th>DISTANCE</th>\n",
              "    </tr>\n",
              "  </thead>\n",
              "  <tbody>\n",
              "    <tr>\n",
              "      <th>1</th>\n",
              "      <td>AC</td>\n",
              "      <td>Manoel Urbano/AC</td>\n",
              "      <td>49.142036</td>\n",
              "    </tr>\n",
              "    <tr>\n",
              "      <th>2</th>\n",
              "      <td>AC</td>\n",
              "      <td>Sena Madureira/AC</td>\n",
              "      <td>49.424210</td>\n",
              "    </tr>\n",
              "    <tr>\n",
              "      <th>3</th>\n",
              "      <td>AC</td>\n",
              "      <td>Santa Rosa do Purus/AC</td>\n",
              "      <td>50.737947</td>\n",
              "    </tr>\n",
              "    <tr>\n",
              "      <th>4</th>\n",
              "      <td>AC</td>\n",
              "      <td>Bujari/AC</td>\n",
              "      <td>50.782750</td>\n",
              "    </tr>\n",
              "    <tr>\n",
              "      <th>5</th>\n",
              "      <td>AC</td>\n",
              "      <td>Xapuri/AC</td>\n",
              "      <td>51.330168</td>\n",
              "    </tr>\n",
              "    <tr>\n",
              "      <th>...</th>\n",
              "      <td>...</td>\n",
              "      <td>...</td>\n",
              "      <td>...</td>\n",
              "    </tr>\n",
              "    <tr>\n",
              "      <th>5555</th>\n",
              "      <td>TO</td>\n",
              "      <td>Combinado/TO</td>\n",
              "      <td>572.708183</td>\n",
              "    </tr>\n",
              "    <tr>\n",
              "      <th>5556</th>\n",
              "      <td>TO</td>\n",
              "      <td>Aurora do Tocantins/TO</td>\n",
              "      <td>573.236533</td>\n",
              "    </tr>\n",
              "    <tr>\n",
              "      <th>5557</th>\n",
              "      <td>TO</td>\n",
              "      <td>Lavandeira/TO</td>\n",
              "      <td>574.482658</td>\n",
              "    </tr>\n",
              "    <tr>\n",
              "      <th>5558</th>\n",
              "      <td>TO</td>\n",
              "      <td>Novo Alegre/TO</td>\n",
              "      <td>585.779153</td>\n",
              "    </tr>\n",
              "    <tr>\n",
              "      <th>5559</th>\n",
              "      <td>TO</td>\n",
              "      <td>Araguaçu/TO</td>\n",
              "      <td>589.646733</td>\n",
              "    </tr>\n",
              "  </tbody>\n",
              "</table>\n",
              "<p>5559 rows × 3 columns</p>\n",
              "</div>"
            ],
            "text/plain": [
              "     STATE                    NAME    DISTANCE\n",
              "1       AC        Manoel Urbano/AC   49.142036\n",
              "2       AC       Sena Madureira/AC   49.424210\n",
              "3       AC  Santa Rosa do Purus/AC   50.737947\n",
              "4       AC               Bujari/AC   50.782750\n",
              "5       AC               Xapuri/AC   51.330168\n",
              "...    ...                     ...         ...\n",
              "5555    TO            Combinado/TO  572.708183\n",
              "5556    TO  Aurora do Tocantins/TO  573.236533\n",
              "5557    TO           Lavandeira/TO  574.482658\n",
              "5558    TO          Novo Alegre/TO  585.779153\n",
              "5559    TO             Araguaçu/TO  589.646733\n",
              "\n",
              "[5559 rows x 3 columns]"
            ]
          },
          "metadata": {
            "tags": []
          },
          "execution_count": 5
        }
      ]
    },
    {
      "cell_type": "markdown",
      "metadata": {
        "id": "XUAbMIE6m3uE"
      },
      "source": [
        "## Reading capitals sheet"
      ]
    },
    {
      "cell_type": "code",
      "metadata": {
        "colab": {
          "base_uri": "https://localhost:8080/",
          "height": 142
        },
        "id": "2CH0HaKOGDBz",
        "outputId": "fc67bcec-7d98-4871-fc50-3e1ea43ad9a6"
      },
      "source": [
        "capitals = pd.read_excel(f\"/content/drive/MyDrive/Colab Data/output_distance.xls\", sheet_name=\"Capitals\")\n",
        "capitals.drop([\"Unnamed: 0\",\"POPULAÇÃO ESTIMADA\"],axis=1,inplace=True)\n",
        "capitals.sort_values(by=\"STATE\",inplace=True)\n",
        "capitals.drop(capitals[capitals['NAME'] == \"Brasília/DF\"].index, inplace = True)\n",
        "capitals.reset_index(inplace=True,drop=True)\n",
        "capitals.head(3)"
      ],
      "execution_count": 6,
      "outputs": [
        {
          "output_type": "execute_result",
          "data": {
            "text/html": [
              "<div>\n",
              "<style scoped>\n",
              "    .dataframe tbody tr th:only-of-type {\n",
              "        vertical-align: middle;\n",
              "    }\n",
              "\n",
              "    .dataframe tbody tr th {\n",
              "        vertical-align: top;\n",
              "    }\n",
              "\n",
              "    .dataframe thead th {\n",
              "        text-align: right;\n",
              "    }\n",
              "</style>\n",
              "<table border=\"1\" class=\"dataframe\">\n",
              "  <thead>\n",
              "    <tr style=\"text-align: right;\">\n",
              "      <th></th>\n",
              "      <th>NAME</th>\n",
              "      <th>STATE</th>\n",
              "    </tr>\n",
              "  </thead>\n",
              "  <tbody>\n",
              "    <tr>\n",
              "      <th>0</th>\n",
              "      <td>Rio Branco/AC</td>\n",
              "      <td>AC</td>\n",
              "    </tr>\n",
              "    <tr>\n",
              "      <th>1</th>\n",
              "      <td>Maceió/AL</td>\n",
              "      <td>AL</td>\n",
              "    </tr>\n",
              "    <tr>\n",
              "      <th>2</th>\n",
              "      <td>Manaus/AM</td>\n",
              "      <td>AM</td>\n",
              "    </tr>\n",
              "  </tbody>\n",
              "</table>\n",
              "</div>"
            ],
            "text/plain": [
              "            NAME STATE\n",
              "0  Rio Branco/AC    AC\n",
              "1      Maceió/AL    AL\n",
              "2      Manaus/AM    AM"
            ]
          },
          "metadata": {
            "tags": []
          },
          "execution_count": 6
        }
      ]
    },
    {
      "cell_type": "markdown",
      "metadata": {
        "id": "dcs_WRnum9Nj"
      },
      "source": [
        "## Creating DF with centralization by capital"
      ]
    },
    {
      "cell_type": "code",
      "metadata": {
        "colab": {
          "base_uri": "https://localhost:8080/"
        },
        "id": "fYmtzJo2Q4N7",
        "outputId": "32c2fbe7-d478-4788-cbbb-1908b0d7a11d"
      },
      "source": [
        "state_size = grouped[\"STATE\"].value_counts().sort_index()\n",
        "state_size.drop(labels=['DF'],inplace=True)\n",
        "state_size.head(3)"
      ],
      "execution_count": 7,
      "outputs": [
        {
          "output_type": "execute_result",
          "data": {
            "text/plain": [
              "AC     22\n",
              "AL    102\n",
              "AM     62\n",
              "Name: STATE, dtype: int64"
            ]
          },
          "metadata": {
            "tags": []
          },
          "execution_count": 7
        }
      ]
    },
    {
      "cell_type": "code",
      "metadata": {
        "id": "s07ZVdHRSsPr"
      },
      "source": [
        "capital_position = []\n",
        "\n",
        "def format_values(df,state_size):\n",
        "  value = (df-state_size[0:i].sum())/state_size[i]\n",
        "  return (round(1-value,2))*100\n",
        "\n",
        "for i in range(len(capitals[\"NAME\"])):\n",
        "  select = grouped[\"NAME\"] == capitals[\"NAME\"][i]\n",
        "  df = grouped[select].index[0]\n",
        "  capital_position.append(format_values(df,state_size))"
      ],
      "execution_count": 8,
      "outputs": []
    },
    {
      "cell_type": "code",
      "metadata": {
        "id": "BhxZOSB_Zasy"
      },
      "source": [
        "d = {'NAME': capitals[\"NAME\"], '% Centralization': capital_position}"
      ],
      "execution_count": 9,
      "outputs": []
    },
    {
      "cell_type": "code",
      "metadata": {
        "colab": {
          "base_uri": "https://localhost:8080/",
          "height": 234
        },
        "id": "2Sz9M3rmcwc6",
        "outputId": "a054324a-35ea-4051-e96d-c302e1430e94"
      },
      "source": [
        "centralization = pd.DataFrame(data=d)\n",
        "centralization.sort_values(by=\"% Centralization\",ascending=False,inplace=True)\n",
        "centralization[\"% of cities better centralized\"] = 100-centralization[\"% Centralization\"]\n",
        "centralization.reset_index(inplace=True,drop=True)\n",
        "centralization.head(6)"
      ],
      "execution_count": 10,
      "outputs": [
        {
          "output_type": "execute_result",
          "data": {
            "text/html": [
              "<div>\n",
              "<style scoped>\n",
              "    .dataframe tbody tr th:only-of-type {\n",
              "        vertical-align: middle;\n",
              "    }\n",
              "\n",
              "    .dataframe tbody tr th {\n",
              "        vertical-align: top;\n",
              "    }\n",
              "\n",
              "    .dataframe thead th {\n",
              "        text-align: right;\n",
              "    }\n",
              "</style>\n",
              "<table border=\"1\" class=\"dataframe\">\n",
              "  <thead>\n",
              "    <tr style=\"text-align: right;\">\n",
              "      <th></th>\n",
              "      <th>NAME</th>\n",
              "      <th>% Centralization</th>\n",
              "      <th>% of cities better centralized</th>\n",
              "    </tr>\n",
              "  </thead>\n",
              "  <tbody>\n",
              "    <tr>\n",
              "      <th>0</th>\n",
              "      <td>Belo Horizonte/MG</td>\n",
              "      <td>100.0</td>\n",
              "      <td>0.0</td>\n",
              "    </tr>\n",
              "    <tr>\n",
              "      <th>1</th>\n",
              "      <td>Belém/PA</td>\n",
              "      <td>90.0</td>\n",
              "      <td>10.0</td>\n",
              "    </tr>\n",
              "    <tr>\n",
              "      <th>2</th>\n",
              "      <td>Goiânia/GO</td>\n",
              "      <td>90.0</td>\n",
              "      <td>10.0</td>\n",
              "    </tr>\n",
              "    <tr>\n",
              "      <th>3</th>\n",
              "      <td>Palmas/TO</td>\n",
              "      <td>88.0</td>\n",
              "      <td>12.0</td>\n",
              "    </tr>\n",
              "    <tr>\n",
              "      <th>4</th>\n",
              "      <td>Boa Vista/RR</td>\n",
              "      <td>87.0</td>\n",
              "      <td>13.0</td>\n",
              "    </tr>\n",
              "    <tr>\n",
              "      <th>5</th>\n",
              "      <td>Campo Grande/MS</td>\n",
              "      <td>82.0</td>\n",
              "      <td>18.0</td>\n",
              "    </tr>\n",
              "  </tbody>\n",
              "</table>\n",
              "</div>"
            ],
            "text/plain": [
              "                NAME  % Centralization  % of cities better centralized\n",
              "0  Belo Horizonte/MG             100.0                             0.0\n",
              "1           Belém/PA              90.0                            10.0\n",
              "2         Goiânia/GO              90.0                            10.0\n",
              "3          Palmas/TO              88.0                            12.0\n",
              "4       Boa Vista/RR              87.0                            13.0\n",
              "5    Campo Grande/MS              82.0                            18.0"
            ]
          },
          "metadata": {
            "tags": []
          },
          "execution_count": 10
        }
      ]
    },
    {
      "cell_type": "markdown",
      "metadata": {
        "id": "7mi1whclNL6N"
      },
      "source": [
        "## Creating CSVs with the most and least centralized cities per state"
      ]
    },
    {
      "cell_type": "code",
      "metadata": {
        "id": "4przxLC8xjnF"
      },
      "source": [
        "min_selection = grouped[\"DISTANCE\"].isin(grouped.groupby([\"STATE\"])[\"DISTANCE\"].min())\n",
        "grouped[min_selection].to_csv(\"most_centralized.csv\")"
      ],
      "execution_count": 11,
      "outputs": []
    },
    {
      "cell_type": "code",
      "metadata": {
        "id": "KW4yWgc63jD3"
      },
      "source": [
        "max_selection = grouped[\"DISTANCE\"].isin(grouped.groupby([\"STATE\"])[\"DISTANCE\"].max())\n",
        "grouped[max_selection].to_csv(\"least_centralized.csv\")"
      ],
      "execution_count": 12,
      "outputs": []
    },
    {
      "cell_type": "markdown",
      "metadata": {
        "id": "X0XMeREuNP3F"
      },
      "source": [
        "## Ploting functions"
      ]
    },
    {
      "cell_type": "code",
      "metadata": {
        "id": "Q7ocO2Rx4jLy"
      },
      "source": [
        "import matplotlib.pyplot as plt\n",
        "title_font = 20\n",
        "label_font = 14\n",
        "plt.rcParams[\"figure.figsize\"] = [9, 6]"
      ],
      "execution_count": 13,
      "outputs": []
    },
    {
      "cell_type": "code",
      "metadata": {
        "id": "2kqxz0Vt5Z_9"
      },
      "source": [
        "def title(*args):\n",
        "  plt.title(args[0],fontsize=label_font)\n",
        "  plt.xlabel(args[1],fontsize=label_font)\n",
        "  plt.ylabel(args[2],fontsize=label_font)\n",
        "  plt.xticks(fontsize=label_font)\n",
        "  plt.yticks(fontsize=label_font)\n",
        "  plt.grid(lw=\"0.2\")\n",
        "  plt.show()  \n",
        "def plot_bar(*args,dispersion=False):\n",
        "  plt.barh(args[0],args[1])\n",
        "  if not dispersion:\n",
        "    title(f'Capitais {args[2]} centralizadas','% de centralização','Capital')\n",
        "  else:\n",
        "    title(f'Estados com {args[2]} dispersão municipal','Coeficiente de variação','Estado')"
      ],
      "execution_count": 14,
      "outputs": []
    },
    {
      "cell_type": "markdown",
      "metadata": {
        "id": "yvaKT_nONUwE"
      },
      "source": [
        "## Ploting centralization "
      ]
    },
    {
      "cell_type": "code",
      "metadata": {
        "colab": {
          "base_uri": "https://localhost:8080/",
          "height": 413
        },
        "id": "JJg8pood5F3D",
        "outputId": "c5afa6bc-cc8c-48c0-fb0f-8fc172a70ec3"
      },
      "source": [
        "plot_bar(centralization[\"NAME\"].tail(7),centralization[\"% Centralization\"].tail(7),\"menos\")"
      ],
      "execution_count": 15,
      "outputs": [
        {
          "output_type": "display_data",
          "data": {
            "image/png": "[encoded data removed]",
            "text/plain": [
              "<Figure size 648x432 with 1 Axes>"
            ]
          },
          "metadata": {
            "tags": [],
            "needs_background": "light"
          }
        }
      ]
    },
    {
      "cell_type": "code",
      "metadata": {
        "colab": {
          "base_uri": "https://localhost:8080/",
          "height": 413
        },
        "id": "_r4oel3U36Cm",
        "outputId": "80772ea8-3f54-4456-f3db-fa517e728597"
      },
      "source": [
        "centralization.sort_values(by=\"% Centralization\",ascending=True,inplace=True)\n",
        "plot_bar(centralization[\"NAME\"].tail(7),centralization[\"% Centralization\"].tail(7),\"mais\")"
      ],
      "execution_count": 16,
      "outputs": [
        {
          "output_type": "display_data",
          "data": {
            "image/png": "[encoded data removed]",
            "text/plain": [
              "<Figure size 648x432 with 1 Axes>"
            ]
          },
          "metadata": {
            "tags": [],
            "needs_background": "light"
          }
        }
      ]
    },
    {
      "cell_type": "markdown",
      "metadata": {
        "id": "2bH40CCBoLfd"
      },
      "source": [
        "## Aggregating DF to obtain, mean distance, std deviation and coefficiente of variation per state"
      ]
    },
    {
      "cell_type": "code",
      "metadata": {
        "id": "BeQTETKz4ij7"
      },
      "source": [
        "grouped_agg = grouped.groupby(['STATE'],observed=True)[\"DISTANCE\"].agg([\"mean\",\"std\"])\n",
        "grouped_agg[\"coefficient of variation\"] = grouped_agg[\"std\"]/grouped_agg[\"mean\"]"
      ],
      "execution_count": 17,
      "outputs": []
    },
    {
      "cell_type": "code",
      "metadata": {
        "colab": {
          "base_uri": "https://localhost:8080/",
          "height": 203
        },
        "id": "cbNjiNok6_rS",
        "outputId": "1835c8e9-79fa-4e6f-a0ac-d44cd6b17fff"
      },
      "source": [
        "grouped_agg.sort_values(by=\"coefficient of variation\",inplace=True)\n",
        "grouped_agg[\"STATE\"] = grouped_agg.index\n",
        "grouped_agg.reset_index(inplace=True,drop=True)\n",
        "grouped_agg.head()"
      ],
      "execution_count": 18,
      "outputs": [
        {
          "output_type": "execute_result",
          "data": {
            "text/html": [
              "<div>\n",
              "<style scoped>\n",
              "    .dataframe tbody tr th:only-of-type {\n",
              "        vertical-align: middle;\n",
              "    }\n",
              "\n",
              "    .dataframe tbody tr th {\n",
              "        vertical-align: top;\n",
              "    }\n",
              "\n",
              "    .dataframe thead th {\n",
              "        text-align: right;\n",
              "    }\n",
              "</style>\n",
              "<table border=\"1\" class=\"dataframe\">\n",
              "  <thead>\n",
              "    <tr style=\"text-align: right;\">\n",
              "      <th></th>\n",
              "      <th>mean</th>\n",
              "      <th>std</th>\n",
              "      <th>coefficient of variation</th>\n",
              "      <th>STATE</th>\n",
              "    </tr>\n",
              "  </thead>\n",
              "  <tbody>\n",
              "    <tr>\n",
              "      <th>0</th>\n",
              "      <td>229.034223</td>\n",
              "      <td>36.913615</td>\n",
              "      <td>0.161171</td>\n",
              "      <td>RN</td>\n",
              "    </tr>\n",
              "    <tr>\n",
              "      <th>1</th>\n",
              "      <td>369.742808</td>\n",
              "      <td>60.599721</td>\n",
              "      <td>0.163897</td>\n",
              "      <td>CE</td>\n",
              "    </tr>\n",
              "    <tr>\n",
              "      <th>2</th>\n",
              "      <td>634.713805</td>\n",
              "      <td>106.437771</td>\n",
              "      <td>0.167694</td>\n",
              "      <td>SC</td>\n",
              "    </tr>\n",
              "    <tr>\n",
              "      <th>3</th>\n",
              "      <td>60.447004</td>\n",
              "      <td>10.841214</td>\n",
              "      <td>0.179351</td>\n",
              "      <td>AC</td>\n",
              "    </tr>\n",
              "    <tr>\n",
              "      <th>4</th>\n",
              "      <td>327.849465</td>\n",
              "      <td>59.221540</td>\n",
              "      <td>0.180636</td>\n",
              "      <td>PB</td>\n",
              "    </tr>\n",
              "  </tbody>\n",
              "</table>\n",
              "</div>"
            ],
            "text/plain": [
              "         mean         std  coefficient of variation STATE\n",
              "0  229.034223   36.913615                  0.161171    RN\n",
              "1  369.742808   60.599721                  0.163897    CE\n",
              "2  634.713805  106.437771                  0.167694    SC\n",
              "3   60.447004   10.841214                  0.179351    AC\n",
              "4  327.849465   59.221540                  0.180636    PB"
            ]
          },
          "metadata": {
            "tags": []
          },
          "execution_count": 18
        }
      ]
    },
    {
      "cell_type": "markdown",
      "metadata": {
        "id": "L5PXn6TmNWfU"
      },
      "source": [
        "## Ploting dispersion"
      ]
    },
    {
      "cell_type": "code",
      "metadata": {
        "colab": {
          "base_uri": "https://localhost:8080/",
          "height": 413
        },
        "id": "vWBqDTRacLqM",
        "outputId": "d71a57a4-a19b-47d2-9df0-75dec2f4986e"
      },
      "source": [
        "grouped_agg.sort_values(by=\"coefficient of variation\",inplace=True,ascending=False)\n",
        "plot_bar(grouped_agg[\"STATE\"].tail(7),grouped_agg[\"coefficient of variation\"].tail(7),\"menos\",dispersion=True)"
      ],
      "execution_count": 19,
      "outputs": [
        {
          "output_type": "display_data",
          "data": {
            "image/png": "[encoded data removed]",
            "text/plain": [
              "<Figure size 648x432 with 1 Axes>"
            ]
          },
          "metadata": {
            "tags": [],
            "needs_background": "light"
          }
        }
      ]
    },
    {
      "cell_type": "code",
      "metadata": {
        "colab": {
          "base_uri": "https://localhost:8080/",
          "height": 413
        },
        "id": "_2fwOw51hE7s",
        "outputId": "606cc36a-bcb1-47fa-8e5e-bbb1fa90b708"
      },
      "source": [
        "grouped_agg.sort_values(by=\"coefficient of variation\",inplace=True,ascending=True)\n",
        "plot_bar(grouped_agg[\"STATE\"].tail(7),grouped_agg[\"coefficient of variation\"].tail(7),\"mais\",dispersion=True)"
      ],
      "execution_count": 20,
      "outputs": [
        {
          "output_type": "display_data",
          "data": {
            "image/png": "[encoded data removed]",
            "text/plain": [
              "<Figure size 648x432 with 1 Axes>"
            ]
          },
          "metadata": {
            "tags": [],
            "needs_background": "light"
          }
        }
      ]
    }
  ]
}