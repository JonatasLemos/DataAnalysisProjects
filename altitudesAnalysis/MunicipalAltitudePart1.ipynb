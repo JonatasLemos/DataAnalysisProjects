{
  "nbformat": 4,
  "nbformat_minor": 5,
  "metadata": {
    "kernelspec": {
      "display_name": "Python 3",
      "language": "python",
      "name": "python3"
    },
    "language_info": {
      "codemirror_mode": {
        "name": "ipython",
        "version": 3
      },
      "file_extension": ".py",
      "mimetype": "text/x-python",
      "name": "python",
      "nbconvert_exporter": "python",
      "pygments_lexer": "ipython3",
      "version": "3.8.6"
    },
    "colab": {
      "name": "MunicipalAltitudePart1.ipynb",
      "provenance": [],
      "collapsed_sections": [
        "comfortable-little",
        "lonely-screening",
        "xJ3dn_GKfPT2",
        "legal-transformation",
        "fuzzy-kidney",
        "annoying-shelter",
        "developmental-aruba",
        "found-tomato",
        "macro-account",
        "QEarKgg6M_0I",
        "spatial-pilot"
      ],
      "include_colab_link": true
    }
  },
  "cells": [
    {
      "cell_type": "markdown",
      "metadata": {
        "id": "view-in-github",
        "colab_type": "text"
      },
      "source": [
        "<a href=\"https://colab.research.google.com/github/JonatasLemos/DataAnalysisProjects/blob/main/altitudesAnalysis/MunicipalAltitudePart1.ipynb\" target=\"_parent\"><img src=\"https://colab.research.google.com/assets/colab-badge.svg\" alt=\"Open In Colab\"/></a>"
      ]
    },
    {
      "cell_type": "markdown",
      "metadata": {
        "id": "appointed-express"
      },
      "source": [
        "# Altitude Analysis"
      ],
      "id": "appointed-express"
    },
    {
      "cell_type": "code",
      "metadata": {
        "id": "casual-saver"
      },
      "source": [
        "pip install simpledbf"
      ],
      "id": "casual-saver",
      "execution_count": null,
      "outputs": []
    },
    {
      "cell_type": "code",
      "metadata": {
        "id": "a6EjCirF8Jne"
      },
      "source": [
        "pip install unidecode"
      ],
      "id": "a6EjCirF8Jne",
      "execution_count": null,
      "outputs": []
    },
    {
      "cell_type": "code",
      "metadata": {
        "id": "IuQX4cQ-rrop"
      },
      "source": [
        "import pandas as pd\n",
        "import numpy as np\n",
        "import scipy.stats as stats\n",
        "from simpledbf import Dbf5 as db\n",
        "from unidecode import unidecode\n",
        "import seaborn as sns\n",
        "import matplotlib.pyplot as plt"
      ],
      "id": "IuQX4cQ-rrop",
      "execution_count": null,
      "outputs": []
    },
    {
      "cell_type": "code",
      "metadata": {
        "id": "MbLJ404Vrk4T"
      },
      "source": [
        "from google.colab import drive\n",
        "drive.mount('/content/drive')"
      ],
      "id": "MbLJ404Vrk4T",
      "execution_count": null,
      "outputs": []
    },
    {
      "cell_type": "markdown",
      "metadata": {
        "id": "comfortable-little"
      },
      "source": [
        "## Reading dbf "
      ],
      "id": "comfortable-little"
    },
    {
      "cell_type": "code",
      "metadata": {
        "colab": {
          "base_uri": "https://localhost:8080/"
        },
        "id": "hungarian-upper",
        "outputId": "292c4200-2527-4b38-e1fc-997bbc0e6def"
      },
      "source": [
        "path_start =\"/content/drive/MyDrive/Colab Data/\"\n",
        "dbf = db(f\"{path_start}ZonalSt_alt_municip.dbf\")\n",
        "df_altitudes = dbf.to_dataframe()\n",
        "df_altitudes.head()"
      ],
      "id": "hungarian-upper",
      "execution_count": null,
      "outputs": [
        {
          "output_type": "execute_result",
          "data": {
            "text/html": [
              "<div>\n",
              "<style scoped>\n",
              "    .dataframe tbody tr th:only-of-type {\n",
              "        vertical-align: middle;\n",
              "    }\n",
              "\n",
              "    .dataframe tbody tr th {\n",
              "        vertical-align: top;\n",
              "    }\n",
              "\n",
              "    .dataframe thead th {\n",
              "        text-align: right;\n",
              "    }\n",
              "</style>\n",
              "<table border=\"1\" class=\"dataframe\">\n",
              "  <thead>\n",
              "    <tr style=\"text-align: right;\">\n",
              "      <th></th>\n",
              "      <th>NM_MUN</th>\n",
              "      <th>ZONE_CODE</th>\n",
              "      <th>COUNT</th>\n",
              "      <th>AREA</th>\n",
              "      <th>MIN</th>\n",
              "      <th>MAX</th>\n",
              "      <th>RANGE</th>\n",
              "      <th>MEAN</th>\n",
              "      <th>STD</th>\n",
              "      <th>SUM</th>\n",
              "      <th>VARIETY</th>\n",
              "      <th>MAJORITY</th>\n",
              "      <th>MINORITY</th>\n",
              "      <th>MEDIAN</th>\n",
              "    </tr>\n",
              "  </thead>\n",
              "  <tbody>\n",
              "    <tr>\n",
              "      <th>0</th>\n",
              "      <td>Abadia dos Dourados</td>\n",
              "      <td>1</td>\n",
              "      <td>1092</td>\n",
              "      <td>0.075833</td>\n",
              "      <td>639</td>\n",
              "      <td>988</td>\n",
              "      <td>349</td>\n",
              "      <td>772.872711</td>\n",
              "      <td>61.986597</td>\n",
              "      <td>843977.0</td>\n",
              "      <td>270</td>\n",
              "      <td>760</td>\n",
              "      <td>639</td>\n",
              "      <td>774</td>\n",
              "    </tr>\n",
              "    <tr>\n",
              "      <th>1</th>\n",
              "      <td>Abaeté</td>\n",
              "      <td>2</td>\n",
              "      <td>2245</td>\n",
              "      <td>0.155903</td>\n",
              "      <td>564</td>\n",
              "      <td>904</td>\n",
              "      <td>340</td>\n",
              "      <td>642.046771</td>\n",
              "      <td>43.834646</td>\n",
              "      <td>1441395.0</td>\n",
              "      <td>223</td>\n",
              "      <td>632</td>\n",
              "      <td>717</td>\n",
              "      <td>637</td>\n",
              "    </tr>\n",
              "    <tr>\n",
              "      <th>2</th>\n",
              "      <td>Abre Campo</td>\n",
              "      <td>3</td>\n",
              "      <td>581</td>\n",
              "      <td>0.040347</td>\n",
              "      <td>391</td>\n",
              "      <td>1068</td>\n",
              "      <td>677</td>\n",
              "      <td>672.084337</td>\n",
              "      <td>126.220764</td>\n",
              "      <td>390481.0</td>\n",
              "      <td>345</td>\n",
              "      <td>642</td>\n",
              "      <td>391</td>\n",
              "      <td>669</td>\n",
              "    </tr>\n",
              "    <tr>\n",
              "      <th>3</th>\n",
              "      <td>Acaiaca</td>\n",
              "      <td>4</td>\n",
              "      <td>123</td>\n",
              "      <td>0.008542</td>\n",
              "      <td>450</td>\n",
              "      <td>744</td>\n",
              "      <td>294</td>\n",
              "      <td>609.121951</td>\n",
              "      <td>60.718005</td>\n",
              "      <td>74922.0</td>\n",
              "      <td>96</td>\n",
              "      <td>606</td>\n",
              "      <td>450</td>\n",
              "      <td>617</td>\n",
              "    </tr>\n",
              "    <tr>\n",
              "      <th>4</th>\n",
              "      <td>Açucena</td>\n",
              "      <td>5</td>\n",
              "      <td>1007</td>\n",
              "      <td>0.069931</td>\n",
              "      <td>197</td>\n",
              "      <td>964</td>\n",
              "      <td>767</td>\n",
              "      <td>502.974181</td>\n",
              "      <td>201.501221</td>\n",
              "      <td>506495.0</td>\n",
              "      <td>515</td>\n",
              "      <td>243</td>\n",
              "      <td>197</td>\n",
              "      <td>492</td>\n",
              "    </tr>\n",
              "  </tbody>\n",
              "</table>\n",
              "</div>"
            ],
            "text/plain": [
              "                NM_MUN  ZONE_CODE  COUNT  ...  MAJORITY  MINORITY  MEDIAN\n",
              "0  Abadia dos Dourados          1   1092  ...       760       639     774\n",
              "1               Abaeté          2   2245  ...       632       717     637\n",
              "2           Abre Campo          3    581  ...       642       391     669\n",
              "3              Acaiaca          4    123  ...       606       450     617\n",
              "4              Açucena          5   1007  ...       243       197     492\n",
              "\n",
              "[5 rows x 14 columns]"
            ]
          },
          "metadata": {
            "tags": []
          },
          "execution_count": 5
        }
      ]
    },
    {
      "cell_type": "code",
      "metadata": {
        "colab": {
          "base_uri": "https://localhost:8080/"
        },
        "id": "jmEvgQQlub0b",
        "outputId": "a3df4e66-cec9-42c9-9b01-df4ddc672d03"
      },
      "source": [
        "df_altitudes.drop(['ZONE_CODE', 'COUNT','MAJORITY','MINORITY'], axis=1,inplace=True)\n",
        "df_altitudes.rename(columns={\"NM_MUN\": \"NAME\"},inplace=True)\n",
        "df_altitudes[\"NAME_UNIDECODE\"] = df_altitudes[\"NAME\"].str.lower().apply(unidecode)\n",
        "df_altitudes[[\"MEAN\",\"STD\"]] = df_altitudes[[\"MEAN\",\"STD\"]].apply(np.round)\n",
        "df_altitudes[\"AREA\"] = df_altitudes[\"AREA\"].apply(lambda x:np.round(x,3))\n",
        "df_altitudes.to_csv(f\"{path_start}altitudes.csv\",index=False)\n",
        "df_altitudes.head(3)"
      ],
      "id": "jmEvgQQlub0b",
      "execution_count": null,
      "outputs": [
        {
          "output_type": "execute_result",
          "data": {
            "text/html": [
              "<div>\n",
              "<style scoped>\n",
              "    .dataframe tbody tr th:only-of-type {\n",
              "        vertical-align: middle;\n",
              "    }\n",
              "\n",
              "    .dataframe tbody tr th {\n",
              "        vertical-align: top;\n",
              "    }\n",
              "\n",
              "    .dataframe thead th {\n",
              "        text-align: right;\n",
              "    }\n",
              "</style>\n",
              "<table border=\"1\" class=\"dataframe\">\n",
              "  <thead>\n",
              "    <tr style=\"text-align: right;\">\n",
              "      <th></th>\n",
              "      <th>NAME</th>\n",
              "      <th>AREA</th>\n",
              "      <th>MIN</th>\n",
              "      <th>MAX</th>\n",
              "      <th>RANGE</th>\n",
              "      <th>MEAN</th>\n",
              "      <th>STD</th>\n",
              "      <th>SUM</th>\n",
              "      <th>VARIETY</th>\n",
              "      <th>MEDIAN</th>\n",
              "      <th>NAME_UNIDECODE</th>\n",
              "    </tr>\n",
              "  </thead>\n",
              "  <tbody>\n",
              "    <tr>\n",
              "      <th>0</th>\n",
              "      <td>Abadia dos Dourados</td>\n",
              "      <td>0.076</td>\n",
              "      <td>639</td>\n",
              "      <td>988</td>\n",
              "      <td>349</td>\n",
              "      <td>773.0</td>\n",
              "      <td>62.0</td>\n",
              "      <td>843977.0</td>\n",
              "      <td>270</td>\n",
              "      <td>774</td>\n",
              "      <td>abadia dos dourados</td>\n",
              "    </tr>\n",
              "    <tr>\n",
              "      <th>1</th>\n",
              "      <td>Abaeté</td>\n",
              "      <td>0.156</td>\n",
              "      <td>564</td>\n",
              "      <td>904</td>\n",
              "      <td>340</td>\n",
              "      <td>642.0</td>\n",
              "      <td>44.0</td>\n",
              "      <td>1441395.0</td>\n",
              "      <td>223</td>\n",
              "      <td>637</td>\n",
              "      <td>abaete</td>\n",
              "    </tr>\n",
              "    <tr>\n",
              "      <th>2</th>\n",
              "      <td>Abre Campo</td>\n",
              "      <td>0.040</td>\n",
              "      <td>391</td>\n",
              "      <td>1068</td>\n",
              "      <td>677</td>\n",
              "      <td>672.0</td>\n",
              "      <td>126.0</td>\n",
              "      <td>390481.0</td>\n",
              "      <td>345</td>\n",
              "      <td>669</td>\n",
              "      <td>abre campo</td>\n",
              "    </tr>\n",
              "  </tbody>\n",
              "</table>\n",
              "</div>"
            ],
            "text/plain": [
              "                  NAME   AREA  MIN  ...  VARIETY  MEDIAN       NAME_UNIDECODE\n",
              "0  Abadia dos Dourados  0.076  639  ...      270     774  abadia dos dourados\n",
              "1               Abaeté  0.156  564  ...      223     637               abaete\n",
              "2           Abre Campo  0.040  391  ...      345     669           abre campo\n",
              "\n",
              "[3 rows x 11 columns]"
            ]
          },
          "metadata": {
            "tags": []
          },
          "execution_count": 6
        }
      ]
    },
    {
      "cell_type": "markdown",
      "metadata": {
        "id": "lonely-screening"
      },
      "source": [
        "## Using Pearson Correlation and Visualizing MEAN Altitude Column"
      ],
      "id": "lonely-screening"
    },
    {
      "cell_type": "code",
      "metadata": {
        "colab": {
          "base_uri": "https://localhost:8080/"
        },
        "id": "exact-neighborhood",
        "outputId": "74569a1d-61eb-440e-c482-bc739b424ef4"
      },
      "source": [
        "print(\"CORRELATION BETWEEN MEAN MUNICIPAL ALTITUDE AND MUNICIPAL ALTITUDE RANGE\")\n",
        "corr,pval=stats.pearsonr(df_altitudes['MEAN'],df_altitudes['RANGE'])\n",
        "print(f\"Correlation:{corr: .3f}\")\n",
        "print(f\"P-VALUE:{pval: .5f}\")"
      ],
      "id": "exact-neighborhood",
      "execution_count": null,
      "outputs": [
        {
          "output_type": "stream",
          "text": [
            "CORRELATION BETWEEN MEAN MUNICIPAL ALTITUDE AND MUNICIPAL ALTITUDE RANGE\n",
            "Correlation: 0.202\n",
            "P-VALUE: 0.00000\n"
          ],
          "name": "stdout"
        }
      ]
    },
    {
      "cell_type": "code",
      "metadata": {
        "colab": {
          "base_uri": "https://localhost:8080/"
        },
        "id": "TWc4VuMcicL0",
        "outputId": "b2bece05-8311-4f7c-a332-2eea3598aff0"
      },
      "source": [
        "ax = sns.boxplot(x=df_altitudes[\"MEAN\"],width=0.5)\n",
        "ax.set_title('Boxplot Altitude Média Municipal (m)')"
      ],
      "id": "TWc4VuMcicL0",
      "execution_count": null,
      "outputs": [
        {
          "output_type": "execute_result",
          "data": {
            "text/plain": [
              "Text(0.5, 1.0, 'Boxplot Altitude Média Municipal (m)')"
            ]
          },
          "metadata": {
            "tags": []
          },
          "execution_count": 8
        },
        {
          "output_type": "display_data",
          "data": {
            "image/png": "[encoded data removed]",
            "text/plain": [
              "<Figure size 576x360 with 1 Axes>"
            ]
          },
          "metadata": {
            "tags": [],
            "needs_background": "light"
          }
        }
      ]
    },
    {
      "cell_type": "code",
      "metadata": {
        "colab": {
          "base_uri": "https://localhost:8080/"
        },
        "id": "fqQH56CWiqMi",
        "outputId": "a292e57f-9f0d-4055-eee2-0c241cddecec"
      },
      "source": [
        "central_tendency = (np.mean(df_altitudes[\"MEAN\"]),np.median(df_altitudes[\"MEAN\"]))\n",
        "print(f\"The mean of mean municipal altitudes is: {round(central_tendency[0],2)}\")\n",
        "print(f\"The median of mean municipal altitudes is: {central_tendency[1]}\")"
      ],
      "id": "fqQH56CWiqMi",
      "execution_count": null,
      "outputs": [
        {
          "output_type": "stream",
          "text": [
            "The mean of mean municipal altitudes is: 762.76\n",
            "The median of mean municipal altitudes is: 776.0\n"
          ],
          "name": "stdout"
        }
      ]
    },
    {
      "cell_type": "code",
      "metadata": {
        "colab": {
          "base_uri": "https://localhost:8080/"
        },
        "id": "uc9nkbclcFTi",
        "outputId": "1d3c8539-470b-40dd-8915-a0045aad784b"
      },
      "source": [
        "ax = sns.histplot(data=df_altitudes, x=\"MEAN\",bins=20)\n",
        "ax.set_title('Frequência Altitude Média Municipal (m)')"
      ],
      "id": "uc9nkbclcFTi",
      "execution_count": null,
      "outputs": [
        {
          "output_type": "execute_result",
          "data": {
            "text/plain": [
              "Text(0.5, 1.0, 'Frequência Altitude Média Municipal (m)')"
            ]
          },
          "metadata": {
            "tags": []
          },
          "execution_count": 10
        },
        {
          "output_type": "display_data",
          "data": {
            "image/png": "[encoded data removed]",
            "text/plain": [
              "<Figure size 576x360 with 1 Axes>"
            ]
          },
          "metadata": {
            "tags": [],
            "needs_background": "light"
          }
        }
      ]
    },
    {
      "cell_type": "markdown",
      "metadata": {
        "id": "xJ3dn_GKfPT2"
      },
      "source": [
        "## Hypothesis testing - Is it a normal distribution?"
      ],
      "id": "xJ3dn_GKfPT2"
    },
    {
      "cell_type": "code",
      "metadata": {
        "id": "wwHZTWHilA8d"
      },
      "source": [
        "alpha = 5e-2"
      ],
      "id": "wwHZTWHilA8d",
      "execution_count": null,
      "outputs": []
    },
    {
      "cell_type": "code",
      "metadata": {
        "colab": {
          "base_uri": "https://localhost:8080/"
        },
        "id": "9_j3Jx4bkiEF",
        "outputId": "94acfc12-7706-40a0-f477-caa7bc18348e"
      },
      "source": [
        "k2, p = stats.normaltest(df_altitudes[\"MEAN\"])\n",
        "isNormal = p < alpha\n",
        "print(f\"The null hypothesis is {isNormal}\")"
      ],
      "id": "9_j3Jx4bkiEF",
      "execution_count": null,
      "outputs": [
        {
          "output_type": "stream",
          "text": [
            "The null hypothesis is False\n"
          ],
          "name": "stdout"
        }
      ]
    },
    {
      "cell_type": "markdown",
      "metadata": {
        "id": "legal-transformation"
      },
      "source": [
        "## Creating intervals of altitudes using pd.cut"
      ],
      "id": "legal-transformation"
    },
    {
      "cell_type": "code",
      "metadata": {
        "colab": {
          "base_uri": "https://localhost:8080/"
        },
        "id": "tired-vinyl",
        "outputId": "c302f687-2e1b-4e98-9c21-67b76d8f1503"
      },
      "source": [
        "df_altitudes.sort_values(by=\"NAME_UNIDECODE\",inplace=True)\n",
        "df_altitudes[\"ALTITUDE\"] = pd.cut(x=df_altitudes[\"MEAN\"],bins=[0, 300, 600, 850, 1100, 1600]\n",
        "                    ,labels=[\"0-300m\",\"300-600m\",\"600-850m\",\"850-1100m\",\"1100-1600m\"])\n",
        "df_altitudes[[\"NAME\",\"MEAN\",\"ALTITUDE\"]].tail()"
      ],
      "id": "tired-vinyl",
      "execution_count": null,
      "outputs": [
        {
          "output_type": "execute_result",
          "data": {
            "text/html": [
              "<div>\n",
              "<style scoped>\n",
              "    .dataframe tbody tr th:only-of-type {\n",
              "        vertical-align: middle;\n",
              "    }\n",
              "\n",
              "    .dataframe tbody tr th {\n",
              "        vertical-align: top;\n",
              "    }\n",
              "\n",
              "    .dataframe thead th {\n",
              "        text-align: right;\n",
              "    }\n",
              "</style>\n",
              "<table border=\"1\" class=\"dataframe\">\n",
              "  <thead>\n",
              "    <tr style=\"text-align: right;\">\n",
              "      <th></th>\n",
              "      <th>NAME</th>\n",
              "      <th>MEAN</th>\n",
              "      <th>ALTITUDE</th>\n",
              "    </tr>\n",
              "  </thead>\n",
              "  <tbody>\n",
              "    <tr>\n",
              "      <th>848</th>\n",
              "      <td>Virginópolis</td>\n",
              "      <td>811.0</td>\n",
              "      <td>600-850m</td>\n",
              "    </tr>\n",
              "    <tr>\n",
              "      <th>849</th>\n",
              "      <td>Virgolândia</td>\n",
              "      <td>504.0</td>\n",
              "      <td>300-600m</td>\n",
              "    </tr>\n",
              "    <tr>\n",
              "      <th>850</th>\n",
              "      <td>Visconde do Rio Branco</td>\n",
              "      <td>411.0</td>\n",
              "      <td>300-600m</td>\n",
              "    </tr>\n",
              "    <tr>\n",
              "      <th>851</th>\n",
              "      <td>Volta Grande</td>\n",
              "      <td>279.0</td>\n",
              "      <td>0-300m</td>\n",
              "    </tr>\n",
              "    <tr>\n",
              "      <th>852</th>\n",
              "      <td>Wenceslau Braz</td>\n",
              "      <td>1216.0</td>\n",
              "      <td>1100-1600m</td>\n",
              "    </tr>\n",
              "  </tbody>\n",
              "</table>\n",
              "</div>"
            ],
            "text/plain": [
              "                       NAME    MEAN    ALTITUDE\n",
              "848            Virginópolis   811.0    600-850m\n",
              "849             Virgolândia   504.0    300-600m\n",
              "850  Visconde do Rio Branco   411.0    300-600m\n",
              "851            Volta Grande   279.0      0-300m\n",
              "852          Wenceslau Braz  1216.0  1100-1600m"
            ]
          },
          "metadata": {
            "tags": []
          },
          "execution_count": 13
        }
      ]
    },
    {
      "cell_type": "markdown",
      "metadata": {
        "id": "fuzzy-kidney"
      },
      "source": [
        "## Finding the number of cities in each interval"
      ],
      "id": "fuzzy-kidney"
    },
    {
      "cell_type": "code",
      "metadata": {
        "colab": {
          "base_uri": "https://localhost:8080/"
        },
        "id": "Oz90uPJUBJGz",
        "outputId": "09c5e1b6-c175-446e-abd3-5c7fa9ebd1e1"
      },
      "source": [
        "porcentagem = round((df_altitudes[\"ALTITUDE\"].value_counts(normalize=True))*100,2)\n",
        "frequencia = df_altitudes[\"ALTITUDE\"].value_counts()\n",
        "df_stats = pd.DataFrame({\"%\":porcentagem,\"frequencia\":frequencia})\n",
        "df_stats"
      ],
      "id": "Oz90uPJUBJGz",
      "execution_count": null,
      "outputs": [
        {
          "output_type": "execute_result",
          "data": {
            "text/html": [
              "<div>\n",
              "<style scoped>\n",
              "    .dataframe tbody tr th:only-of-type {\n",
              "        vertical-align: middle;\n",
              "    }\n",
              "\n",
              "    .dataframe tbody tr th {\n",
              "        vertical-align: top;\n",
              "    }\n",
              "\n",
              "    .dataframe thead th {\n",
              "        text-align: right;\n",
              "    }\n",
              "</style>\n",
              "<table border=\"1\" class=\"dataframe\">\n",
              "  <thead>\n",
              "    <tr style=\"text-align: right;\">\n",
              "      <th></th>\n",
              "      <th>%</th>\n",
              "      <th>frequencia</th>\n",
              "    </tr>\n",
              "  </thead>\n",
              "  <tbody>\n",
              "    <tr>\n",
              "      <th>600-850m</th>\n",
              "      <td>38.34</td>\n",
              "      <td>327</td>\n",
              "    </tr>\n",
              "    <tr>\n",
              "      <th>850-1100m</th>\n",
              "      <td>31.18</td>\n",
              "      <td>266</td>\n",
              "    </tr>\n",
              "    <tr>\n",
              "      <th>300-600m</th>\n",
              "      <td>21.45</td>\n",
              "      <td>183</td>\n",
              "    </tr>\n",
              "    <tr>\n",
              "      <th>1100-1600m</th>\n",
              "      <td>5.74</td>\n",
              "      <td>49</td>\n",
              "    </tr>\n",
              "    <tr>\n",
              "      <th>0-300m</th>\n",
              "      <td>3.28</td>\n",
              "      <td>28</td>\n",
              "    </tr>\n",
              "  </tbody>\n",
              "</table>\n",
              "</div>"
            ],
            "text/plain": [
              "                %  frequencia\n",
              "600-850m    38.34         327\n",
              "850-1100m   31.18         266\n",
              "300-600m    21.45         183\n",
              "1100-1600m   5.74          49\n",
              "0-300m       3.28          28"
            ]
          },
          "metadata": {
            "tags": []
          },
          "execution_count": 14
        }
      ]
    },
    {
      "cell_type": "markdown",
      "metadata": {
        "id": "annoying-shelter"
      },
      "source": [
        "## Creating population Dataframe from xls"
      ],
      "id": "annoying-shelter"
    },
    {
      "cell_type": "code",
      "metadata": {
        "colab": {
          "base_uri": "https://localhost:8080/"
        },
        "id": "complex-slovenia",
        "outputId": "410d4662-bdf0-4bf6-8936-637013ac8338"
      },
      "source": [
        "df_population = pd.read_excel(f\"{path_start}population.xls\", sheet_name=\"Municípios\")\n",
        "df_population.dropna(inplace=True)\n",
        "df_pop = df_population.copy()\n",
        "df_pop = df_pop[df_pop[\"UF\"] == \"MG\"]\n",
        "df_pop.reset_index(inplace=True,drop=True)\n",
        "df_pop.drop(['UF', 'COD. UF','COD. MUNIC'], axis=1,inplace=True)\n",
        "df_pop[\"NAME_UNIDECODE\"] = df_pop[\"NOME DO MUNICÍPIO\"].str.lower().apply(unidecode)\n",
        "df_pop.sort_values(by=\"NAME_UNIDECODE\",inplace=True)\n",
        "df_pop.tail()"
      ],
      "id": "complex-slovenia",
      "execution_count": null,
      "outputs": [
        {
          "output_type": "execute_result",
          "data": {
            "text/html": [
              "<div>\n",
              "<style scoped>\n",
              "    .dataframe tbody tr th:only-of-type {\n",
              "        vertical-align: middle;\n",
              "    }\n",
              "\n",
              "    .dataframe tbody tr th {\n",
              "        vertical-align: top;\n",
              "    }\n",
              "\n",
              "    .dataframe thead th {\n",
              "        text-align: right;\n",
              "    }\n",
              "</style>\n",
              "<table border=\"1\" class=\"dataframe\">\n",
              "  <thead>\n",
              "    <tr style=\"text-align: right;\">\n",
              "      <th></th>\n",
              "      <th>NOME DO MUNICÍPIO</th>\n",
              "      <th>POPULAÇÃO ESTIMADA</th>\n",
              "      <th>NAME_UNIDECODE</th>\n",
              "    </tr>\n",
              "  </thead>\n",
              "  <tbody>\n",
              "    <tr>\n",
              "      <th>848</th>\n",
              "      <td>Virginópolis</td>\n",
              "      <td>10810.0</td>\n",
              "      <td>virginopolis</td>\n",
              "    </tr>\n",
              "    <tr>\n",
              "      <th>849</th>\n",
              "      <td>Virgolândia</td>\n",
              "      <td>5664.0</td>\n",
              "      <td>virgolandia</td>\n",
              "    </tr>\n",
              "    <tr>\n",
              "      <th>850</th>\n",
              "      <td>Visconde do Rio Branco</td>\n",
              "      <td>41182.0</td>\n",
              "      <td>visconde do rio branco</td>\n",
              "    </tr>\n",
              "    <tr>\n",
              "      <th>851</th>\n",
              "      <td>Volta Grande</td>\n",
              "      <td>5288.0</td>\n",
              "      <td>volta grande</td>\n",
              "    </tr>\n",
              "    <tr>\n",
              "      <th>852</th>\n",
              "      <td>Wenceslau Braz</td>\n",
              "      <td>2617.0</td>\n",
              "      <td>wenceslau braz</td>\n",
              "    </tr>\n",
              "  </tbody>\n",
              "</table>\n",
              "</div>"
            ],
            "text/plain": [
              "          NOME DO MUNICÍPIO  POPULAÇÃO ESTIMADA          NAME_UNIDECODE\n",
              "848            Virginópolis             10810.0            virginopolis\n",
              "849             Virgolândia              5664.0             virgolandia\n",
              "850  Visconde do Rio Branco             41182.0  visconde do rio branco\n",
              "851            Volta Grande              5288.0            volta grande\n",
              "852          Wenceslau Braz              2617.0          wenceslau braz"
            ]
          },
          "metadata": {
            "tags": []
          },
          "execution_count": 15
        }
      ]
    },
    {
      "cell_type": "markdown",
      "metadata": {
        "id": "developmental-aruba"
      },
      "source": [
        "## Correcting wrong names"
      ],
      "id": "developmental-aruba"
    },
    {
      "cell_type": "code",
      "metadata": {
        "colab": {
          "base_uri": "https://localhost:8080/"
        },
        "id": "needed-firmware",
        "outputId": "2ee00f2c-f969-4033-b0d5-07f139f25035"
      },
      "source": [
        "wrong_names = df_altitudes[~df_altitudes['NAME'].\n",
        "    isin(df_pop['NOME DO MUNICÍPIO'])][\"NAME\"].to_numpy()\n",
        "correct_names = df_pop[~df_pop['NOME DO MUNICÍPIO'].\n",
        "    isin(df_altitudes['NAME'])]['NOME DO MUNICÍPIO'].to_numpy()\n",
        "correct_names    "
      ],
      "id": "needed-firmware",
      "execution_count": null,
      "outputs": [
        {
          "output_type": "execute_result",
          "data": {
            "text/plain": [
              "array(['Brasópolis', 'Dona Eusébia', 'Passa-Vinte', \"Pingo-d'Água\",\n",
              "       'São Sebastião da Vargem Alegre', 'São Thomé das Letras'],\n",
              "      dtype=object)"
            ]
          },
          "metadata": {
            "tags": []
          },
          "execution_count": 16
        }
      ]
    },
    {
      "cell_type": "code",
      "metadata": {
        "id": "lWrpHrJG5gwJ"
      },
      "source": [
        "df_altitudes['NAME'].replace(wrong_names,correct_names,inplace=True)"
      ],
      "id": "lWrpHrJG5gwJ",
      "execution_count": null,
      "outputs": []
    },
    {
      "cell_type": "markdown",
      "metadata": {
        "id": "found-tomato"
      },
      "source": [
        "## Merging DFs"
      ],
      "id": "found-tomato"
    },
    {
      "cell_type": "code",
      "metadata": {
        "colab": {
          "base_uri": "https://localhost:8080/"
        },
        "id": "fundamental-juvenile",
        "outputId": "159549b9-beab-4b4c-8722-9368f909f933"
      },
      "source": [
        "df_altitudes = df_altitudes.merge(df_pop)\n",
        "df_altitudes.drop([\"NAME\"],axis=1,inplace=True)\n",
        "df_altitudes[[\"NOME DO MUNICÍPIO\",\"MEAN\",\"ALTITUDE\",\"POPULAÇÃO ESTIMADA\"]].head()"
      ],
      "id": "fundamental-juvenile",
      "execution_count": null,
      "outputs": [
        {
          "output_type": "execute_result",
          "data": {
            "text/html": [
              "<div>\n",
              "<style scoped>\n",
              "    .dataframe tbody tr th:only-of-type {\n",
              "        vertical-align: middle;\n",
              "    }\n",
              "\n",
              "    .dataframe tbody tr th {\n",
              "        vertical-align: top;\n",
              "    }\n",
              "\n",
              "    .dataframe thead th {\n",
              "        text-align: right;\n",
              "    }\n",
              "</style>\n",
              "<table border=\"1\" class=\"dataframe\">\n",
              "  <thead>\n",
              "    <tr style=\"text-align: right;\">\n",
              "      <th></th>\n",
              "      <th>NOME DO MUNICÍPIO</th>\n",
              "      <th>MEAN</th>\n",
              "      <th>ALTITUDE</th>\n",
              "      <th>POPULAÇÃO ESTIMADA</th>\n",
              "    </tr>\n",
              "  </thead>\n",
              "  <tbody>\n",
              "    <tr>\n",
              "      <th>0</th>\n",
              "      <td>Abadia dos Dourados</td>\n",
              "      <td>773.0</td>\n",
              "      <td>600-850m</td>\n",
              "      <td>7015.0</td>\n",
              "    </tr>\n",
              "    <tr>\n",
              "      <th>1</th>\n",
              "      <td>Abaeté</td>\n",
              "      <td>642.0</td>\n",
              "      <td>600-850m</td>\n",
              "      <td>23535.0</td>\n",
              "    </tr>\n",
              "    <tr>\n",
              "      <th>2</th>\n",
              "      <td>Abre Campo</td>\n",
              "      <td>672.0</td>\n",
              "      <td>600-850m</td>\n",
              "      <td>13719.0</td>\n",
              "    </tr>\n",
              "    <tr>\n",
              "      <th>3</th>\n",
              "      <td>Acaiaca</td>\n",
              "      <td>609.0</td>\n",
              "      <td>600-850m</td>\n",
              "      <td>4056.0</td>\n",
              "    </tr>\n",
              "    <tr>\n",
              "      <th>4</th>\n",
              "      <td>Açucena</td>\n",
              "      <td>503.0</td>\n",
              "      <td>300-600m</td>\n",
              "      <td>10140.0</td>\n",
              "    </tr>\n",
              "  </tbody>\n",
              "</table>\n",
              "</div>"
            ],
            "text/plain": [
              "     NOME DO MUNICÍPIO   MEAN  ALTITUDE  POPULAÇÃO ESTIMADA\n",
              "0  Abadia dos Dourados  773.0  600-850m              7015.0\n",
              "1               Abaeté  642.0  600-850m             23535.0\n",
              "2           Abre Campo  672.0  600-850m             13719.0\n",
              "3              Acaiaca  609.0  600-850m              4056.0\n",
              "4              Açucena  503.0  300-600m             10140.0"
            ]
          },
          "metadata": {
            "tags": []
          },
          "execution_count": 18
        }
      ]
    },
    {
      "cell_type": "code",
      "metadata": {
        "id": "GftSLckzG2ge"
      },
      "source": [
        "df_altitudes[\"CATEGORIA CIDADE\"] = pd.cut(x=df_altitudes[\"POPULAÇÃO ESTIMADA\"],bins=[0,50000,100000,3000000]\n",
        "                    ,labels=[\"pequena\",\"média\",\"grande\"])\n",
        "crosstab = pd.crosstab(df_altitudes[\"ALTITUDE\"],\n",
        "                         df_altitudes[\"CATEGORIA CIDADE\"],\n",
        "                         aggfunc = 'mean',\n",
        "                         values = df_altitudes[\"POPULAÇÃO ESTIMADA\"])\n",
        "crosstab = crosstab.round(0)"
      ],
      "id": "GftSLckzG2ge",
      "execution_count": null,
      "outputs": []
    },
    {
      "cell_type": "code",
      "metadata": {
        "colab": {
          "base_uri": "https://localhost:8080/"
        },
        "id": "pxecjFrNI8kw",
        "outputId": "d19f96b0-9eaa-4376-8b99-a15f60b3c3be"
      },
      "source": [
        "print(\"POPULAÇÃO MÉDIA POR FAIXA DE CIDADE\")\n",
        "crosstab"
      ],
      "id": "pxecjFrNI8kw",
      "execution_count": null,
      "outputs": [
        {
          "output_type": "stream",
          "text": [
            "POPULAÇÃO MÉDIA POR FAIXA DE CIDADE\n"
          ],
          "name": "stdout"
        },
        {
          "output_type": "execute_result",
          "data": {
            "text/html": [
              "<div>\n",
              "<style scoped>\n",
              "    .dataframe tbody tr th:only-of-type {\n",
              "        vertical-align: middle;\n",
              "    }\n",
              "\n",
              "    .dataframe tbody tr th {\n",
              "        vertical-align: top;\n",
              "    }\n",
              "\n",
              "    .dataframe thead th {\n",
              "        text-align: right;\n",
              "    }\n",
              "</style>\n",
              "<table border=\"1\" class=\"dataframe\">\n",
              "  <thead>\n",
              "    <tr style=\"text-align: right;\">\n",
              "      <th>CATEGORIA CIDADE</th>\n",
              "      <th>pequena</th>\n",
              "      <th>média</th>\n",
              "      <th>grande</th>\n",
              "    </tr>\n",
              "    <tr>\n",
              "      <th>ALTITUDE</th>\n",
              "      <th></th>\n",
              "      <th></th>\n",
              "      <th></th>\n",
              "    </tr>\n",
              "  </thead>\n",
              "  <tbody>\n",
              "    <tr>\n",
              "      <th>0-300m</th>\n",
              "      <td>9500.0</td>\n",
              "      <td>NaN</td>\n",
              "      <td>278363.0</td>\n",
              "    </tr>\n",
              "    <tr>\n",
              "      <th>300-600m</th>\n",
              "      <td>10504.0</td>\n",
              "      <td>64524.0</td>\n",
              "      <td>144000.0</td>\n",
              "    </tr>\n",
              "    <tr>\n",
              "      <th>600-850m</th>\n",
              "      <td>11197.0</td>\n",
              "      <td>75093.0</td>\n",
              "      <td>277352.0</td>\n",
              "    </tr>\n",
              "    <tr>\n",
              "      <th>850-1100m</th>\n",
              "      <td>12253.0</td>\n",
              "      <td>73612.0</td>\n",
              "      <td>389169.0</td>\n",
              "    </tr>\n",
              "    <tr>\n",
              "      <th>1100-1600m</th>\n",
              "      <td>9068.0</td>\n",
              "      <td>81968.0</td>\n",
              "      <td>163677.0</td>\n",
              "    </tr>\n",
              "  </tbody>\n",
              "</table>\n",
              "</div>"
            ],
            "text/plain": [
              "CATEGORIA CIDADE  pequena    média    grande\n",
              "ALTITUDE                                    \n",
              "0-300m             9500.0      NaN  278363.0\n",
              "300-600m          10504.0  64524.0  144000.0\n",
              "600-850m          11197.0  75093.0  277352.0\n",
              "850-1100m         12253.0  73612.0  389169.0\n",
              "1100-1600m         9068.0  81968.0  163677.0"
            ]
          },
          "metadata": {
            "tags": []
          },
          "execution_count": 20
        }
      ]
    },
    {
      "cell_type": "markdown",
      "metadata": {
        "id": "macro-account"
      },
      "source": [
        "## Generating CSV with altitude intervals\n"
      ],
      "id": "macro-account"
    },
    {
      "cell_type": "code",
      "metadata": {
        "colab": {
          "base_uri": "https://localhost:8080/"
        },
        "id": "sapphire-corner",
        "outputId": "54aa9c0f-6078-4b9d-d234-6d9eb699eb34"
      },
      "source": [
        "df_altitudes_csv = df_altitudes.set_index([\"ALTITUDE\",\"NOME DO MUNICÍPIO\"])\n",
        "df_altitudes_csv.sort_values(by=\"MEAN\",inplace=True)\n",
        "df_altitudes_csv.to_csv(f\"{path_start}altitude_intervals.csv\",index=False)\n",
        "df_altitudes_csv[[\"MEAN\",\"POPULAÇÃO ESTIMADA\"]]"
      ],
      "id": "sapphire-corner",
      "execution_count": null,
      "outputs": [
        {
          "output_type": "execute_result",
          "data": {
            "text/html": [
              "<div>\n",
              "<style scoped>\n",
              "    .dataframe tbody tr th:only-of-type {\n",
              "        vertical-align: middle;\n",
              "    }\n",
              "\n",
              "    .dataframe tbody tr th {\n",
              "        vertical-align: top;\n",
              "    }\n",
              "\n",
              "    .dataframe thead th {\n",
              "        text-align: right;\n",
              "    }\n",
              "</style>\n",
              "<table border=\"1\" class=\"dataframe\">\n",
              "  <thead>\n",
              "    <tr style=\"text-align: right;\">\n",
              "      <th></th>\n",
              "      <th></th>\n",
              "      <th>MEAN</th>\n",
              "      <th>POPULAÇÃO ESTIMADA</th>\n",
              "    </tr>\n",
              "    <tr>\n",
              "      <th>ALTITUDE</th>\n",
              "      <th>NOME DO MUNICÍPIO</th>\n",
              "      <th></th>\n",
              "      <th></th>\n",
              "    </tr>\n",
              "  </thead>\n",
              "  <tbody>\n",
              "    <tr>\n",
              "      <th rowspan=\"5\" valign=\"top\">0-300m</th>\n",
              "      <th>Serra dos Aimorés</th>\n",
              "      <td>195.0</td>\n",
              "      <td>8767.0</td>\n",
              "    </tr>\n",
              "    <tr>\n",
              "      <th>Pirapetinga</th>\n",
              "      <td>202.0</td>\n",
              "      <td>10818.0</td>\n",
              "    </tr>\n",
              "    <tr>\n",
              "      <th>Salto da Divisa</th>\n",
              "      <td>217.0</td>\n",
              "      <td>7107.0</td>\n",
              "    </tr>\n",
              "    <tr>\n",
              "      <th>Alpercata</th>\n",
              "      <td>219.0</td>\n",
              "      <td>7478.0</td>\n",
              "    </tr>\n",
              "    <tr>\n",
              "      <th>Tumiritinga</th>\n",
              "      <td>230.0</td>\n",
              "      <td>6669.0</td>\n",
              "    </tr>\n",
              "    <tr>\n",
              "      <th>...</th>\n",
              "      <th>...</th>\n",
              "      <td>...</td>\n",
              "      <td>...</td>\n",
              "    </tr>\n",
              "    <tr>\n",
              "      <th rowspan=\"5\" valign=\"top\">1100-1600m</th>\n",
              "      <th>Senador Amaral</th>\n",
              "      <td>1465.0</td>\n",
              "      <td>5419.0</td>\n",
              "    </tr>\n",
              "    <tr>\n",
              "      <th>Delfim Moreira</th>\n",
              "      <td>1483.0</td>\n",
              "      <td>8201.0</td>\n",
              "    </tr>\n",
              "    <tr>\n",
              "      <th>Alagoa</th>\n",
              "      <td>1507.0</td>\n",
              "      <td>2760.0</td>\n",
              "    </tr>\n",
              "    <tr>\n",
              "      <th>Marmelópolis</th>\n",
              "      <td>1544.0</td>\n",
              "      <td>2938.0</td>\n",
              "    </tr>\n",
              "    <tr>\n",
              "      <th>Itamonte</th>\n",
              "      <td>1570.0</td>\n",
              "      <td>15136.0</td>\n",
              "    </tr>\n",
              "  </tbody>\n",
              "</table>\n",
              "<p>847 rows × 2 columns</p>\n",
              "</div>"
            ],
            "text/plain": [
              "                                MEAN  POPULAÇÃO ESTIMADA\n",
              "ALTITUDE   NOME DO MUNICÍPIO                            \n",
              "0-300m     Serra dos Aimorés   195.0              8767.0\n",
              "           Pirapetinga         202.0             10818.0\n",
              "           Salto da Divisa     217.0              7107.0\n",
              "           Alpercata           219.0              7478.0\n",
              "           Tumiritinga         230.0              6669.0\n",
              "...                              ...                 ...\n",
              "1100-1600m Senador Amaral     1465.0              5419.0\n",
              "           Delfim Moreira     1483.0              8201.0\n",
              "           Alagoa             1507.0              2760.0\n",
              "           Marmelópolis       1544.0              2938.0\n",
              "           Itamonte           1570.0             15136.0\n",
              "\n",
              "[847 rows x 2 columns]"
            ]
          },
          "metadata": {
            "tags": []
          },
          "execution_count": 21
        }
      ]
    },
    {
      "cell_type": "markdown",
      "metadata": {
        "id": "QEarKgg6M_0I"
      },
      "source": [
        "## Interval of Altitudes - Statistics\n"
      ],
      "id": "QEarKgg6M_0I"
    },
    {
      "cell_type": "code",
      "metadata": {
        "id": "z8XbwurONGCo",
        "colab": {
          "base_uri": "https://localhost:8080/",
          "height": 234
        },
        "outputId": "2a6e90ca-2a60-4fe3-f7e5-ec31aa63976d"
      },
      "source": [
        "grouped_altitudes = df_altitudes.groupby([\"ALTITUDE\"])[\"POPULAÇÃO ESTIMADA\"].agg([\"sum\",\"mean\",\"size\"])\n",
        "mg_total_pop = grouped_altitudes[\"sum\"].sum()\n",
        "grouped_altitudes[\"population_share\"] = grouped_altitudes[\"sum\"].apply(lambda x:(x/mg_total_pop)*100)\n",
        "grouped_altitudes.sort_values(by=\"population_share\",ascending=False)\n",
        "grouped_altitudes[[\"sum\",\"mean\"]] = grouped_altitudes[[\"sum\",\"mean\"]].round(0)\n",
        "grouped_altitudes[\"population_share\"] = grouped_altitudes[\"population_share\"].round(2)\n",
        "grouped_altitudes"
      ],
      "id": "z8XbwurONGCo",
      "execution_count": null,
      "outputs": [
        {
          "output_type": "execute_result",
          "data": {
            "text/html": [
              "<div>\n",
              "<style scoped>\n",
              "    .dataframe tbody tr th:only-of-type {\n",
              "        vertical-align: middle;\n",
              "    }\n",
              "\n",
              "    .dataframe tbody tr th {\n",
              "        vertical-align: top;\n",
              "    }\n",
              "\n",
              "    .dataframe thead th {\n",
              "        text-align: right;\n",
              "    }\n",
              "</style>\n",
              "<table border=\"1\" class=\"dataframe\">\n",
              "  <thead>\n",
              "    <tr style=\"text-align: right;\">\n",
              "      <th></th>\n",
              "      <th>sum</th>\n",
              "      <th>mean</th>\n",
              "      <th>size</th>\n",
              "      <th>population_share</th>\n",
              "    </tr>\n",
              "    <tr>\n",
              "      <th>ALTITUDE</th>\n",
              "      <th></th>\n",
              "      <th></th>\n",
              "      <th></th>\n",
              "      <th></th>\n",
              "    </tr>\n",
              "  </thead>\n",
              "  <tbody>\n",
              "    <tr>\n",
              "      <th>0-300m</th>\n",
              "      <td>534873.0</td>\n",
              "      <td>19103.0</td>\n",
              "      <td>28</td>\n",
              "      <td>2.57</td>\n",
              "    </tr>\n",
              "    <tr>\n",
              "      <th>300-600m</th>\n",
              "      <td>3000834.0</td>\n",
              "      <td>16579.0</td>\n",
              "      <td>181</td>\n",
              "      <td>14.41</td>\n",
              "    </tr>\n",
              "    <tr>\n",
              "      <th>600-850m</th>\n",
              "      <td>8068629.0</td>\n",
              "      <td>24750.0</td>\n",
              "      <td>326</td>\n",
              "      <td>38.73</td>\n",
              "    </tr>\n",
              "    <tr>\n",
              "      <th>850-1100m</th>\n",
              "      <td>8481763.0</td>\n",
              "      <td>32250.0</td>\n",
              "      <td>263</td>\n",
              "      <td>40.72</td>\n",
              "    </tr>\n",
              "    <tr>\n",
              "      <th>1100-1600m</th>\n",
              "      <td>744722.0</td>\n",
              "      <td>15198.0</td>\n",
              "      <td>49</td>\n",
              "      <td>3.58</td>\n",
              "    </tr>\n",
              "  </tbody>\n",
              "</table>\n",
              "</div>"
            ],
            "text/plain": [
              "                  sum     mean  size  population_share\n",
              "ALTITUDE                                              \n",
              "0-300m       534873.0  19103.0    28              2.57\n",
              "300-600m    3000834.0  16579.0   181             14.41\n",
              "600-850m    8068629.0  24750.0   326             38.73\n",
              "850-1100m   8481763.0  32250.0   263             40.72\n",
              "1100-1600m   744722.0  15198.0    49              3.58"
            ]
          },
          "metadata": {
            "tags": []
          },
          "execution_count": 23
        }
      ]
    },
    {
      "cell_type": "markdown",
      "metadata": {
        "id": "spatial-pilot"
      },
      "source": [
        "## Ploting Data"
      ],
      "id": "spatial-pilot"
    },
    {
      "cell_type": "code",
      "metadata": {
        "id": "koJ3KKE_qcFy"
      },
      "source": [
        "title_font = 20\n",
        "label_font = 14\n",
        "plt.rcParams[\"figure.figsize\"] = [9, 6]\n",
        "def plot_bar(*args):\n",
        "  plt.barh(args[0],args[1])\n",
        "  plt.title(f'{args[2]} por faixa de altitude - Minas Gerais',fontsize=title_font)\n",
        "  plt.xlabel(f'{args[2]}',fontsize=label_font)\n",
        "  plt.ylabel('Altitude Média Municipal',fontsize=label_font)\n",
        "  plt.xticks(fontsize=label_font)\n",
        "  plt.yticks(fontsize=label_font)\n",
        "  plt.grid(lw=\"0.2\")\n",
        "  plt.show()"
      ],
      "id": "koJ3KKE_qcFy",
      "execution_count": null,
      "outputs": []
    },
    {
      "cell_type": "code",
      "metadata": {
        "colab": {
          "base_uri": "https://localhost:8080/",
          "height": 419
        },
        "id": "imperial-satin",
        "outputId": "8f80dbb1-6840-4d14-e6d9-fede45b918a3"
      },
      "source": [
        "plot_bar(grouped_altitudes.index,grouped_altitudes[\"size\"],\"Número de municípios\")"
      ],
      "id": "imperial-satin",
      "execution_count": null,
      "outputs": [
        {
          "output_type": "display_data",
          "data": {
            "image/png": "[encoded data removed]",
            "text/plain": [
              "<Figure size 648x432 with 1 Axes>"
            ]
          },
          "metadata": {
            "tags": [],
            "needs_background": "light"
          }
        }
      ]
    },
    {
      "cell_type": "code",
      "metadata": {
        "colab": {
          "base_uri": "https://localhost:8080/",
          "height": 417
        },
        "id": "registered-bidding",
        "outputId": "c697b6a1-09e9-4a6d-cc36-dd3168cde3f7"
      },
      "source": [
        "plot_bar(grouped_altitudes.index,grouped_altitudes[\"population_share\"],\"% da população\")"
      ],
      "id": "registered-bidding",
      "execution_count": null,
      "outputs": [
        {
          "output_type": "display_data",
          "data": {
            "image/png": "[encoded data removed]",
            "text/plain": [
              "<Figure size 648x432 with 1 Axes>"
            ]
          },
          "metadata": {
            "tags": [],
            "needs_background": "light"
          }
        }
      ]
    }
  ]
}